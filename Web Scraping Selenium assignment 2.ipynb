{
 "cells": [
  {
   "cell_type": "code",
   "execution_count": 1,
   "id": "5b6bf320",
   "metadata": {},
   "outputs": [
    {
     "name": "stdout",
     "output_type": "stream",
     "text": [
      "Requirement already satisfied: selenium in c:\\programdata\\anaconda3\\lib\\site-packages (4.1.3)\n",
      "Requirement already satisfied: trio~=0.17 in c:\\programdata\\anaconda3\\lib\\site-packages (from selenium) (0.20.0)\n",
      "Requirement already satisfied: trio-websocket~=0.9 in c:\\programdata\\anaconda3\\lib\\site-packages (from selenium) (0.9.2)\n",
      "Requirement already satisfied: urllib3[secure,socks]~=1.26 in c:\\programdata\\anaconda3\\lib\\site-packages (from selenium) (1.26.7)\n",
      "Requirement already satisfied: async-generator>=1.9 in c:\\programdata\\anaconda3\\lib\\site-packages (from trio~=0.17->selenium) (1.10)\n",
      "Requirement already satisfied: outcome in c:\\programdata\\anaconda3\\lib\\site-packages (from trio~=0.17->selenium) (1.1.0)\n",
      "Requirement already satisfied: idna in c:\\programdata\\anaconda3\\lib\\site-packages (from trio~=0.17->selenium) (3.2)\n",
      "Requirement already satisfied: cffi>=1.14 in c:\\programdata\\anaconda3\\lib\\site-packages (from trio~=0.17->selenium) (1.14.6)\n",
      "Requirement already satisfied: sniffio in c:\\programdata\\anaconda3\\lib\\site-packages (from trio~=0.17->selenium) (1.2.0)\n",
      "Requirement already satisfied: sortedcontainers in c:\\programdata\\anaconda3\\lib\\site-packages (from trio~=0.17->selenium) (2.4.0)\n",
      "Requirement already satisfied: attrs>=19.2.0 in c:\\programdata\\anaconda3\\lib\\site-packages (from trio~=0.17->selenium) (21.2.0)\n",
      "Requirement already satisfied: pycparser in c:\\programdata\\anaconda3\\lib\\site-packages (from cffi>=1.14->trio~=0.17->selenium) (2.20)\n",
      "Requirement already satisfied: wsproto>=0.14 in c:\\programdata\\anaconda3\\lib\\site-packages (from trio-websocket~=0.9->selenium) (1.1.0)\n",
      "Requirement already satisfied: pyOpenSSL>=0.14 in c:\\programdata\\anaconda3\\lib\\site-packages (from urllib3[secure,socks]~=1.26->selenium) (21.0.0)\n",
      "Requirement already satisfied: cryptography>=1.3.4 in c:\\programdata\\anaconda3\\lib\\site-packages (from urllib3[secure,socks]~=1.26->selenium) (3.4.8)\n",
      "Requirement already satisfied: certifi in c:\\programdata\\anaconda3\\lib\\site-packages (from urllib3[secure,socks]~=1.26->selenium) (2021.10.8)\n",
      "Requirement already satisfied: PySocks!=1.5.7,<2.0,>=1.5.6 in c:\\programdata\\anaconda3\\lib\\site-packages (from urllib3[secure,socks]~=1.26->selenium) (1.7.1)\n",
      "Requirement already satisfied: six>=1.5.2 in c:\\programdata\\anaconda3\\lib\\site-packages (from pyOpenSSL>=0.14->urllib3[secure,socks]~=1.26->selenium) (1.16.0)\n",
      "Requirement already satisfied: h11<1,>=0.9.0 in c:\\programdata\\anaconda3\\lib\\site-packages (from wsproto>=0.14->trio-websocket~=0.9->selenium) (0.13.0)\n"
     ]
    }
   ],
   "source": [
    "! pip install selenium"
   ]
  },
  {
   "cell_type": "markdown",
   "id": "4c2667b0",
   "metadata": {},
   "source": [
    "# Q1: Write a python program to scrape data for “Data Analyst” Job position in “Bangalore” location.\n",
    "You have to scrape the job-title, job-location, company_name, experience_required. You have to scrape first 10\n",
    "jobs data."
   ]
  },
  {
   "cell_type": "code",
   "execution_count": 3,
   "id": "52193ea9",
   "metadata": {},
   "outputs": [],
   "source": [
    "import selenium\n",
    "import pandas as pd\n",
    "from selenium import webdriver\n",
    "import warnings\n",
    "warnings.filterwarnings(\"ignore\")\n",
    "import time"
   ]
  },
  {
   "cell_type": "code",
   "execution_count": 6,
   "id": "aae5fbd3",
   "metadata": {},
   "outputs": [],
   "source": [
    "driver=webdriver.Chrome(\"chromedriver.exe\")"
   ]
  },
  {
   "cell_type": "code",
   "execution_count": 7,
   "id": "b489811c",
   "metadata": {},
   "outputs": [],
   "source": [
    "driver.get('https://www.naukri.com/')"
   ]
  },
  {
   "cell_type": "code",
   "execution_count": 9,
   "id": "6047e895",
   "metadata": {},
   "outputs": [],
   "source": [
    "search_field_designation=driver.find_element_by_class_name(\"suggestor-input\")\n",
    "search_field_designation.send_keys(\"Data Analyst\")"
   ]
  },
  {
   "cell_type": "code",
   "execution_count": 10,
   "id": "e0c4c281",
   "metadata": {},
   "outputs": [],
   "source": [
    "search_field_location=driver.find_element_by_xpath(\"/html/body/div/div[2]/div[3]/div/div/div[3]/div/div/div/input\")\n",
    "search_field_location.send_keys(\"Bangalore\")"
   ]
  },
  {
   "cell_type": "code",
   "execution_count": 12,
   "id": "c8cb07b3",
   "metadata": {},
   "outputs": [],
   "source": [
    "search_button=driver.find_element_by_xpath(\"/html/body/div/div[2]/div[3]/div/div/div[6]\")\n",
    "search_button.click()"
   ]
  },
  {
   "cell_type": "code",
   "execution_count": 32,
   "id": "40c44771",
   "metadata": {},
   "outputs": [],
   "source": [
    "job_title=[]\n",
    "company_names=[]\n",
    "location_list=[]\n",
    "experince_list=[]"
   ]
  },
  {
   "cell_type": "code",
   "execution_count": 14,
   "id": "e9779a1d",
   "metadata": {},
   "outputs": [
    {
     "data": {
      "text/plain": [
       "[<selenium.webdriver.remote.webelement.WebElement (session=\"23de6de5f450a642bdb79a1ae872ece9\", element=\"6025c6c9-5167-409b-84e2-08ed14a8406d\")>,\n",
       " <selenium.webdriver.remote.webelement.WebElement (session=\"23de6de5f450a642bdb79a1ae872ece9\", element=\"04419f8d-d623-4efe-8222-07f1c0937448\")>,\n",
       " <selenium.webdriver.remote.webelement.WebElement (session=\"23de6de5f450a642bdb79a1ae872ece9\", element=\"77e8fd31-e299-48e2-9719-b84ba1ebc5ab\")>,\n",
       " <selenium.webdriver.remote.webelement.WebElement (session=\"23de6de5f450a642bdb79a1ae872ece9\", element=\"98f883e2-67dc-4c6f-a73d-067f933ed8e7\")>,\n",
       " <selenium.webdriver.remote.webelement.WebElement (session=\"23de6de5f450a642bdb79a1ae872ece9\", element=\"1cf2bdae-1fb3-4b77-aa2f-b19873448ac4\")>,\n",
       " <selenium.webdriver.remote.webelement.WebElement (session=\"23de6de5f450a642bdb79a1ae872ece9\", element=\"ce5cf39e-df3c-4857-9a75-60d326190d08\")>,\n",
       " <selenium.webdriver.remote.webelement.WebElement (session=\"23de6de5f450a642bdb79a1ae872ece9\", element=\"37284614-81d6-417c-9e1d-bfd66a95e1e7\")>,\n",
       " <selenium.webdriver.remote.webelement.WebElement (session=\"23de6de5f450a642bdb79a1ae872ece9\", element=\"33d5aa62-a559-4f3c-b19a-786eaf0008d1\")>,\n",
       " <selenium.webdriver.remote.webelement.WebElement (session=\"23de6de5f450a642bdb79a1ae872ece9\", element=\"eb45952b-a961-47c7-9f45-49b63a246a4a\")>,\n",
       " <selenium.webdriver.remote.webelement.WebElement (session=\"23de6de5f450a642bdb79a1ae872ece9\", element=\"fd4850e7-65fb-4b0f-b730-59ca15c252fd\")>]"
      ]
     },
     "execution_count": 14,
     "metadata": {},
     "output_type": "execute_result"
    }
   ],
   "source": [
    "titles_tags=driver.find_elements_by_xpath(\"//a[@class='title fw500 ellipsis']\")\n",
    "titles_tags[0:10]"
   ]
  },
  {
   "cell_type": "code",
   "execution_count": 36,
   "id": "213fa0b7",
   "metadata": {},
   "outputs": [
    {
     "data": {
      "text/plain": [
       "['Sr Data Analyst II',\n",
       " 'Senior Business Analyst - Data Sciences and Advanced Analytics',\n",
       " 'Business and Data Analyst',\n",
       " 'Data Analyst - Python / SQL',\n",
       " 'Data Analyst 2-1',\n",
       " 'Senior Data Analyst',\n",
       " 'Data Analyst',\n",
       " 'Senior Data Analyst',\n",
       " 'Jr . Data Analyst',\n",
       " 'Senior Data Analyst, Data & Analytics']"
      ]
     },
     "execution_count": 36,
     "metadata": {},
     "output_type": "execute_result"
    }
   ],
   "source": [
    "for i in titles_tags:\n",
    "    title=i.text\n",
    "    job_title.append(title)\n",
    "job_title[0:10]"
   ]
  },
  {
   "cell_type": "code",
   "execution_count": 20,
   "id": "9c5b4620",
   "metadata": {},
   "outputs": [
    {
     "data": {
      "text/plain": [
       "[<selenium.webdriver.remote.webelement.WebElement (session=\"23de6de5f450a642bdb79a1ae872ece9\", element=\"324f7b2a-f485-419c-9258-e59e78cd5e07\")>,\n",
       " <selenium.webdriver.remote.webelement.WebElement (session=\"23de6de5f450a642bdb79a1ae872ece9\", element=\"f0ee3b48-1c0d-4250-a845-09e709691f8d\")>,\n",
       " <selenium.webdriver.remote.webelement.WebElement (session=\"23de6de5f450a642bdb79a1ae872ece9\", element=\"230016c8-14bc-4d1c-971c-fa21a68c37c2\")>,\n",
       " <selenium.webdriver.remote.webelement.WebElement (session=\"23de6de5f450a642bdb79a1ae872ece9\", element=\"08b771cc-a08c-4498-80a6-a5b44da36143\")>,\n",
       " <selenium.webdriver.remote.webelement.WebElement (session=\"23de6de5f450a642bdb79a1ae872ece9\", element=\"71f6ee9e-d8e6-4842-9f06-6913f3afeeae\")>,\n",
       " <selenium.webdriver.remote.webelement.WebElement (session=\"23de6de5f450a642bdb79a1ae872ece9\", element=\"23db44e9-ff15-4cc9-bea6-04b326f2a471\")>,\n",
       " <selenium.webdriver.remote.webelement.WebElement (session=\"23de6de5f450a642bdb79a1ae872ece9\", element=\"4532221d-809f-43c3-bf98-434c145af6f4\")>,\n",
       " <selenium.webdriver.remote.webelement.WebElement (session=\"23de6de5f450a642bdb79a1ae872ece9\", element=\"8a20d59b-82da-4f9e-b229-0f4bbab94d50\")>,\n",
       " <selenium.webdriver.remote.webelement.WebElement (session=\"23de6de5f450a642bdb79a1ae872ece9\", element=\"2a071f19-caf2-405b-8920-80d9225b1548\")>,\n",
       " <selenium.webdriver.remote.webelement.WebElement (session=\"23de6de5f450a642bdb79a1ae872ece9\", element=\"877348da-564b-457e-8076-784a2f941eb2\")>]"
      ]
     },
     "execution_count": 20,
     "metadata": {},
     "output_type": "execute_result"
    }
   ],
   "source": [
    "locations_tags=driver.find_elements_by_xpath(\"//li[@class='fleft grey-text br2 placeHolderLi location']\")\n",
    "locations_tags[0:10]"
   ]
  },
  {
   "cell_type": "code",
   "execution_count": 38,
   "id": "bff3b129",
   "metadata": {},
   "outputs": [
    {
     "data": {
      "text/plain": [
       "['Gurgaon/Gurugram, Bangalore/Bengaluru',\n",
       " 'Bangalore/Bengaluru',\n",
       " 'Bangalore/Bengaluru\\n(WFH during Covid)',\n",
       " 'Bangalore/Bengaluru',\n",
       " 'Bangalore/Bengaluru',\n",
       " 'Pune, Gurgaon/Gurugram, Chennai, Bangalore/Bengaluru',\n",
       " 'Bangalore/Bengaluru',\n",
       " 'Bangalore/Bengaluru',\n",
       " 'Bangalore/Bengaluru',\n",
       " 'Bangalore/Bengaluru']"
      ]
     },
     "execution_count": 38,
     "metadata": {},
     "output_type": "execute_result"
    }
   ],
   "source": [
    "for i in locations_tags:\n",
    "    location=i.text\n",
    "    location_list.append(location)\n",
    "location_list[0:10]"
   ]
  },
  {
   "cell_type": "code",
   "execution_count": 22,
   "id": "0c938afd",
   "metadata": {},
   "outputs": [
    {
     "data": {
      "text/plain": [
       "[<selenium.webdriver.remote.webelement.WebElement (session=\"23de6de5f450a642bdb79a1ae872ece9\", element=\"644ee058-327b-4f7a-8827-24affffa86cf\")>,\n",
       " <selenium.webdriver.remote.webelement.WebElement (session=\"23de6de5f450a642bdb79a1ae872ece9\", element=\"4b055a9a-89f8-4873-b08e-4db721259ced\")>,\n",
       " <selenium.webdriver.remote.webelement.WebElement (session=\"23de6de5f450a642bdb79a1ae872ece9\", element=\"d4060cc9-975d-4573-a686-a3728195c4bc\")>,\n",
       " <selenium.webdriver.remote.webelement.WebElement (session=\"23de6de5f450a642bdb79a1ae872ece9\", element=\"501004a3-855a-40c7-80ab-fc182b414eac\")>,\n",
       " <selenium.webdriver.remote.webelement.WebElement (session=\"23de6de5f450a642bdb79a1ae872ece9\", element=\"3fde46b4-9977-497d-bbea-552bf09e8472\")>,\n",
       " <selenium.webdriver.remote.webelement.WebElement (session=\"23de6de5f450a642bdb79a1ae872ece9\", element=\"808da932-026e-4e5b-ab84-f9817245b412\")>,\n",
       " <selenium.webdriver.remote.webelement.WebElement (session=\"23de6de5f450a642bdb79a1ae872ece9\", element=\"bd063906-9a7e-4e89-8760-c1418ee214fd\")>,\n",
       " <selenium.webdriver.remote.webelement.WebElement (session=\"23de6de5f450a642bdb79a1ae872ece9\", element=\"85dffaf2-3b98-4d08-8a1b-a7293c512718\")>,\n",
       " <selenium.webdriver.remote.webelement.WebElement (session=\"23de6de5f450a642bdb79a1ae872ece9\", element=\"54eb6344-db6b-4fb5-aae5-c77131ebdac4\")>,\n",
       " <selenium.webdriver.remote.webelement.WebElement (session=\"23de6de5f450a642bdb79a1ae872ece9\", element=\"4547311f-d6fa-4c68-b9e0-6b1aaa999328\")>,\n",
       " <selenium.webdriver.remote.webelement.WebElement (session=\"23de6de5f450a642bdb79a1ae872ece9\", element=\"ce66bfe0-44f4-4389-878d-681f43ca1486\")>,\n",
       " <selenium.webdriver.remote.webelement.WebElement (session=\"23de6de5f450a642bdb79a1ae872ece9\", element=\"8ef439b8-eae2-4458-a134-d1eac10933f2\")>,\n",
       " <selenium.webdriver.remote.webelement.WebElement (session=\"23de6de5f450a642bdb79a1ae872ece9\", element=\"f88ad315-5014-4a29-b413-e0b9dc8928e8\")>,\n",
       " <selenium.webdriver.remote.webelement.WebElement (session=\"23de6de5f450a642bdb79a1ae872ece9\", element=\"6e47e59c-4d5e-4017-8a7a-b00e0feac4cd\")>,\n",
       " <selenium.webdriver.remote.webelement.WebElement (session=\"23de6de5f450a642bdb79a1ae872ece9\", element=\"3cf2dd1e-c0b1-4582-82ef-ffe20e406e13\")>,\n",
       " <selenium.webdriver.remote.webelement.WebElement (session=\"23de6de5f450a642bdb79a1ae872ece9\", element=\"4c2288c3-1e92-43d7-9fb2-ae5e17f1079e\")>,\n",
       " <selenium.webdriver.remote.webelement.WebElement (session=\"23de6de5f450a642bdb79a1ae872ece9\", element=\"b76deda9-438a-42e7-815f-83a408c78722\")>,\n",
       " <selenium.webdriver.remote.webelement.WebElement (session=\"23de6de5f450a642bdb79a1ae872ece9\", element=\"71949eaf-3beb-4f46-93d6-d8865cec8950\")>,\n",
       " <selenium.webdriver.remote.webelement.WebElement (session=\"23de6de5f450a642bdb79a1ae872ece9\", element=\"1f8997fe-cce3-49b7-9578-598f3edcccc6\")>,\n",
       " <selenium.webdriver.remote.webelement.WebElement (session=\"23de6de5f450a642bdb79a1ae872ece9\", element=\"d2b54f0a-5083-4f64-8f57-cb9866c500a8\")>]"
      ]
     },
     "execution_count": 22,
     "metadata": {},
     "output_type": "execute_result"
    }
   ],
   "source": [
    "experinces_tags=driver.find_elements_by_xpath(\"//li[@class='fleft grey-text br2 placeHolderLi experience']\")\n",
    "experinces_tags"
   ]
  },
  {
   "cell_type": "code",
   "execution_count": 40,
   "id": "472e2647",
   "metadata": {},
   "outputs": [
    {
     "data": {
      "text/plain": [
       "['3-6 Yrs',\n",
       " '3-7 Yrs',\n",
       " '0-5 Yrs',\n",
       " '1-4 Yrs',\n",
       " '5-8 Yrs',\n",
       " '7-12 Yrs',\n",
       " '3-5 Yrs',\n",
       " '3-7 Yrs',\n",
       " '0-2 Yrs',\n",
       " '3-5 Yrs']"
      ]
     },
     "execution_count": 40,
     "metadata": {},
     "output_type": "execute_result"
    }
   ],
   "source": [
    "for i in experinces_tags:\n",
    "    experince=i.text\n",
    "    experince_list.append(experince)\n",
    "experince_list[0:10]"
   ]
  },
  {
   "cell_type": "code",
   "execution_count": 28,
   "id": "e5c1b2dc",
   "metadata": {},
   "outputs": [
    {
     "data": {
      "text/plain": [
       "[<selenium.webdriver.remote.webelement.WebElement (session=\"23de6de5f450a642bdb79a1ae872ece9\", element=\"663eab3e-d13c-426d-b3c3-ad6e1d400720\")>,\n",
       " <selenium.webdriver.remote.webelement.WebElement (session=\"23de6de5f450a642bdb79a1ae872ece9\", element=\"8f090273-948e-4b37-ba83-b0f98be8d3cc\")>,\n",
       " <selenium.webdriver.remote.webelement.WebElement (session=\"23de6de5f450a642bdb79a1ae872ece9\", element=\"df831844-80a3-490e-9512-9a5b7e99fa28\")>,\n",
       " <selenium.webdriver.remote.webelement.WebElement (session=\"23de6de5f450a642bdb79a1ae872ece9\", element=\"95685483-183c-46cb-90dc-4421c812c8b5\")>,\n",
       " <selenium.webdriver.remote.webelement.WebElement (session=\"23de6de5f450a642bdb79a1ae872ece9\", element=\"8cf3af0a-0356-412f-9658-eeac46205221\")>,\n",
       " <selenium.webdriver.remote.webelement.WebElement (session=\"23de6de5f450a642bdb79a1ae872ece9\", element=\"fdfa9191-b24c-4ef0-8cb9-9faf198e0eef\")>,\n",
       " <selenium.webdriver.remote.webelement.WebElement (session=\"23de6de5f450a642bdb79a1ae872ece9\", element=\"8aa58fe3-e482-49a6-8c24-e91b92763562\")>,\n",
       " <selenium.webdriver.remote.webelement.WebElement (session=\"23de6de5f450a642bdb79a1ae872ece9\", element=\"a9cef257-9f96-4427-b68e-d70a9e3b8407\")>,\n",
       " <selenium.webdriver.remote.webelement.WebElement (session=\"23de6de5f450a642bdb79a1ae872ece9\", element=\"61de961d-d8da-4dea-beb9-d1e715be2a82\")>,\n",
       " <selenium.webdriver.remote.webelement.WebElement (session=\"23de6de5f450a642bdb79a1ae872ece9\", element=\"7af1b3ea-0344-48b7-b020-94d69603146e\")>]"
      ]
     },
     "execution_count": 28,
     "metadata": {},
     "output_type": "execute_result"
    }
   ],
   "source": [
    "companies_tags=driver.find_elements_by_xpath(\"//a[@class='subTitle ellipsis fleft']\")\n",
    "companies_tags[0:10]"
   ]
  },
  {
   "cell_type": "code",
   "execution_count": 33,
   "id": "3ab9afeb",
   "metadata": {},
   "outputs": [
    {
     "data": {
      "text/plain": [
       "['IHS Markit',\n",
       " 'Vmware',\n",
       " 'CAREERDOST ENTERPRISE',\n",
       " 'Myntra',\n",
       " 'PayPal',\n",
       " 'Capco',\n",
       " 'Concerto HealthAI',\n",
       " 'Gsn Games India',\n",
       " 'Armorblox',\n",
       " 'ReSource Pro Operational Solutions Pvt Ltd.']"
      ]
     },
     "execution_count": 33,
     "metadata": {},
     "output_type": "execute_result"
    }
   ],
   "source": [
    "for i in companies_tags:\n",
    "    company=i.text\n",
    "    company_names.append(company)\n",
    "company_names[0:10]"
   ]
  },
  {
   "cell_type": "code",
   "execution_count": 41,
   "id": "09f0bf1c",
   "metadata": {},
   "outputs": [
    {
     "name": "stdout",
     "output_type": "stream",
     "text": [
      "20 20 20 20\n"
     ]
    }
   ],
   "source": [
    "print(len(job_title),len(experince_list),len(location_list),len(company_names))"
   ]
  },
  {
   "cell_type": "code",
   "execution_count": 44,
   "id": "7c271a58",
   "metadata": {},
   "outputs": [],
   "source": [
    "jobs=pd.DataFrame({})\n",
    "jobs['title']=job_title\n",
    "jobs['company']=company_names\n",
    "jobs['experince_required']=experince_list\n",
    "jobs['location']=location_list"
   ]
  },
  {
   "cell_type": "code",
   "execution_count": 45,
   "id": "1ef73ea3",
   "metadata": {},
   "outputs": [
    {
     "data": {
      "text/html": [
       "<div>\n",
       "<style scoped>\n",
       "    .dataframe tbody tr th:only-of-type {\n",
       "        vertical-align: middle;\n",
       "    }\n",
       "\n",
       "    .dataframe tbody tr th {\n",
       "        vertical-align: top;\n",
       "    }\n",
       "\n",
       "    .dataframe thead th {\n",
       "        text-align: right;\n",
       "    }\n",
       "</style>\n",
       "<table border=\"1\" class=\"dataframe\">\n",
       "  <thead>\n",
       "    <tr style=\"text-align: right;\">\n",
       "      <th></th>\n",
       "      <th>title</th>\n",
       "      <th>company</th>\n",
       "      <th>experince_required</th>\n",
       "      <th>location</th>\n",
       "    </tr>\n",
       "  </thead>\n",
       "  <tbody>\n",
       "    <tr>\n",
       "      <th>0</th>\n",
       "      <td>Sr Data Analyst II</td>\n",
       "      <td>IHS Markit</td>\n",
       "      <td>3-6 Yrs</td>\n",
       "      <td>Gurgaon/Gurugram, Bangalore/Bengaluru</td>\n",
       "    </tr>\n",
       "    <tr>\n",
       "      <th>1</th>\n",
       "      <td>Senior Business Analyst - Data Sciences and Ad...</td>\n",
       "      <td>Vmware</td>\n",
       "      <td>3-7 Yrs</td>\n",
       "      <td>Bangalore/Bengaluru</td>\n",
       "    </tr>\n",
       "    <tr>\n",
       "      <th>2</th>\n",
       "      <td>Business and Data Analyst</td>\n",
       "      <td>CAREERDOST ENTERPRISE</td>\n",
       "      <td>0-5 Yrs</td>\n",
       "      <td>Bangalore/Bengaluru\\n(WFH during Covid)</td>\n",
       "    </tr>\n",
       "    <tr>\n",
       "      <th>3</th>\n",
       "      <td>Data Analyst - Python / SQL</td>\n",
       "      <td>Myntra</td>\n",
       "      <td>1-4 Yrs</td>\n",
       "      <td>Bangalore/Bengaluru</td>\n",
       "    </tr>\n",
       "    <tr>\n",
       "      <th>4</th>\n",
       "      <td>Data Analyst 2-1</td>\n",
       "      <td>PayPal</td>\n",
       "      <td>5-8 Yrs</td>\n",
       "      <td>Bangalore/Bengaluru</td>\n",
       "    </tr>\n",
       "    <tr>\n",
       "      <th>5</th>\n",
       "      <td>Senior Data Analyst</td>\n",
       "      <td>Capco</td>\n",
       "      <td>7-12 Yrs</td>\n",
       "      <td>Pune, Gurgaon/Gurugram, Chennai, Bangalore/Ben...</td>\n",
       "    </tr>\n",
       "    <tr>\n",
       "      <th>6</th>\n",
       "      <td>Data Analyst</td>\n",
       "      <td>Concerto HealthAI</td>\n",
       "      <td>3-5 Yrs</td>\n",
       "      <td>Bangalore/Bengaluru</td>\n",
       "    </tr>\n",
       "    <tr>\n",
       "      <th>7</th>\n",
       "      <td>Senior Data Analyst</td>\n",
       "      <td>Gsn Games India</td>\n",
       "      <td>3-7 Yrs</td>\n",
       "      <td>Bangalore/Bengaluru</td>\n",
       "    </tr>\n",
       "    <tr>\n",
       "      <th>8</th>\n",
       "      <td>Jr . Data Analyst</td>\n",
       "      <td>Armorblox</td>\n",
       "      <td>0-2 Yrs</td>\n",
       "      <td>Bangalore/Bengaluru</td>\n",
       "    </tr>\n",
       "    <tr>\n",
       "      <th>9</th>\n",
       "      <td>Senior Data Analyst, Data &amp; Analytics</td>\n",
       "      <td>ReSource Pro Operational Solutions Pvt Ltd.</td>\n",
       "      <td>3-5 Yrs</td>\n",
       "      <td>Bangalore/Bengaluru</td>\n",
       "    </tr>\n",
       "    <tr>\n",
       "      <th>10</th>\n",
       "      <td>Data Analyst</td>\n",
       "      <td>G S E-COMMERCE PVT LTD</td>\n",
       "      <td>4-7 Yrs</td>\n",
       "      <td>Bangalore/Bengaluru(Jayanagar)</td>\n",
       "    </tr>\n",
       "    <tr>\n",
       "      <th>11</th>\n",
       "      <td>Data Analyst</td>\n",
       "      <td>Falcon Smart IT</td>\n",
       "      <td>2-6 Yrs</td>\n",
       "      <td>Bangalore/Bengaluru</td>\n",
       "    </tr>\n",
       "    <tr>\n",
       "      <th>12</th>\n",
       "      <td>Data Analyst</td>\n",
       "      <td>NUSTAR TECHNOLOGIES INDIA PRIVATE LIMITED</td>\n",
       "      <td>5-10 Yrs</td>\n",
       "      <td>Bangalore/Bengaluru</td>\n",
       "    </tr>\n",
       "    <tr>\n",
       "      <th>13</th>\n",
       "      <td>SAS Analyst / data Analyst / Business analyst ...</td>\n",
       "      <td>Leading US MNC into analytics</td>\n",
       "      <td>2-7 Yrs</td>\n",
       "      <td>Bangalore/Bengaluru, Delhi / NCR, Mumbai (All ...</td>\n",
       "    </tr>\n",
       "    <tr>\n",
       "      <th>14</th>\n",
       "      <td>Data Analyst II</td>\n",
       "      <td>Cerner</td>\n",
       "      <td>6-10 Yrs</td>\n",
       "      <td>Bangalore/Bengaluru</td>\n",
       "    </tr>\n",
       "    <tr>\n",
       "      <th>15</th>\n",
       "      <td>Reference Data Analyst</td>\n",
       "      <td>Deutsche Bank</td>\n",
       "      <td>2-5 Yrs</td>\n",
       "      <td>Bangalore/Bengaluru</td>\n",
       "    </tr>\n",
       "    <tr>\n",
       "      <th>16</th>\n",
       "      <td>Hiring For Data Analyst with SAP ABAP &amp; BW - C...</td>\n",
       "      <td>MILLION MINDS INFOTECH PRIVATE LIMITED</td>\n",
       "      <td>7-10 Yrs</td>\n",
       "      <td>Bangalore/Bengaluru\\n(WFH during Covid)</td>\n",
       "    </tr>\n",
       "    <tr>\n",
       "      <th>17</th>\n",
       "      <td>Officer - Category Demand Management ( Data An...</td>\n",
       "      <td>Myntra</td>\n",
       "      <td>1-4 Yrs</td>\n",
       "      <td>Bangalore/Bengaluru</td>\n",
       "    </tr>\n",
       "    <tr>\n",
       "      <th>18</th>\n",
       "      <td>Software Technologist II - Data Analyst</td>\n",
       "      <td>Philips</td>\n",
       "      <td>5-8 Yrs</td>\n",
       "      <td>Bangalore/Bengaluru</td>\n",
       "    </tr>\n",
       "    <tr>\n",
       "      <th>19</th>\n",
       "      <td>Information Analyst, Data Management</td>\n",
       "      <td>Ocwen</td>\n",
       "      <td>5-10 Yrs</td>\n",
       "      <td>Bangalore/Bengaluru\\n(WFH during Covid)</td>\n",
       "    </tr>\n",
       "  </tbody>\n",
       "</table>\n",
       "</div>"
      ],
      "text/plain": [
       "                                                title  \\\n",
       "0                                  Sr Data Analyst II   \n",
       "1   Senior Business Analyst - Data Sciences and Ad...   \n",
       "2                           Business and Data Analyst   \n",
       "3                         Data Analyst - Python / SQL   \n",
       "4                                    Data Analyst 2-1   \n",
       "5                                 Senior Data Analyst   \n",
       "6                                        Data Analyst   \n",
       "7                                 Senior Data Analyst   \n",
       "8                                   Jr . Data Analyst   \n",
       "9               Senior Data Analyst, Data & Analytics   \n",
       "10                                       Data Analyst   \n",
       "11                                       Data Analyst   \n",
       "12                                       Data Analyst   \n",
       "13  SAS Analyst / data Analyst / Business analyst ...   \n",
       "14                                    Data Analyst II   \n",
       "15                             Reference Data Analyst   \n",
       "16  Hiring For Data Analyst with SAP ABAP & BW - C...   \n",
       "17  Officer - Category Demand Management ( Data An...   \n",
       "18            Software Technologist II - Data Analyst   \n",
       "19               Information Analyst, Data Management   \n",
       "\n",
       "                                        company experince_required  \\\n",
       "0                                    IHS Markit            3-6 Yrs   \n",
       "1                                        Vmware            3-7 Yrs   \n",
       "2                         CAREERDOST ENTERPRISE            0-5 Yrs   \n",
       "3                                        Myntra            1-4 Yrs   \n",
       "4                                        PayPal            5-8 Yrs   \n",
       "5                                         Capco           7-12 Yrs   \n",
       "6                             Concerto HealthAI            3-5 Yrs   \n",
       "7                               Gsn Games India            3-7 Yrs   \n",
       "8                                     Armorblox            0-2 Yrs   \n",
       "9   ReSource Pro Operational Solutions Pvt Ltd.            3-5 Yrs   \n",
       "10                       G S E-COMMERCE PVT LTD            4-7 Yrs   \n",
       "11                              Falcon Smart IT            2-6 Yrs   \n",
       "12    NUSTAR TECHNOLOGIES INDIA PRIVATE LIMITED           5-10 Yrs   \n",
       "13                Leading US MNC into analytics            2-7 Yrs   \n",
       "14                                       Cerner           6-10 Yrs   \n",
       "15                                Deutsche Bank            2-5 Yrs   \n",
       "16       MILLION MINDS INFOTECH PRIVATE LIMITED           7-10 Yrs   \n",
       "17                                       Myntra            1-4 Yrs   \n",
       "18                                      Philips            5-8 Yrs   \n",
       "19                                        Ocwen           5-10 Yrs   \n",
       "\n",
       "                                             location  \n",
       "0               Gurgaon/Gurugram, Bangalore/Bengaluru  \n",
       "1                                 Bangalore/Bengaluru  \n",
       "2             Bangalore/Bengaluru\\n(WFH during Covid)  \n",
       "3                                 Bangalore/Bengaluru  \n",
       "4                                 Bangalore/Bengaluru  \n",
       "5   Pune, Gurgaon/Gurugram, Chennai, Bangalore/Ben...  \n",
       "6                                 Bangalore/Bengaluru  \n",
       "7                                 Bangalore/Bengaluru  \n",
       "8                                 Bangalore/Bengaluru  \n",
       "9                                 Bangalore/Bengaluru  \n",
       "10                     Bangalore/Bengaluru(Jayanagar)  \n",
       "11                                Bangalore/Bengaluru  \n",
       "12                                Bangalore/Bengaluru  \n",
       "13  Bangalore/Bengaluru, Delhi / NCR, Mumbai (All ...  \n",
       "14                                Bangalore/Bengaluru  \n",
       "15                                Bangalore/Bengaluru  \n",
       "16            Bangalore/Bengaluru\\n(WFH during Covid)  \n",
       "17                                Bangalore/Bengaluru  \n",
       "18                                Bangalore/Bengaluru  \n",
       "19            Bangalore/Bengaluru\\n(WFH during Covid)  "
      ]
     },
     "execution_count": 45,
     "metadata": {},
     "output_type": "execute_result"
    }
   ],
   "source": [
    "jobs"
   ]
  },
  {
   "cell_type": "code",
   "execution_count": 46,
   "id": "46e60cdc",
   "metadata": {},
   "outputs": [],
   "source": [
    "jobs.to_csv('Bangolre Data Anayst jobs',index=False)"
   ]
  },
  {
   "cell_type": "code",
   "execution_count": 47,
   "id": "bbb935a2",
   "metadata": {},
   "outputs": [],
   "source": [
    "driver.close()"
   ]
  },
  {
   "cell_type": "markdown",
   "id": "c6763c75",
   "metadata": {},
   "source": [
    "# Q2: Write a python program to scrape data for “Data Scientist” Job position in “Bangalore” location.\n",
    "You have to scrape the job-title, job-location, company_name. You have to scrape first 10 jobs data.\n",
    "This task will be done in following steps:"
   ]
  },
  {
   "cell_type": "code",
   "execution_count": 158,
   "id": "ee0df749",
   "metadata": {},
   "outputs": [],
   "source": [
    "import selenium\n",
    "import pandas as pd\n",
    "from selenium import webdriver\n",
    "import warnings\n",
    "warnings.filterwarnings(\"ignore\")\n",
    "import time"
   ]
  },
  {
   "cell_type": "code",
   "execution_count": 159,
   "id": "4ee62161",
   "metadata": {},
   "outputs": [],
   "source": [
    "driver=webdriver.Chrome(\"chromedriver.exe\")"
   ]
  },
  {
   "cell_type": "code",
   "execution_count": 160,
   "id": "5503ff40",
   "metadata": {},
   "outputs": [],
   "source": [
    "driver.get('https://www.naukri.com/')"
   ]
  },
  {
   "cell_type": "code",
   "execution_count": 161,
   "id": "131efd79",
   "metadata": {},
   "outputs": [],
   "source": [
    "search_field_desiganation=driver.find_element_by_class_name(\"suggestor-input \")\n",
    "search_field_desiganation.send_keys(\"Data Scientist\")"
   ]
  },
  {
   "cell_type": "code",
   "execution_count": 162,
   "id": "ce866816",
   "metadata": {},
   "outputs": [],
   "source": [
    "search_field_location=driver.find_element_by_xpath(\"/html/body/div/div[2]/div[3]/div/div/div[3]/div/div/div/input\")\n",
    "search_field_location.send_keys(\"Bangalore\")"
   ]
  },
  {
   "cell_type": "code",
   "execution_count": 163,
   "id": "55a64049",
   "metadata": {},
   "outputs": [],
   "source": [
    "search_button=driver.find_element_by_xpath(\"/html/body/div/div[2]/div[3]/div/div/div[6]\")\n",
    "search_button.click()"
   ]
  },
  {
   "cell_type": "code",
   "execution_count": 164,
   "id": "19c710bf",
   "metadata": {},
   "outputs": [],
   "source": [
    "job_titles=[]\n",
    "job_location=[]\n",
    "company_name=[]"
   ]
  },
  {
   "cell_type": "code",
   "execution_count": 165,
   "id": "e617c56b",
   "metadata": {},
   "outputs": [
    {
     "data": {
      "text/plain": [
       "[<selenium.webdriver.remote.webelement.WebElement (session=\"1627fa8f8e03753c2b0727e29dae2e1d\", element=\"be399c1b-1718-449d-84c8-9ae304b96575\")>,\n",
       " <selenium.webdriver.remote.webelement.WebElement (session=\"1627fa8f8e03753c2b0727e29dae2e1d\", element=\"f160fd44-822c-4ded-b755-fe504f4f65b4\")>,\n",
       " <selenium.webdriver.remote.webelement.WebElement (session=\"1627fa8f8e03753c2b0727e29dae2e1d\", element=\"d3f98cdd-4161-4cb9-a52c-0f3fbfbfdb6d\")>,\n",
       " <selenium.webdriver.remote.webelement.WebElement (session=\"1627fa8f8e03753c2b0727e29dae2e1d\", element=\"98d0036e-e93d-4bd4-a17b-e8dd168e0d96\")>,\n",
       " <selenium.webdriver.remote.webelement.WebElement (session=\"1627fa8f8e03753c2b0727e29dae2e1d\", element=\"cc68165f-3259-46cd-a354-42f9a0ab3d67\")>,\n",
       " <selenium.webdriver.remote.webelement.WebElement (session=\"1627fa8f8e03753c2b0727e29dae2e1d\", element=\"8e99bccb-6b7a-457f-8c68-c964a2347b40\")>,\n",
       " <selenium.webdriver.remote.webelement.WebElement (session=\"1627fa8f8e03753c2b0727e29dae2e1d\", element=\"f7d4ed7f-3c73-46b9-9127-90b0a68d0363\")>,\n",
       " <selenium.webdriver.remote.webelement.WebElement (session=\"1627fa8f8e03753c2b0727e29dae2e1d\", element=\"a52967e9-ff77-41e8-80cd-c36bd30736af\")>,\n",
       " <selenium.webdriver.remote.webelement.WebElement (session=\"1627fa8f8e03753c2b0727e29dae2e1d\", element=\"267381c0-e0e8-4611-b112-3d4a9cc1e769\")>,\n",
       " <selenium.webdriver.remote.webelement.WebElement (session=\"1627fa8f8e03753c2b0727e29dae2e1d\", element=\"f0a7559c-e44c-4394-949f-6b4a738c9afa\")>]"
      ]
     },
     "execution_count": 165,
     "metadata": {},
     "output_type": "execute_result"
    }
   ],
   "source": [
    "titles_tags=driver.find_elements_by_xpath(\"//a[@class='title fw500 ellipsis']\")\n",
    "titles_tags[0:10]"
   ]
  },
  {
   "cell_type": "code",
   "execution_count": 166,
   "id": "9088be60",
   "metadata": {},
   "outputs": [
    {
     "data": {
      "text/plain": [
       "['Rolls-Royce Data Labs : Data Scientist',\n",
       " 'Data Scientist: Artificial Intelligence',\n",
       " 'Staff Data Scientist',\n",
       " 'Sr Data Scientist',\n",
       " 'Data Scientist 1',\n",
       " 'Data Scientist Opportunity with PayU - Diversity Hiring',\n",
       " 'Lead Data Scientist',\n",
       " 'Senior Data Scientist',\n",
       " 'Cognitive/AI Senior Data Scientist',\n",
       " 'Assistant Manager/Manager/Senior Manager - Data Scientist']"
      ]
     },
     "execution_count": 166,
     "metadata": {},
     "output_type": "execute_result"
    }
   ],
   "source": [
    "for i in titles_tags:\n",
    "    title=i.text\n",
    "    job_titles.append(title)\n",
    "job_titles[0:10]"
   ]
  },
  {
   "cell_type": "code",
   "execution_count": 167,
   "id": "89ec9815",
   "metadata": {},
   "outputs": [
    {
     "data": {
      "text/plain": [
       "[<selenium.webdriver.remote.webelement.WebElement (session=\"1627fa8f8e03753c2b0727e29dae2e1d\", element=\"739f9fea-a84d-49e2-8a88-48b064bdf85c\")>,\n",
       " <selenium.webdriver.remote.webelement.WebElement (session=\"1627fa8f8e03753c2b0727e29dae2e1d\", element=\"e08daa14-caa9-491b-aa1e-40563e8f2397\")>,\n",
       " <selenium.webdriver.remote.webelement.WebElement (session=\"1627fa8f8e03753c2b0727e29dae2e1d\", element=\"9bc105d9-6372-45fc-b882-9d66feb23c87\")>,\n",
       " <selenium.webdriver.remote.webelement.WebElement (session=\"1627fa8f8e03753c2b0727e29dae2e1d\", element=\"b98e8c77-a458-4a3c-9994-1b70b2e8c11c\")>,\n",
       " <selenium.webdriver.remote.webelement.WebElement (session=\"1627fa8f8e03753c2b0727e29dae2e1d\", element=\"d8cc972b-0bbf-45eb-81f8-e050ef4ec765\")>,\n",
       " <selenium.webdriver.remote.webelement.WebElement (session=\"1627fa8f8e03753c2b0727e29dae2e1d\", element=\"9f8de443-9783-414b-a61d-507b1719da74\")>,\n",
       " <selenium.webdriver.remote.webelement.WebElement (session=\"1627fa8f8e03753c2b0727e29dae2e1d\", element=\"0dcd0307-fc4c-4c83-ada4-fb22a6663357\")>,\n",
       " <selenium.webdriver.remote.webelement.WebElement (session=\"1627fa8f8e03753c2b0727e29dae2e1d\", element=\"95cae2ef-ebcb-43d0-92b8-0e6d1ac43b77\")>,\n",
       " <selenium.webdriver.remote.webelement.WebElement (session=\"1627fa8f8e03753c2b0727e29dae2e1d\", element=\"fb302d50-6d79-4754-8a6b-6e43cdd9bb91\")>,\n",
       " <selenium.webdriver.remote.webelement.WebElement (session=\"1627fa8f8e03753c2b0727e29dae2e1d\", element=\"3f91381e-77a9-466d-af59-37bebd3d0299\")>]"
      ]
     },
     "execution_count": 167,
     "metadata": {},
     "output_type": "execute_result"
    }
   ],
   "source": [
    "location_tags=driver.find_elements_by_xpath(\"//li[@class='fleft grey-text br2 placeHolderLi location']\")\n",
    "location_tags[0:10]"
   ]
  },
  {
   "cell_type": "code",
   "execution_count": 168,
   "id": "fa2de778",
   "metadata": {},
   "outputs": [
    {
     "data": {
      "text/plain": [
       "['Bangalore/Bengaluru',\n",
       " 'Bangalore/Bengaluru',\n",
       " 'Bangalore/Bengaluru',\n",
       " 'Bangalore/Bengaluru',\n",
       " 'Bangalore/Bengaluru',\n",
       " 'Gurgaon/Gurugram, Bangalore/Bengaluru, Mumbai (All Areas)',\n",
       " 'Bangalore/Bengaluru',\n",
       " 'Bangalore/Bengaluru',\n",
       " 'Bangalore/Bengaluru',\n",
       " 'Gurgaon/Gurugram, Bangalore/Bengaluru']"
      ]
     },
     "execution_count": 168,
     "metadata": {},
     "output_type": "execute_result"
    }
   ],
   "source": [
    "for i in location_tags:\n",
    "    location=i.text\n",
    "    job_location.append(location)\n",
    "job_location[0:10]"
   ]
  },
  {
   "cell_type": "code",
   "execution_count": 169,
   "id": "693196dd",
   "metadata": {},
   "outputs": [
    {
     "data": {
      "text/plain": [
       "[<selenium.webdriver.remote.webelement.WebElement (session=\"1627fa8f8e03753c2b0727e29dae2e1d\", element=\"97d55bfc-0020-48c4-8b2c-3d33686e7fb9\")>,\n",
       " <selenium.webdriver.remote.webelement.WebElement (session=\"1627fa8f8e03753c2b0727e29dae2e1d\", element=\"ae202ff4-0f89-4b10-803c-5955a2e640b4\")>,\n",
       " <selenium.webdriver.remote.webelement.WebElement (session=\"1627fa8f8e03753c2b0727e29dae2e1d\", element=\"4b594f3c-8233-4dd7-9601-cc8c823bb980\")>,\n",
       " <selenium.webdriver.remote.webelement.WebElement (session=\"1627fa8f8e03753c2b0727e29dae2e1d\", element=\"7d9b8791-b995-4910-9c76-d7cfc66ada53\")>,\n",
       " <selenium.webdriver.remote.webelement.WebElement (session=\"1627fa8f8e03753c2b0727e29dae2e1d\", element=\"909839d1-388d-4289-bd39-2fd7232f01d4\")>,\n",
       " <selenium.webdriver.remote.webelement.WebElement (session=\"1627fa8f8e03753c2b0727e29dae2e1d\", element=\"da303d28-023e-4b6d-94ab-c4f930dbaa48\")>,\n",
       " <selenium.webdriver.remote.webelement.WebElement (session=\"1627fa8f8e03753c2b0727e29dae2e1d\", element=\"96d1739d-5fdc-45a6-b623-0ce6d1c2bfbf\")>,\n",
       " <selenium.webdriver.remote.webelement.WebElement (session=\"1627fa8f8e03753c2b0727e29dae2e1d\", element=\"0fb94a4f-072c-4042-b72a-a697ae073fef\")>,\n",
       " <selenium.webdriver.remote.webelement.WebElement (session=\"1627fa8f8e03753c2b0727e29dae2e1d\", element=\"56c1663e-f97a-4f5e-9e8f-87f3f54c1369\")>,\n",
       " <selenium.webdriver.remote.webelement.WebElement (session=\"1627fa8f8e03753c2b0727e29dae2e1d\", element=\"9065fd29-3de2-4a1a-8d92-b1ac1bb0f130\")>]"
      ]
     },
     "execution_count": 169,
     "metadata": {},
     "output_type": "execute_result"
    }
   ],
   "source": [
    "companies_tags=driver.find_elements_by_xpath(\"//a[@class='subTitle ellipsis fleft']\")\n",
    "companies_tags[0:10]"
   ]
  },
  {
   "cell_type": "code",
   "execution_count": 170,
   "id": "80bb67ac",
   "metadata": {},
   "outputs": [
    {
     "data": {
      "text/plain": [
       "['Rolls Royce',\n",
       " 'IBM',\n",
       " 'Walmart',\n",
       " 'Target',\n",
       " 'PayPal',\n",
       " 'PayU',\n",
       " 'Target',\n",
       " 'Walmart',\n",
       " 'IBM',\n",
       " 'Huquo Consulting Pvt. Ltd']"
      ]
     },
     "execution_count": 170,
     "metadata": {},
     "output_type": "execute_result"
    }
   ],
   "source": [
    "for i in companies_tags:\n",
    "    company=i.text\n",
    "    company_name.append(company)\n",
    "company_name[0:10]"
   ]
  },
  {
   "cell_type": "code",
   "execution_count": 171,
   "id": "7559fd7c",
   "metadata": {},
   "outputs": [
    {
     "name": "stdout",
     "output_type": "stream",
     "text": [
      "20 20 20\n"
     ]
    }
   ],
   "source": [
    "print(len(job_titles),len(job_location),len(company_name))"
   ]
  },
  {
   "cell_type": "code",
   "execution_count": 172,
   "id": "916eacb0",
   "metadata": {},
   "outputs": [],
   "source": [
    "job=pd.DataFrame({})\n",
    "job['job_title']=job_titles\n",
    "job['location']=job_location\n",
    "job['company']=company_name"
   ]
  },
  {
   "cell_type": "code",
   "execution_count": 173,
   "id": "409dc003",
   "metadata": {},
   "outputs": [
    {
     "data": {
      "text/html": [
       "<div>\n",
       "<style scoped>\n",
       "    .dataframe tbody tr th:only-of-type {\n",
       "        vertical-align: middle;\n",
       "    }\n",
       "\n",
       "    .dataframe tbody tr th {\n",
       "        vertical-align: top;\n",
       "    }\n",
       "\n",
       "    .dataframe thead th {\n",
       "        text-align: right;\n",
       "    }\n",
       "</style>\n",
       "<table border=\"1\" class=\"dataframe\">\n",
       "  <thead>\n",
       "    <tr style=\"text-align: right;\">\n",
       "      <th></th>\n",
       "      <th>job_title</th>\n",
       "      <th>location</th>\n",
       "      <th>company</th>\n",
       "    </tr>\n",
       "  </thead>\n",
       "  <tbody>\n",
       "    <tr>\n",
       "      <th>0</th>\n",
       "      <td>Rolls-Royce Data Labs : Data Scientist</td>\n",
       "      <td>Bangalore/Bengaluru</td>\n",
       "      <td>Rolls Royce</td>\n",
       "    </tr>\n",
       "    <tr>\n",
       "      <th>1</th>\n",
       "      <td>Data Scientist: Artificial Intelligence</td>\n",
       "      <td>Bangalore/Bengaluru</td>\n",
       "      <td>IBM</td>\n",
       "    </tr>\n",
       "    <tr>\n",
       "      <th>2</th>\n",
       "      <td>Staff Data Scientist</td>\n",
       "      <td>Bangalore/Bengaluru</td>\n",
       "      <td>Walmart</td>\n",
       "    </tr>\n",
       "    <tr>\n",
       "      <th>3</th>\n",
       "      <td>Sr Data Scientist</td>\n",
       "      <td>Bangalore/Bengaluru</td>\n",
       "      <td>Target</td>\n",
       "    </tr>\n",
       "    <tr>\n",
       "      <th>4</th>\n",
       "      <td>Data Scientist 1</td>\n",
       "      <td>Bangalore/Bengaluru</td>\n",
       "      <td>PayPal</td>\n",
       "    </tr>\n",
       "    <tr>\n",
       "      <th>5</th>\n",
       "      <td>Data Scientist Opportunity with PayU - Diversi...</td>\n",
       "      <td>Gurgaon/Gurugram, Bangalore/Bengaluru, Mumbai ...</td>\n",
       "      <td>PayU</td>\n",
       "    </tr>\n",
       "    <tr>\n",
       "      <th>6</th>\n",
       "      <td>Lead Data Scientist</td>\n",
       "      <td>Bangalore/Bengaluru</td>\n",
       "      <td>Target</td>\n",
       "    </tr>\n",
       "    <tr>\n",
       "      <th>7</th>\n",
       "      <td>Senior Data Scientist</td>\n",
       "      <td>Bangalore/Bengaluru</td>\n",
       "      <td>Walmart</td>\n",
       "    </tr>\n",
       "    <tr>\n",
       "      <th>8</th>\n",
       "      <td>Cognitive/AI Senior Data Scientist</td>\n",
       "      <td>Bangalore/Bengaluru</td>\n",
       "      <td>IBM</td>\n",
       "    </tr>\n",
       "    <tr>\n",
       "      <th>9</th>\n",
       "      <td>Assistant Manager/Manager/Senior Manager - Dat...</td>\n",
       "      <td>Gurgaon/Gurugram, Bangalore/Bengaluru</td>\n",
       "      <td>Huquo Consulting Pvt. Ltd</td>\n",
       "    </tr>\n",
       "  </tbody>\n",
       "</table>\n",
       "</div>"
      ],
      "text/plain": [
       "                                           job_title  \\\n",
       "0             Rolls-Royce Data Labs : Data Scientist   \n",
       "1            Data Scientist: Artificial Intelligence   \n",
       "2                               Staff Data Scientist   \n",
       "3                                  Sr Data Scientist   \n",
       "4                                   Data Scientist 1   \n",
       "5  Data Scientist Opportunity with PayU - Diversi...   \n",
       "6                                Lead Data Scientist   \n",
       "7                              Senior Data Scientist   \n",
       "8                 Cognitive/AI Senior Data Scientist   \n",
       "9  Assistant Manager/Manager/Senior Manager - Dat...   \n",
       "\n",
       "                                            location  \\\n",
       "0                                Bangalore/Bengaluru   \n",
       "1                                Bangalore/Bengaluru   \n",
       "2                                Bangalore/Bengaluru   \n",
       "3                                Bangalore/Bengaluru   \n",
       "4                                Bangalore/Bengaluru   \n",
       "5  Gurgaon/Gurugram, Bangalore/Bengaluru, Mumbai ...   \n",
       "6                                Bangalore/Bengaluru   \n",
       "7                                Bangalore/Bengaluru   \n",
       "8                                Bangalore/Bengaluru   \n",
       "9              Gurgaon/Gurugram, Bangalore/Bengaluru   \n",
       "\n",
       "                     company  \n",
       "0                Rolls Royce  \n",
       "1                        IBM  \n",
       "2                    Walmart  \n",
       "3                     Target  \n",
       "4                     PayPal  \n",
       "5                       PayU  \n",
       "6                     Target  \n",
       "7                    Walmart  \n",
       "8                        IBM  \n",
       "9  Huquo Consulting Pvt. Ltd  "
      ]
     },
     "execution_count": 173,
     "metadata": {},
     "output_type": "execute_result"
    }
   ],
   "source": [
    "job[0:10]"
   ]
  },
  {
   "cell_type": "code",
   "execution_count": 174,
   "id": "dbf2257a",
   "metadata": {},
   "outputs": [],
   "source": [
    "job.to_csv(\"Data scientist job in Bangolre\",index=False)"
   ]
  },
  {
   "cell_type": "code",
   "execution_count": null,
   "id": "1a3b7426",
   "metadata": {},
   "outputs": [],
   "source": []
  },
  {
   "cell_type": "markdown",
   "id": "b044506b",
   "metadata": {},
   "source": [
    "# Q3: In this question you have to scrape data using the filters available on the webpage as shown below:\n",
    "You have to use the location and salary filter.\n",
    "You have to scrape data for “Data Scientist” designation for first 10 job results.\n",
    "You have to scrape the job-title, job-location, company name, experience required.\n",
    "The location filter to be used is “Delhi/NCR”. The salary filter to be used is “3-6” lakhs"
   ]
  },
  {
   "cell_type": "code",
   "execution_count": 175,
   "id": "2bc8813d",
   "metadata": {},
   "outputs": [],
   "source": [
    "import selenium\n",
    "import pandas as pd\n",
    "from selenium import webdriver\n",
    "import warnings\n",
    "warnings.filterwarnings(\"ignore\")\n",
    "import time"
   ]
  },
  {
   "cell_type": "code",
   "execution_count": 204,
   "id": "fe03618e",
   "metadata": {},
   "outputs": [],
   "source": [
    "driver=webdriver.Chrome(\"chromedriver.exe\")"
   ]
  },
  {
   "cell_type": "code",
   "execution_count": 177,
   "id": "95b297bf",
   "metadata": {},
   "outputs": [],
   "source": [
    "driver.get('https://www.naukri.com/')"
   ]
  },
  {
   "cell_type": "code",
   "execution_count": 178,
   "id": "a71976d4",
   "metadata": {},
   "outputs": [],
   "source": [
    "search_field_designations=driver.find_element_by_class_name(\"suggestor-input \")\n",
    "search_field_designations.send_keys(\"Data Scientist\")"
   ]
  },
  {
   "cell_type": "code",
   "execution_count": 179,
   "id": "bac9ed6c",
   "metadata": {},
   "outputs": [],
   "source": [
    "search_field_location=driver.find_element_by_xpath(\"/html/body/div/div[2]/div[3]/div/div/div[3]/div/div/div/input\")\n",
    "search_field_location.send_keys(\"Delhi/NCR\")"
   ]
  },
  {
   "cell_type": "code",
   "execution_count": 180,
   "id": "e1ebef95",
   "metadata": {},
   "outputs": [],
   "source": [
    "search_button=driver.find_element_by_xpath(\"/html/body/div/div[2]/div[3]/div/div/div[6]\")\n",
    "search_button.click()"
   ]
  },
  {
   "cell_type": "code",
   "execution_count": 182,
   "id": "5a7e7053",
   "metadata": {},
   "outputs": [],
   "source": [
    "search_button=driver.find_element_by_xpath(\"/html/body/div[1]/div[3]/div[2]/section[1]/div[2]/div[1]/div[2]/div[2]/label/i\")\n",
    "search_button.click()"
   ]
  },
  {
   "cell_type": "code",
   "execution_count": 184,
   "id": "c15e95ac",
   "metadata": {},
   "outputs": [],
   "source": [
    "search_button=driver.find_element_by_xpath(\"/html/body/div[1]/div[3]/div[2]/section[1]/div[2]/div[5]/div[2]/div[2]/label/i\")\n",
    "search_button.click()"
   ]
  },
  {
   "cell_type": "code",
   "execution_count": 185,
   "id": "daf0af9b",
   "metadata": {},
   "outputs": [],
   "source": [
    "job_title=[]\n",
    "job_location=[]\n",
    "company_list=[]\n",
    "experince_list=[]\n"
   ]
  },
  {
   "cell_type": "code",
   "execution_count": 187,
   "id": "7708b7d5",
   "metadata": {},
   "outputs": [
    {
     "data": {
      "text/plain": [
       "[<selenium.webdriver.remote.webelement.WebElement (session=\"335f894a60787988c5ee9655a33fcfda\", element=\"5baaec6c-0043-4769-85bf-34ce35cd0ddf\")>,\n",
       " <selenium.webdriver.remote.webelement.WebElement (session=\"335f894a60787988c5ee9655a33fcfda\", element=\"45ce7195-4f0f-4fd2-8c07-01400dbba5f2\")>,\n",
       " <selenium.webdriver.remote.webelement.WebElement (session=\"335f894a60787988c5ee9655a33fcfda\", element=\"79f93869-e679-4b07-a9ad-bfa5fe9678bd\")>,\n",
       " <selenium.webdriver.remote.webelement.WebElement (session=\"335f894a60787988c5ee9655a33fcfda\", element=\"19701152-17c6-4410-8fd6-1e7cc94586e0\")>,\n",
       " <selenium.webdriver.remote.webelement.WebElement (session=\"335f894a60787988c5ee9655a33fcfda\", element=\"a14833fe-1c63-4a87-8445-77d75dcbf992\")>,\n",
       " <selenium.webdriver.remote.webelement.WebElement (session=\"335f894a60787988c5ee9655a33fcfda\", element=\"c1348a7c-e1bf-4da2-8094-7da6c250d428\")>,\n",
       " <selenium.webdriver.remote.webelement.WebElement (session=\"335f894a60787988c5ee9655a33fcfda\", element=\"43ae1a5b-4488-4695-be3c-12fc4b633d09\")>,\n",
       " <selenium.webdriver.remote.webelement.WebElement (session=\"335f894a60787988c5ee9655a33fcfda\", element=\"56583b9b-d42f-41c5-b969-7726bf44864d\")>,\n",
       " <selenium.webdriver.remote.webelement.WebElement (session=\"335f894a60787988c5ee9655a33fcfda\", element=\"178f205a-84b7-4c7c-8c1d-7f2cf3c76d63\")>,\n",
       " <selenium.webdriver.remote.webelement.WebElement (session=\"335f894a60787988c5ee9655a33fcfda\", element=\"a80c6d5d-4d83-405e-ba40-2a54b6b488b4\")>]"
      ]
     },
     "execution_count": 187,
     "metadata": {},
     "output_type": "execute_result"
    }
   ],
   "source": [
    "titles_tags=driver.find_elements_by_xpath(\"//a[@class='title fw500 ellipsis']\")\n",
    "titles_tags[0:10]"
   ]
  },
  {
   "cell_type": "code",
   "execution_count": 188,
   "id": "c1e8d43c",
   "metadata": {},
   "outputs": [
    {
     "data": {
      "text/plain": [
       "['Data Scientist',\n",
       " 'Associate Data Scientist',\n",
       " 'Associate Scientist - Data Engineering',\n",
       " 'Data Scientist (freelance)',\n",
       " 'Hiring For Data Analyst and Data Scientist For Gurgaon Location',\n",
       " 'Data Scientist/ Machine Learning, 2022 Passout Can also apply',\n",
       " 'Data Scientist',\n",
       " 'Data Scientist',\n",
       " 'Hiring For Senior Data Scientist-Noida',\n",
       " 'Senior Data Scientist']"
      ]
     },
     "execution_count": 188,
     "metadata": {},
     "output_type": "execute_result"
    }
   ],
   "source": [
    "for i in titles_tags:\n",
    "    title=i.text\n",
    "    job_title.append(title)\n",
    "job_title[0:10]"
   ]
  },
  {
   "cell_type": "code",
   "execution_count": 189,
   "id": "091aa401",
   "metadata": {},
   "outputs": [
    {
     "data": {
      "text/plain": [
       "[<selenium.webdriver.remote.webelement.WebElement (session=\"335f894a60787988c5ee9655a33fcfda\", element=\"890ab4c2-5700-4ad8-9660-c2678c563773\")>,\n",
       " <selenium.webdriver.remote.webelement.WebElement (session=\"335f894a60787988c5ee9655a33fcfda\", element=\"937caa00-0165-4ac8-932b-2486c6640642\")>,\n",
       " <selenium.webdriver.remote.webelement.WebElement (session=\"335f894a60787988c5ee9655a33fcfda\", element=\"22aebe7f-cbd8-465d-93e3-c93b90de832b\")>,\n",
       " <selenium.webdriver.remote.webelement.WebElement (session=\"335f894a60787988c5ee9655a33fcfda\", element=\"ed277ed9-ffc0-471f-9e52-9c2095adcf73\")>,\n",
       " <selenium.webdriver.remote.webelement.WebElement (session=\"335f894a60787988c5ee9655a33fcfda\", element=\"736e8579-d1e1-4650-8d26-c67e11ea8c87\")>,\n",
       " <selenium.webdriver.remote.webelement.WebElement (session=\"335f894a60787988c5ee9655a33fcfda\", element=\"34ae3c9f-f807-4f85-9def-312cbd00be95\")>,\n",
       " <selenium.webdriver.remote.webelement.WebElement (session=\"335f894a60787988c5ee9655a33fcfda\", element=\"2e8d244a-5e20-4667-9849-fb86e9b063d2\")>,\n",
       " <selenium.webdriver.remote.webelement.WebElement (session=\"335f894a60787988c5ee9655a33fcfda\", element=\"ed948945-c14c-4b05-8d14-0c13825d5c1d\")>,\n",
       " <selenium.webdriver.remote.webelement.WebElement (session=\"335f894a60787988c5ee9655a33fcfda\", element=\"79360676-ec08-4217-9811-abd514de57ed\")>,\n",
       " <selenium.webdriver.remote.webelement.WebElement (session=\"335f894a60787988c5ee9655a33fcfda\", element=\"0d514b91-cff6-4506-8b54-63ddb2d0dd65\")>]"
      ]
     },
     "execution_count": 189,
     "metadata": {},
     "output_type": "execute_result"
    }
   ],
   "source": [
    "locations_tags=driver.find_elements_by_xpath(\"//li[@class='fleft grey-text br2 placeHolderLi location']\")\n",
    "locations_tags[0:10]"
   ]
  },
  {
   "cell_type": "code",
   "execution_count": 190,
   "id": "17f1a049",
   "metadata": {},
   "outputs": [
    {
     "data": {
      "text/plain": [
       "['Noida, Bangalore/Bengaluru',\n",
       " 'Gurgaon/Gurugram',\n",
       " 'Gurgaon/Gurugram',\n",
       " 'New Delhi, Delhi',\n",
       " 'Noida, Gurgaon/Gurugram, Delhi / NCR',\n",
       " 'Hyderabad/Secunderabad, Pune, Chennai, Delhi / NCR, Vadodara, Mumbai (All Areas)',\n",
       " 'Gurgaon, Bengaluru',\n",
       " 'New Delhi',\n",
       " 'Noida, Greater Noida, Delhi / NCR',\n",
       " 'Delhi']"
      ]
     },
     "execution_count": 190,
     "metadata": {},
     "output_type": "execute_result"
    }
   ],
   "source": [
    "for i in locations_tags:\n",
    "    location=i.text\n",
    "    job_location.append(location)\n",
    "job_location[0:10]"
   ]
  },
  {
   "cell_type": "code",
   "execution_count": 191,
   "id": "441fb866",
   "metadata": {},
   "outputs": [
    {
     "data": {
      "text/plain": [
       "[<selenium.webdriver.remote.webelement.WebElement (session=\"335f894a60787988c5ee9655a33fcfda\", element=\"bd14a77a-1d46-45b2-a079-332e759a169c\")>,\n",
       " <selenium.webdriver.remote.webelement.WebElement (session=\"335f894a60787988c5ee9655a33fcfda\", element=\"633705e4-2740-4a2a-99fd-586e0eb061ad\")>,\n",
       " <selenium.webdriver.remote.webelement.WebElement (session=\"335f894a60787988c5ee9655a33fcfda\", element=\"8d6385c7-7aa1-4205-9bb4-0dea1ea9a6c6\")>,\n",
       " <selenium.webdriver.remote.webelement.WebElement (session=\"335f894a60787988c5ee9655a33fcfda\", element=\"05a16e6b-44b8-444f-85de-1d6af828c229\")>,\n",
       " <selenium.webdriver.remote.webelement.WebElement (session=\"335f894a60787988c5ee9655a33fcfda\", element=\"fb2a1058-c33f-4b3c-b7c5-c39b3531aa95\")>,\n",
       " <selenium.webdriver.remote.webelement.WebElement (session=\"335f894a60787988c5ee9655a33fcfda\", element=\"380a00fe-e76d-4487-abc2-93d04ddc3cb2\")>,\n",
       " <selenium.webdriver.remote.webelement.WebElement (session=\"335f894a60787988c5ee9655a33fcfda\", element=\"65122d08-5161-40f3-9279-34b152f7ca69\")>,\n",
       " <selenium.webdriver.remote.webelement.WebElement (session=\"335f894a60787988c5ee9655a33fcfda\", element=\"2a490011-17c8-4631-8e4c-77a932f3727a\")>,\n",
       " <selenium.webdriver.remote.webelement.WebElement (session=\"335f894a60787988c5ee9655a33fcfda\", element=\"8836ccda-73c4-4488-8bca-be058c94d514\")>,\n",
       " <selenium.webdriver.remote.webelement.WebElement (session=\"335f894a60787988c5ee9655a33fcfda\", element=\"4a6732c2-0147-4913-8895-f96834531da6\")>]"
      ]
     },
     "execution_count": 191,
     "metadata": {},
     "output_type": "execute_result"
    }
   ],
   "source": [
    "companies_tag=driver.find_elements_by_xpath(\"//a[@class='subTitle ellipsis fleft']\")\n",
    "companies_tag[0:10]"
   ]
  },
  {
   "cell_type": "code",
   "execution_count": 192,
   "id": "0756797b",
   "metadata": {},
   "outputs": [
    {
     "data": {
      "text/plain": [
       "['Ashkom Media India Private Limited',\n",
       " 'Optum',\n",
       " 'AXA Technology Services India Pvt. Ltd',\n",
       " '2Coms',\n",
       " 'Shadow Placements',\n",
       " 'Creative Hands HR Consultancy',\n",
       " 'BlackBuck',\n",
       " 'Boston Consulting Group',\n",
       " 'Lumiq.ai',\n",
       " 'iNICU']"
      ]
     },
     "execution_count": 192,
     "metadata": {},
     "output_type": "execute_result"
    }
   ],
   "source": [
    "for i in companies_tag:\n",
    "    company=i.text\n",
    "    company_list.append(company)\n",
    "company_list[0:10]"
   ]
  },
  {
   "cell_type": "code",
   "execution_count": 193,
   "id": "e421cbc4",
   "metadata": {},
   "outputs": [
    {
     "data": {
      "text/plain": [
       "[<selenium.webdriver.remote.webelement.WebElement (session=\"335f894a60787988c5ee9655a33fcfda\", element=\"84f4b542-a205-4e40-a4d8-268878467bcd\")>,\n",
       " <selenium.webdriver.remote.webelement.WebElement (session=\"335f894a60787988c5ee9655a33fcfda\", element=\"ede32237-03bd-449b-b790-bd61cee7a42c\")>,\n",
       " <selenium.webdriver.remote.webelement.WebElement (session=\"335f894a60787988c5ee9655a33fcfda\", element=\"d28ef32e-9dff-47c0-818c-6abcd09c9e43\")>,\n",
       " <selenium.webdriver.remote.webelement.WebElement (session=\"335f894a60787988c5ee9655a33fcfda\", element=\"5c690541-446f-467b-9c83-20ad8d3eafc0\")>,\n",
       " <selenium.webdriver.remote.webelement.WebElement (session=\"335f894a60787988c5ee9655a33fcfda\", element=\"660b856d-155c-4103-a36c-0aaa591060a9\")>,\n",
       " <selenium.webdriver.remote.webelement.WebElement (session=\"335f894a60787988c5ee9655a33fcfda\", element=\"b29665c3-5b99-44ce-8503-63a5a7387d19\")>,\n",
       " <selenium.webdriver.remote.webelement.WebElement (session=\"335f894a60787988c5ee9655a33fcfda\", element=\"99aa4665-6140-47ed-b563-8e2911a08816\")>,\n",
       " <selenium.webdriver.remote.webelement.WebElement (session=\"335f894a60787988c5ee9655a33fcfda\", element=\"6061c234-6e40-474e-ba49-9d1da548d216\")>,\n",
       " <selenium.webdriver.remote.webelement.WebElement (session=\"335f894a60787988c5ee9655a33fcfda\", element=\"80fe7364-56de-4d2f-a097-b7aca3a6cac3\")>,\n",
       " <selenium.webdriver.remote.webelement.WebElement (session=\"335f894a60787988c5ee9655a33fcfda\", element=\"21fa7851-eabf-4c1d-9b39-b6d9827b0125\")>]"
      ]
     },
     "execution_count": 193,
     "metadata": {},
     "output_type": "execute_result"
    }
   ],
   "source": [
    "experince_tags=driver.find_elements_by_xpath(\"//li[@class='fleft grey-text br2 placeHolderLi experience']\")\n",
    "experince_tags[0:10]"
   ]
  },
  {
   "cell_type": "code",
   "execution_count": 194,
   "id": "a615c043",
   "metadata": {},
   "outputs": [
    {
     "data": {
      "text/plain": [
       "['3-6 Yrs',\n",
       " '1-5 Yrs',\n",
       " '2-5 Yrs',\n",
       " '2-7 Yrs',\n",
       " '3-7 Yrs',\n",
       " '0-4 Yrs',\n",
       " '3-7 Yrs',\n",
       " '2-5 Yrs',\n",
       " '2-6 Yrs',\n",
       " '1-5 Yrs']"
      ]
     },
     "execution_count": 194,
     "metadata": {},
     "output_type": "execute_result"
    }
   ],
   "source": [
    "for i in experince_tags:\n",
    "    experince=i.text\n",
    "    experince_list.append(experince)\n",
    "experince_list[0:10]"
   ]
  },
  {
   "cell_type": "code",
   "execution_count": 195,
   "id": "d144f2f9",
   "metadata": {},
   "outputs": [
    {
     "name": "stdout",
     "output_type": "stream",
     "text": [
      "20 20 20 20\n"
     ]
    }
   ],
   "source": [
    "print(len(job_title),len(job_location),len(company_list),len(experince_list))"
   ]
  },
  {
   "cell_type": "code",
   "execution_count": 200,
   "id": "b3668a63",
   "metadata": {},
   "outputs": [],
   "source": [
    "jobs=pd.DataFrame({})\n",
    "jobs['job_title']=job_title\n",
    "jobs['location']=job_location\n",
    "jobs['company']=company_list\n",
    "jobs['experince']=experince_list"
   ]
  },
  {
   "cell_type": "code",
   "execution_count": 202,
   "id": "ba0750c2",
   "metadata": {},
   "outputs": [
    {
     "data": {
      "text/html": [
       "<div>\n",
       "<style scoped>\n",
       "    .dataframe tbody tr th:only-of-type {\n",
       "        vertical-align: middle;\n",
       "    }\n",
       "\n",
       "    .dataframe tbody tr th {\n",
       "        vertical-align: top;\n",
       "    }\n",
       "\n",
       "    .dataframe thead th {\n",
       "        text-align: right;\n",
       "    }\n",
       "</style>\n",
       "<table border=\"1\" class=\"dataframe\">\n",
       "  <thead>\n",
       "    <tr style=\"text-align: right;\">\n",
       "      <th></th>\n",
       "      <th>job_title</th>\n",
       "      <th>location</th>\n",
       "      <th>company</th>\n",
       "      <th>experince</th>\n",
       "    </tr>\n",
       "  </thead>\n",
       "  <tbody>\n",
       "    <tr>\n",
       "      <th>0</th>\n",
       "      <td>Data Scientist</td>\n",
       "      <td>Noida, Bangalore/Bengaluru</td>\n",
       "      <td>Ashkom Media India Private Limited</td>\n",
       "      <td>3-6 Yrs</td>\n",
       "    </tr>\n",
       "    <tr>\n",
       "      <th>1</th>\n",
       "      <td>Associate Data Scientist</td>\n",
       "      <td>Gurgaon/Gurugram</td>\n",
       "      <td>Optum</td>\n",
       "      <td>1-5 Yrs</td>\n",
       "    </tr>\n",
       "    <tr>\n",
       "      <th>2</th>\n",
       "      <td>Associate Scientist - Data Engineering</td>\n",
       "      <td>Gurgaon/Gurugram</td>\n",
       "      <td>AXA Technology Services India Pvt. Ltd</td>\n",
       "      <td>2-5 Yrs</td>\n",
       "    </tr>\n",
       "    <tr>\n",
       "      <th>3</th>\n",
       "      <td>Data Scientist (freelance)</td>\n",
       "      <td>New Delhi, Delhi</td>\n",
       "      <td>2Coms</td>\n",
       "      <td>2-7 Yrs</td>\n",
       "    </tr>\n",
       "    <tr>\n",
       "      <th>4</th>\n",
       "      <td>Hiring For Data Analyst and Data Scientist For...</td>\n",
       "      <td>Noida, Gurgaon/Gurugram, Delhi / NCR</td>\n",
       "      <td>Shadow Placements</td>\n",
       "      <td>3-7 Yrs</td>\n",
       "    </tr>\n",
       "    <tr>\n",
       "      <th>5</th>\n",
       "      <td>Data Scientist/ Machine Learning, 2022 Passout...</td>\n",
       "      <td>Hyderabad/Secunderabad, Pune, Chennai, Delhi /...</td>\n",
       "      <td>Creative Hands HR Consultancy</td>\n",
       "      <td>0-4 Yrs</td>\n",
       "    </tr>\n",
       "    <tr>\n",
       "      <th>6</th>\n",
       "      <td>Data Scientist</td>\n",
       "      <td>Gurgaon, Bengaluru</td>\n",
       "      <td>BlackBuck</td>\n",
       "      <td>3-7 Yrs</td>\n",
       "    </tr>\n",
       "    <tr>\n",
       "      <th>7</th>\n",
       "      <td>Data Scientist</td>\n",
       "      <td>New Delhi</td>\n",
       "      <td>Boston Consulting Group</td>\n",
       "      <td>2-5 Yrs</td>\n",
       "    </tr>\n",
       "    <tr>\n",
       "      <th>8</th>\n",
       "      <td>Hiring For Senior Data Scientist-Noida</td>\n",
       "      <td>Noida, Greater Noida, Delhi / NCR</td>\n",
       "      <td>Lumiq.ai</td>\n",
       "      <td>2-6 Yrs</td>\n",
       "    </tr>\n",
       "    <tr>\n",
       "      <th>9</th>\n",
       "      <td>Senior Data Scientist</td>\n",
       "      <td>Delhi</td>\n",
       "      <td>iNICU</td>\n",
       "      <td>1-5 Yrs</td>\n",
       "    </tr>\n",
       "  </tbody>\n",
       "</table>\n",
       "</div>"
      ],
      "text/plain": [
       "                                           job_title  \\\n",
       "0                                     Data Scientist   \n",
       "1                           Associate Data Scientist   \n",
       "2             Associate Scientist - Data Engineering   \n",
       "3                         Data Scientist (freelance)   \n",
       "4  Hiring For Data Analyst and Data Scientist For...   \n",
       "5  Data Scientist/ Machine Learning, 2022 Passout...   \n",
       "6                                     Data Scientist   \n",
       "7                                     Data Scientist   \n",
       "8             Hiring For Senior Data Scientist-Noida   \n",
       "9                              Senior Data Scientist   \n",
       "\n",
       "                                            location  \\\n",
       "0                         Noida, Bangalore/Bengaluru   \n",
       "1                                   Gurgaon/Gurugram   \n",
       "2                                   Gurgaon/Gurugram   \n",
       "3                                   New Delhi, Delhi   \n",
       "4               Noida, Gurgaon/Gurugram, Delhi / NCR   \n",
       "5  Hyderabad/Secunderabad, Pune, Chennai, Delhi /...   \n",
       "6                                 Gurgaon, Bengaluru   \n",
       "7                                          New Delhi   \n",
       "8                  Noida, Greater Noida, Delhi / NCR   \n",
       "9                                              Delhi   \n",
       "\n",
       "                                  company experince  \n",
       "0      Ashkom Media India Private Limited   3-6 Yrs  \n",
       "1                                   Optum   1-5 Yrs  \n",
       "2  AXA Technology Services India Pvt. Ltd   2-5 Yrs  \n",
       "3                                   2Coms   2-7 Yrs  \n",
       "4                       Shadow Placements   3-7 Yrs  \n",
       "5           Creative Hands HR Consultancy   0-4 Yrs  \n",
       "6                               BlackBuck   3-7 Yrs  \n",
       "7                 Boston Consulting Group   2-5 Yrs  \n",
       "8                                Lumiq.ai   2-6 Yrs  \n",
       "9                                   iNICU   1-5 Yrs  "
      ]
     },
     "execution_count": 202,
     "metadata": {},
     "output_type": "execute_result"
    }
   ],
   "source": [
    "jobs[0:10]"
   ]
  },
  {
   "cell_type": "code",
   "execution_count": 203,
   "id": "b63f765e",
   "metadata": {},
   "outputs": [],
   "source": [
    "jobs.to_csv('Dehli NCR DATA scientist jobs',index=False)"
   ]
  },
  {
   "cell_type": "code",
   "execution_count": 207,
   "id": "18c5d798",
   "metadata": {},
   "outputs": [],
   "source": [
    "driver.close()"
   ]
  },
  {
   "cell_type": "markdown",
   "id": "51701900",
   "metadata": {},
   "source": [
    "# Q4: Scrape data of first 100 sunglasses listings on flipkart.com. You have to scrape four attributes:\n",
    "1. Brand\n",
    "2. Product Description\n",
    "3. Price"
   ]
  },
  {
   "cell_type": "code",
   "execution_count": 371,
   "id": "5ebe2ef7",
   "metadata": {},
   "outputs": [],
   "source": [
    "import selenium\n",
    "import pandas as pd\n",
    "from selenium import webdriver\n",
    "import warnings\n",
    "warnings.filterwarnings(\"ignore\")\n",
    "import time"
   ]
  },
  {
   "cell_type": "code",
   "execution_count": 372,
   "id": "df32db6a",
   "metadata": {},
   "outputs": [],
   "source": [
    "driver=webdriver.Chrome(\"chromedriver.exe\")"
   ]
  },
  {
   "cell_type": "code",
   "execution_count": 373,
   "id": "80eb96fd",
   "metadata": {},
   "outputs": [],
   "source": [
    "driver.get('https://www.flipkart.com/')"
   ]
  },
  {
   "cell_type": "code",
   "execution_count": 374,
   "id": "d0589f2a",
   "metadata": {},
   "outputs": [],
   "source": [
    "search_field_product=driver.find_element_by_class_name(\"_3704LK\")\n",
    "search_field_product.send_keys(\"sunglasses\")"
   ]
  },
  {
   "cell_type": "code",
   "execution_count": 376,
   "id": "3df0bea1",
   "metadata": {},
   "outputs": [],
   "source": [
    "search_button=driver.find_element_by_xpath(\"/html/body/div[1]/div/div[1]/div[1]/div[2]/div[2]/form/div/button\")\n",
    "search_button.click()"
   ]
  },
  {
   "cell_type": "code",
   "execution_count": 380,
   "id": "21987376",
   "metadata": {},
   "outputs": [],
   "source": [
    "B_name=[]\n",
    "Price=[]\n",
    "P_desc=[]\n",
    "Discount=[]"
   ]
  },
  {
   "cell_type": "code",
   "execution_count": 386,
   "id": "a863595e",
   "metadata": {},
   "outputs": [],
   "source": [
    "for i in range(3):\n",
    "    b_name=driver.find_elements_by_xpath(\"//div[@class='_2WkVRV']\")\n",
    "    p_desc=driver.find_elements_by_xpath(\"//a[@class='IRpwTa']\")\n",
    "    price =driver.find_elements_by_xpath(\"//div[@class='_30jeq3']\")\n",
    "    discount=driver.find_elements_by_xpath(\"//div[@class='_3Ay6Sb']\")\n",
    "    \n",
    "    for j  in b_name:\n",
    "        B_name.append(j.text)\n",
    "    B_name[:100]    \n",
    "    \n",
    "    \n",
    "    \n",
    "    for k in p_desc:\n",
    "        P_desc.append(k.text)\n",
    "    P_desc[:100] \n",
    "    \n",
    "    \n",
    "    for l in price:\n",
    "        Price.append(l.text)\n",
    "    Price[:100] \n",
    "    \n",
    "    \n",
    "    for t in discount:\n",
    "        Discount.append(t.text)\n",
    "    Discount[:100]"
   ]
  },
  {
   "cell_type": "code",
   "execution_count": 387,
   "id": "2d8378f1",
   "metadata": {},
   "outputs": [
    {
     "data": {
      "text/plain": [
       "['Singco India',\n",
       " 'VINCENT CHASE',\n",
       " 'Fastrack',\n",
       " 'Fastrack',\n",
       " 'Mi',\n",
       " 'Fastrack',\n",
       " 'Elligator',\n",
       " 'VINCENT CHASE',\n",
       " 'SUNBEE',\n",
       " 'Fastrack',\n",
       " 'PIRASO',\n",
       " 'Ray-Ban',\n",
       " 'Lee Topper',\n",
       " 'PIRASO',\n",
       " 'SRPM',\n",
       " 'ROZZETTA CRAFT',\n",
       " 'PIRASO',\n",
       " 'PIRASO',\n",
       " 'New Specs',\n",
       " 'Ray-Ban',\n",
       " 'SHAAH COLLECTIONS',\n",
       " 'Fastrack',\n",
       " 'ROZZETTA CRAFT',\n",
       " 'Ray-Ban',\n",
       " 'hipe',\n",
       " 'SUNBEE',\n",
       " 'hipe',\n",
       " 'ROZZETTA CRAFT',\n",
       " 'PIRASO',\n",
       " 'Fastrack',\n",
       " 'DEIXELS',\n",
       " 'Ray-Ban',\n",
       " 'Lee Topper',\n",
       " 'New Specs',\n",
       " 'kingsunglasses',\n",
       " 'Arnette',\n",
       " 'New Specs',\n",
       " 'PIRASO',\n",
       " 'kingsunglasses',\n",
       " 'Ray-Ban',\n",
       " 'Singco India',\n",
       " 'VINCENT CHASE',\n",
       " 'Fastrack',\n",
       " 'Fastrack',\n",
       " 'Mi',\n",
       " 'Fastrack',\n",
       " 'Elligator',\n",
       " 'VINCENT CHASE',\n",
       " 'SUNBEE',\n",
       " 'Fastrack',\n",
       " 'PIRASO',\n",
       " 'Ray-Ban',\n",
       " 'Lee Topper',\n",
       " 'PIRASO',\n",
       " 'SRPM',\n",
       " 'ROZZETTA CRAFT',\n",
       " 'PIRASO',\n",
       " 'PIRASO',\n",
       " 'New Specs',\n",
       " 'Ray-Ban',\n",
       " 'SHAAH COLLECTIONS',\n",
       " 'Fastrack',\n",
       " 'ROZZETTA CRAFT',\n",
       " 'Ray-Ban',\n",
       " 'hipe',\n",
       " 'SUNBEE',\n",
       " 'hipe',\n",
       " 'ROZZETTA CRAFT',\n",
       " 'PIRASO',\n",
       " 'Fastrack',\n",
       " 'DEIXELS',\n",
       " 'Ray-Ban',\n",
       " 'Lee Topper',\n",
       " 'New Specs',\n",
       " 'kingsunglasses',\n",
       " 'Arnette',\n",
       " 'New Specs',\n",
       " 'PIRASO',\n",
       " 'kingsunglasses',\n",
       " 'Ray-Ban',\n",
       " 'Singco India',\n",
       " 'VINCENT CHASE',\n",
       " 'Fastrack',\n",
       " 'Fastrack',\n",
       " 'Mi',\n",
       " 'Fastrack',\n",
       " 'Elligator',\n",
       " 'VINCENT CHASE',\n",
       " 'SUNBEE',\n",
       " 'Fastrack',\n",
       " 'PIRASO',\n",
       " 'Ray-Ban',\n",
       " 'Lee Topper',\n",
       " 'PIRASO',\n",
       " 'SRPM',\n",
       " 'ROZZETTA CRAFT',\n",
       " 'PIRASO',\n",
       " 'PIRASO',\n",
       " 'New Specs',\n",
       " 'Ray-Ban']"
      ]
     },
     "execution_count": 387,
     "metadata": {},
     "output_type": "execute_result"
    }
   ],
   "source": [
    "B_name[:100]"
   ]
  },
  {
   "cell_type": "code",
   "execution_count": 388,
   "id": "5dbcd29f",
   "metadata": {},
   "outputs": [
    {
     "name": "stdout",
     "output_type": "stream",
     "text": [
      "100\n",
      "100\n",
      "100\n",
      "100\n"
     ]
    },
    {
     "data": {
      "text/plain": [
       "(None, None, None, None)"
      ]
     },
     "execution_count": 388,
     "metadata": {},
     "output_type": "execute_result"
    }
   ],
   "source": [
    "print(len(B_name[:100])),print(len(Price[:100])),print(len(P_desc[:100])),print(len(Discount[:100]))"
   ]
  },
  {
   "cell_type": "code",
   "execution_count": 389,
   "id": "21f2c805",
   "metadata": {},
   "outputs": [],
   "source": [
    "sun_gl=pd.DataFrame({})\n",
    "sun_gl['Brand_name']=B_name[:100]\n",
    "sun_gl['P_price']=Price[:100]\n",
    "sun_gl['Pr_desc']=P_desc[:100]\n",
    "sun_gl['P_discount']=Discount[:100]"
   ]
  },
  {
   "cell_type": "code",
   "execution_count": 391,
   "id": "7875ad32",
   "metadata": {},
   "outputs": [
    {
     "data": {
      "text/html": [
       "<div>\n",
       "<style scoped>\n",
       "    .dataframe tbody tr th:only-of-type {\n",
       "        vertical-align: middle;\n",
       "    }\n",
       "\n",
       "    .dataframe tbody tr th {\n",
       "        vertical-align: top;\n",
       "    }\n",
       "\n",
       "    .dataframe thead th {\n",
       "        text-align: right;\n",
       "    }\n",
       "</style>\n",
       "<table border=\"1\" class=\"dataframe\">\n",
       "  <thead>\n",
       "    <tr style=\"text-align: right;\">\n",
       "      <th></th>\n",
       "      <th>Brand_name</th>\n",
       "      <th>P_price</th>\n",
       "      <th>Pr_desc</th>\n",
       "      <th>P_discount</th>\n",
       "    </tr>\n",
       "  </thead>\n",
       "  <tbody>\n",
       "    <tr>\n",
       "      <th>0</th>\n",
       "      <td>Singco India</td>\n",
       "      <td>₹630₹2,99978% off</td>\n",
       "      <td>Gradient, Toughened Glass Lens, UV Protection ...</td>\n",
       "      <td>78% off</td>\n",
       "    </tr>\n",
       "    <tr>\n",
       "      <th>1</th>\n",
       "      <td>VINCENT CHASE</td>\n",
       "      <td>₹649₹1,99967% off</td>\n",
       "      <td>UV Protection Cat-eye Sunglasses (54)</td>\n",
       "      <td>67% off</td>\n",
       "    </tr>\n",
       "    <tr>\n",
       "      <th>2</th>\n",
       "      <td>Fastrack</td>\n",
       "      <td>₹649₹89927% off</td>\n",
       "      <td>UV Protection Wayfarer Sunglasses (Free Size)</td>\n",
       "      <td>27% off</td>\n",
       "    </tr>\n",
       "    <tr>\n",
       "      <th>3</th>\n",
       "      <td>Fastrack</td>\n",
       "      <td>₹599₹79925% off</td>\n",
       "      <td>UV Protection Rectangular Sunglasses (Free Size)</td>\n",
       "      <td>25% off</td>\n",
       "    </tr>\n",
       "    <tr>\n",
       "      <th>4</th>\n",
       "      <td>Mi</td>\n",
       "      <td>₹699₹1,19941% off</td>\n",
       "      <td>Polarized Aviator Sunglasses (Free Size)</td>\n",
       "      <td>41% off</td>\n",
       "    </tr>\n",
       "    <tr>\n",
       "      <th>...</th>\n",
       "      <td>...</td>\n",
       "      <td>...</td>\n",
       "      <td>...</td>\n",
       "      <td>...</td>\n",
       "    </tr>\n",
       "    <tr>\n",
       "      <th>95</th>\n",
       "      <td>ROZZETTA CRAFT</td>\n",
       "      <td>₹649₹89927% off</td>\n",
       "      <td>UV Protection, Gradient Rectangular Sunglasses...</td>\n",
       "      <td>79% off</td>\n",
       "    </tr>\n",
       "    <tr>\n",
       "      <th>96</th>\n",
       "      <td>PIRASO</td>\n",
       "      <td>₹295₹2,49588% off</td>\n",
       "      <td>UV Protection Aviator Sunglasses (54)</td>\n",
       "      <td>85% off</td>\n",
       "    </tr>\n",
       "    <tr>\n",
       "      <th>97</th>\n",
       "      <td>PIRASO</td>\n",
       "      <td>₹649₹1,99967% off</td>\n",
       "      <td>UV Protection Aviator Sunglasses (54)</td>\n",
       "      <td>85% off</td>\n",
       "    </tr>\n",
       "    <tr>\n",
       "      <th>98</th>\n",
       "      <td>New Specs</td>\n",
       "      <td>₹283₹1,29978% off</td>\n",
       "      <td>UV Protection Rectangular Sunglasses (Free Size)</td>\n",
       "      <td>86% off</td>\n",
       "    </tr>\n",
       "    <tr>\n",
       "      <th>99</th>\n",
       "      <td>Ray-Ban</td>\n",
       "      <td>₹599₹79925% off</td>\n",
       "      <td>Gradient Round Sunglasses (54)</td>\n",
       "      <td>30% off</td>\n",
       "    </tr>\n",
       "  </tbody>\n",
       "</table>\n",
       "<p>100 rows × 4 columns</p>\n",
       "</div>"
      ],
      "text/plain": [
       "        Brand_name            P_price  \\\n",
       "0     Singco India  ₹630₹2,99978% off   \n",
       "1    VINCENT CHASE  ₹649₹1,99967% off   \n",
       "2         Fastrack    ₹649₹89927% off   \n",
       "3         Fastrack    ₹599₹79925% off   \n",
       "4               Mi  ₹699₹1,19941% off   \n",
       "..             ...                ...   \n",
       "95  ROZZETTA CRAFT    ₹649₹89927% off   \n",
       "96          PIRASO  ₹295₹2,49588% off   \n",
       "97          PIRASO  ₹649₹1,99967% off   \n",
       "98       New Specs  ₹283₹1,29978% off   \n",
       "99         Ray-Ban    ₹599₹79925% off   \n",
       "\n",
       "                                              Pr_desc P_discount  \n",
       "0   Gradient, Toughened Glass Lens, UV Protection ...    78% off  \n",
       "1               UV Protection Cat-eye Sunglasses (54)    67% off  \n",
       "2       UV Protection Wayfarer Sunglasses (Free Size)    27% off  \n",
       "3    UV Protection Rectangular Sunglasses (Free Size)    25% off  \n",
       "4            Polarized Aviator Sunglasses (Free Size)    41% off  \n",
       "..                                                ...        ...  \n",
       "95  UV Protection, Gradient Rectangular Sunglasses...    79% off  \n",
       "96              UV Protection Aviator Sunglasses (54)    85% off  \n",
       "97              UV Protection Aviator Sunglasses (54)    85% off  \n",
       "98   UV Protection Rectangular Sunglasses (Free Size)    86% off  \n",
       "99                     Gradient Round Sunglasses (54)    30% off  \n",
       "\n",
       "[100 rows x 4 columns]"
      ]
     },
     "execution_count": 391,
     "metadata": {},
     "output_type": "execute_result"
    }
   ],
   "source": [
    "sun_gl"
   ]
  },
  {
   "cell_type": "code",
   "execution_count": 392,
   "id": "206c497c",
   "metadata": {},
   "outputs": [],
   "source": [
    "driver.close()"
   ]
  },
  {
   "cell_type": "code",
   "execution_count": 393,
   "id": "3d5e133b",
   "metadata": {},
   "outputs": [],
   "source": [
    "sun_gl.to_csv(' 100 sunglasses listings on flipkart.com',index=False)"
   ]
  },
  {
   "cell_type": "markdown",
   "id": "37ab1185",
   "metadata": {},
   "source": [
    "# Q5: Scrape 100 reviews data from flipkart.com for iphone11 phone. \n",
    "As shown in the above page you have to scrape the tick marked attributes.These are:\n",
    "1. Rating\n",
    "2. Review summary\n",
    "3. Full review\n",
    "4. You have to scrape this data for first 100 reviews."
   ]
  },
  {
   "cell_type": "code",
   "execution_count": 394,
   "id": "c03a9a0f",
   "metadata": {},
   "outputs": [],
   "source": [
    "import selenium\n",
    "import pandas as pd\n",
    "from selenium import webdriver\n",
    "import warnings\n",
    "warnings.filterwarnings(\"ignore\")\n",
    "import time"
   ]
  },
  {
   "cell_type": "code",
   "execution_count": 395,
   "id": "4b1a0d94",
   "metadata": {},
   "outputs": [],
   "source": [
    "driver=webdriver.Chrome('chromedriver.exe')"
   ]
  },
  {
   "cell_type": "code",
   "execution_count": 397,
   "id": "ccf5718f",
   "metadata": {},
   "outputs": [],
   "source": [
    "driver.get('https://www.flipkart.com/apple-iphone-11-black-64-gb/p/itm0f37c2240b217')"
   ]
  },
  {
   "cell_type": "code",
   "execution_count": 415,
   "id": "c4aa3445",
   "metadata": {},
   "outputs": [],
   "source": [
    "Ratings=[]\n",
    "Review_summary=[]\n",
    "Full_review=[]"
   ]
  },
  {
   "cell_type": "code",
   "execution_count": 424,
   "id": "f7642aef",
   "metadata": {},
   "outputs": [
    {
     "data": {
      "text/plain": [
       "<selenium.webdriver.remote.webelement.WebElement (session=\"4d69f07af706d4bc6a8b9320cec2efb4\", element=\"23e5a77b-6a6a-4fad-ae13-07863ad1689d\")>"
      ]
     },
     "execution_count": 424,
     "metadata": {},
     "output_type": "execute_result"
    }
   ],
   "source": [
    "rating_tags=driver.find_element_by_xpath(\"/html/body/div[1]/div/div[3]/div[1]/div[2]/div[10]/div/div/div[5]/div/div[2]\")\n",
    "rating_tags"
   ]
  },
  {
   "cell_type": "code",
   "execution_count": 425,
   "id": "302f53f9",
   "metadata": {},
   "outputs": [
    {
     "ename": "TypeError",
     "evalue": "'WebElement' object is not iterable",
     "output_type": "error",
     "traceback": [
      "\u001b[1;31m---------------------------------------------------------------------------\u001b[0m",
      "\u001b[1;31mTypeError\u001b[0m                                 Traceback (most recent call last)",
      "\u001b[1;32m~\\AppData\\Local\\Temp/ipykernel_14840/2836036835.py\u001b[0m in \u001b[0;36m<module>\u001b[1;34m\u001b[0m\n\u001b[1;32m----> 1\u001b[1;33m \u001b[1;32mfor\u001b[0m \u001b[0mi\u001b[0m \u001b[1;32min\u001b[0m \u001b[0mrating_tags\u001b[0m\u001b[1;33m:\u001b[0m\u001b[1;33m\u001b[0m\u001b[1;33m\u001b[0m\u001b[0m\n\u001b[0m\u001b[0;32m      2\u001b[0m     \u001b[0mRatings\u001b[0m\u001b[1;33m.\u001b[0m\u001b[0mappend\u001b[0m\u001b[1;33m(\u001b[0m\u001b[0mi\u001b[0m\u001b[1;33m.\u001b[0m\u001b[0mtext\u001b[0m\u001b[1;33m)\u001b[0m\u001b[1;33m\u001b[0m\u001b[1;33m\u001b[0m\u001b[0m\n\u001b[0;32m      3\u001b[0m \u001b[0mRatings\u001b[0m\u001b[1;33m\u001b[0m\u001b[1;33m\u001b[0m\u001b[0m\n",
      "\u001b[1;31mTypeError\u001b[0m: 'WebElement' object is not iterable"
     ]
    }
   ],
   "source": [
    "for i in rating_tags:\n",
    "    Ratings.append(i.text)\n",
    "Ratings"
   ]
  },
  {
   "cell_type": "code",
   "execution_count": 427,
   "id": "c0e10417",
   "metadata": {},
   "outputs": [
    {
     "data": {
      "text/plain": [
       "[<selenium.webdriver.remote.webelement.WebElement (session=\"4d69f07af706d4bc6a8b9320cec2efb4\", element=\"dd22d6e4-ea4d-4141-bce5-c689c967ef50\")>]"
      ]
     },
     "execution_count": 427,
     "metadata": {},
     "output_type": "execute_result"
    }
   ],
   "source": [
    "review_summary=driver.find_elements_by_xpath(\"/html/body/div[1]/div/div[3]/div[1]/div[2]/div[10]/div/div/div[5]/div/div[4]/div[1]/div/div/div[1]\")\n",
    "review_summary"
   ]
  },
  {
   "cell_type": "code",
   "execution_count": 430,
   "id": "9351aae3",
   "metadata": {},
   "outputs": [
    {
     "data": {
      "text/plain": [
       "[<selenium.webdriver.remote.webelement.WebElement (session=\"4d69f07af706d4bc6a8b9320cec2efb4\", element=\"9fe958dd-f6cc-4f9e-b9e7-bed3ec418024\")>,\n",
       " <selenium.webdriver.remote.webelement.WebElement (session=\"4d69f07af706d4bc6a8b9320cec2efb4\", element=\"eadaef06-81cf-4152-b92b-a35a5ef946e1\")>,\n",
       " <selenium.webdriver.remote.webelement.WebElement (session=\"4d69f07af706d4bc6a8b9320cec2efb4\", element=\"2e6a58b6-59b6-4d16-87c7-314ec5b56b6f\")>,\n",
       " <selenium.webdriver.remote.webelement.WebElement (session=\"4d69f07af706d4bc6a8b9320cec2efb4\", element=\"f4943e63-976b-4148-8005-922fb3ae24b6\")>,\n",
       " <selenium.webdriver.remote.webelement.WebElement (session=\"4d69f07af706d4bc6a8b9320cec2efb4\", element=\"863ae862-1c60-482a-8e65-46c7f1776042\")>,\n",
       " <selenium.webdriver.remote.webelement.WebElement (session=\"4d69f07af706d4bc6a8b9320cec2efb4\", element=\"850ebc2e-14f6-4a06-bda3-13a55bafbf25\")>,\n",
       " <selenium.webdriver.remote.webelement.WebElement (session=\"4d69f07af706d4bc6a8b9320cec2efb4\", element=\"c9d2cf54-7089-416a-8cb8-8a0f4eb34873\")>,\n",
       " <selenium.webdriver.remote.webelement.WebElement (session=\"4d69f07af706d4bc6a8b9320cec2efb4\", element=\"b1a3c458-128a-4abe-a6b7-e5ad4ba798c1\")>,\n",
       " <selenium.webdriver.remote.webelement.WebElement (session=\"4d69f07af706d4bc6a8b9320cec2efb4\", element=\"bb4a84a7-1312-406d-8bd9-6b61f740bb6b\")>,\n",
       " <selenium.webdriver.remote.webelement.WebElement (session=\"4d69f07af706d4bc6a8b9320cec2efb4\", element=\"56ded0c0-6e00-4ead-b0e1-eb4394d089b5\")>]"
      ]
     },
     "execution_count": 430,
     "metadata": {},
     "output_type": "execute_result"
    }
   ],
   "source": [
    "full_review=driver.find_elements_by_xpath(\"//div[@class='t-ZTKy']\")\n",
    "full_review[:100]"
   ]
  },
  {
   "cell_type": "code",
   "execution_count": 435,
   "id": "105e1413",
   "metadata": {},
   "outputs": [
    {
     "data": {
      "text/plain": [
       "['The Best Phone for the Money\\n\\nThe iPhone 11 offers superb cameras, a more durable design and excellent battery life for an affordable price.\\n\\nCompelling ultra-wide camera\\nNew Night mode is excellent\\nLong battery life',\n",
       " 'Really satisfied with the Product I received... It’s totally genuine and the packaging was also really good so if ur planning to buy just go for it.',\n",
       " 'Great iPhone very snappy experience as apple kind. Upgraded from iPhone 7.\\nPros\\n-Camera top class\\n- Battery top performed\\n-Chipset no need to say as apple kind\\n-Security as you expect from apple\\n- Display super bright industry leading colour\\naccuracy and super responsive\\n-Build quality as expect from apple sturdy\\npremium durable beautiful stylish.\\n-Os most stable os in smartphone industry\\n\\nCons\\n-No 5G\\n-Display is not based on OLED technology\\n-Charger headphones and 1 apple stic...\\nREAD MORE',\n",
       " 'Amazing phone with great cameras and better battery which gives you the best performance. I just love the camera .',\n",
       " 'This is my first iOS phone. I am very happy with this product. Very much satisfied with this. I love this phone.',\n",
       " 'Previously I was using one plus 3t it was a great phone\\nAnd then I decided to upgrade I am stuck between Samsung s10 plus or iPhone 11\\nI have seen the specs and everything were good except the display it’s somewhere between 720-1080 and it’s not even an amoled it’s an LCD display\\nBut I decided to go with iPhone because I have never used an IOS device I have Been an android user from the past 9 years I ordered IPhone 11 (128gb) product red\\nMy experience after using 3 weeks\\n1. The delivery ...\\nREAD MORE',\n",
       " 'Amazing Powerful and Durable Gadget.\\n\\nI’m am very happy with the camera picture quality, Amazing face id unlocked in dark room, Strong battery with perfect screen size as you can carry easily in pocket. This is my third iPhone.\\n\\nI shifted from android Samsung Note series to iPhone because of the strong build quality and peace of mind for next 3-4 years.\\n\\nDon’t think to much just go for it and I suggest you to go for minimum 128gb variant or more 256gb.\\n\\nI’ve attached my puppy pics and no fi...\\nREAD MORE',\n",
       " 'So far it’s been an AMAZING experience coming back to iOS after nearly a decade but it’s not as versatile as android though phone is sturdy dropped it accidentally a couple of times and nothing happened fortunately camera is awesome',\n",
       " 'i11 is worthy to buy, too much happy with the product. Thank u flipkart I received the item on time..loved it..',\n",
       " 'What a camera .....just awesome ..you can feel this iPhone just awesome . Good for gaming also ...try pubg in hd it’s just wow']"
      ]
     },
     "execution_count": 435,
     "metadata": {},
     "output_type": "execute_result"
    }
   ],
   "source": [
    "for i in full_review:\n",
    "    review=(i.text)\n",
    "    Full_review.append(review)\n",
    "Full_review[:100]"
   ]
  },
  {
   "cell_type": "code",
   "execution_count": 436,
   "id": "2e684e4f",
   "metadata": {},
   "outputs": [
    {
     "ename": "TypeError",
     "evalue": "object of type 'WebElement' has no len()",
     "output_type": "error",
     "traceback": [
      "\u001b[1;31m---------------------------------------------------------------------------\u001b[0m",
      "\u001b[1;31mTypeError\u001b[0m                                 Traceback (most recent call last)",
      "\u001b[1;32m~\\AppData\\Local\\Temp/ipykernel_14840/3246059401.py\u001b[0m in \u001b[0;36m<module>\u001b[1;34m\u001b[0m\n\u001b[1;32m----> 1\u001b[1;33m \u001b[0mprint\u001b[0m\u001b[1;33m(\u001b[0m\u001b[0mlen\u001b[0m\u001b[1;33m(\u001b[0m\u001b[0mrating_tags\u001b[0m\u001b[1;33m)\u001b[0m\u001b[1;33m,\u001b[0m\u001b[0mlen\u001b[0m\u001b[1;33m(\u001b[0m\u001b[0mreview_summary\u001b[0m\u001b[1;33m)\u001b[0m\u001b[1;33m,\u001b[0m\u001b[0mlen\u001b[0m\u001b[1;33m(\u001b[0m\u001b[0mFull_review\u001b[0m\u001b[1;33m)\u001b[0m\u001b[1;33m)\u001b[0m\u001b[1;33m,\u001b[0m\u001b[1;33m\u001b[0m\u001b[1;33m\u001b[0m\u001b[0m\n\u001b[0m",
      "\u001b[1;31mTypeError\u001b[0m: object of type 'WebElement' has no len()"
     ]
    }
   ],
   "source": [
    "print(len(rating_tags),len(review_summary),len(Full_review)),"
   ]
  },
  {
   "cell_type": "code",
   "execution_count": 439,
   "id": "baff7281",
   "metadata": {},
   "outputs": [],
   "source": [
    "driver.close()"
   ]
  },
  {
   "cell_type": "markdown",
   "id": "77981d80",
   "metadata": {},
   "source": [
    "# Q6: Scrape data for first 100 sneakers you find when you visit flipkart.com andsearch for “sneakers” in the\n",
    "search field.\n",
    "You have to scrape 4 attributes of each sneaker:\n",
    "1. Brand\n",
    "2. Product Description\n",
    "3. Price"
   ]
  },
  {
   "cell_type": "code",
   "execution_count": 450,
   "id": "68360714",
   "metadata": {},
   "outputs": [],
   "source": [
    "import selenium\n",
    "import pandas as pd\n",
    "from selenium import webdriver\n",
    "import warnings\n",
    "warnings.filterwarnings(\"ignore\")\n",
    "import time"
   ]
  },
  {
   "cell_type": "code",
   "execution_count": 451,
   "id": "e12344ee",
   "metadata": {},
   "outputs": [],
   "source": [
    "driver=webdriver.Chrome('chromedriver.exe')"
   ]
  },
  {
   "cell_type": "code",
   "execution_count": 452,
   "id": "0270168b",
   "metadata": {},
   "outputs": [],
   "source": [
    "driver.get('https://www.flipkart.com')"
   ]
  },
  {
   "cell_type": "code",
   "execution_count": 455,
   "id": "cbe6124c",
   "metadata": {},
   "outputs": [],
   "source": [
    "search_g= driver.find_element_by_xpath(\"//input[@type='text']\")\n",
    "search_g.send_keys('sneakers')"
   ]
  },
  {
   "cell_type": "code",
   "execution_count": 456,
   "id": "cb98aadf",
   "metadata": {},
   "outputs": [],
   "source": [
    "search_button=driver.find_element_by_class_name(\"L0Z3Pu\")\n",
    "search_button.click()"
   ]
  },
  {
   "cell_type": "code",
   "execution_count": 458,
   "id": "544a1929",
   "metadata": {},
   "outputs": [],
   "source": [
    "Brand_name=[]\n",
    "Pro_descr=[]\n",
    "Price=[]\n",
    "Discount=[]"
   ]
  },
  {
   "cell_type": "code",
   "execution_count": 459,
   "id": "3dbdece0",
   "metadata": {},
   "outputs": [],
   "source": [
    "for i in range(3):\n",
    "    B_name=driver.find_elements_by_xpath(\"//div[@class='_2WkVRV']\")\n",
    "    P_descr=driver.find_elements_by_xpath(\"//a[@class='IRpwTa']\")\n",
    "    price=driver.find_elements_by_xpath(\"//div[@class='_25b18c']\")\n",
    "    discount=driver.find_elements_by_xpath(\"//div[@class='_3Ay6Sb']\")\n",
    "    \n",
    "    for j in B_name:\n",
    "        Brand_name.append(j.text)\n",
    "    Brand_name[:100]\n",
    "\n",
    "    for k in P_descr:\n",
    "        Pro_descr.append(k.text)\n",
    "    Pro_descr[:100]\n",
    "\n",
    "    for l in price:\n",
    "        Price.append(l.text)\n",
    "    Price[:100]\n",
    "\n",
    "    for t in discount:\n",
    "        Discount.append(t.text)\n",
    "    Discount[:100]       "
   ]
  },
  {
   "cell_type": "code",
   "execution_count": 460,
   "id": "fd71f788",
   "metadata": {},
   "outputs": [
    {
     "data": {
      "text/plain": [
       "['BRUTON',\n",
       " 'KNIGHT WALKERS',\n",
       " 'URBANBOX',\n",
       " 'KWIK FIT',\n",
       " 'corsac',\n",
       " 'BRUTON',\n",
       " 'BIRDE',\n",
       " 'KNIGHT WALKERS',\n",
       " 'ONECENTRE',\n",
       " 'Magnolia',\n",
       " 'Labbin',\n",
       " 'DRESTA',\n",
       " 'ASTEROID',\n",
       " 'World Wear Footwear',\n",
       " 'SCATCHITE',\n",
       " 'HIGHLANDER',\n",
       " 'World Wear Footwear',\n",
       " 'Layasa',\n",
       " 'corsac',\n",
       " 'KWIK FIT',\n",
       " 'EMPTILE',\n",
       " 'Kraasa',\n",
       " 'luxury fashion',\n",
       " 'hzisbo',\n",
       " 'World Wear Footwear',\n",
       " 'World Wear Footwear',\n",
       " 'ASTEROID',\n",
       " 'Arivo',\n",
       " 'BRUTON',\n",
       " 'CLYMB',\n",
       " 'BRUTON',\n",
       " 'HIGHLANDER',\n",
       " 'WHITE WALKERS',\n",
       " 'Robbie jones',\n",
       " 'BRUTON',\n",
       " 'HIGHLANDER',\n",
       " 'BIRDE',\n",
       " 'aadi',\n",
       " 'WHITE WALKERS',\n",
       " 'HIGHLANDER',\n",
       " 'BRUTON',\n",
       " 'KNIGHT WALKERS',\n",
       " 'URBANBOX',\n",
       " 'KWIK FIT',\n",
       " 'corsac',\n",
       " 'BRUTON',\n",
       " 'BIRDE',\n",
       " 'KNIGHT WALKERS',\n",
       " 'ONECENTRE',\n",
       " 'Magnolia',\n",
       " 'Labbin',\n",
       " 'DRESTA',\n",
       " 'ASTEROID',\n",
       " 'World Wear Footwear',\n",
       " 'SCATCHITE',\n",
       " 'HIGHLANDER',\n",
       " 'World Wear Footwear',\n",
       " 'Layasa',\n",
       " 'corsac',\n",
       " 'KWIK FIT',\n",
       " 'EMPTILE',\n",
       " 'Kraasa',\n",
       " 'luxury fashion',\n",
       " 'hzisbo',\n",
       " 'World Wear Footwear',\n",
       " 'World Wear Footwear',\n",
       " 'ASTEROID',\n",
       " 'Arivo',\n",
       " 'BRUTON',\n",
       " 'CLYMB',\n",
       " 'BRUTON',\n",
       " 'HIGHLANDER',\n",
       " 'WHITE WALKERS',\n",
       " 'Robbie jones',\n",
       " 'BRUTON',\n",
       " 'HIGHLANDER',\n",
       " 'BIRDE',\n",
       " 'aadi',\n",
       " 'WHITE WALKERS',\n",
       " 'HIGHLANDER',\n",
       " 'BRUTON',\n",
       " 'KNIGHT WALKERS',\n",
       " 'URBANBOX',\n",
       " 'KWIK FIT',\n",
       " 'corsac',\n",
       " 'BRUTON',\n",
       " 'BIRDE',\n",
       " 'KNIGHT WALKERS',\n",
       " 'ONECENTRE',\n",
       " 'Magnolia',\n",
       " 'Labbin',\n",
       " 'DRESTA',\n",
       " 'ASTEROID',\n",
       " 'World Wear Footwear',\n",
       " 'SCATCHITE',\n",
       " 'HIGHLANDER',\n",
       " 'World Wear Footwear',\n",
       " 'Layasa',\n",
       " 'corsac',\n",
       " 'KWIK FIT']"
      ]
     },
     "execution_count": 460,
     "metadata": {},
     "output_type": "execute_result"
    }
   ],
   "source": [
    "Brand_name[:100]"
   ]
  },
  {
   "cell_type": "code",
   "execution_count": 461,
   "id": "7b07dcf1",
   "metadata": {},
   "outputs": [
    {
     "name": "stdout",
     "output_type": "stream",
     "text": [
      "100 100 100 100\n"
     ]
    }
   ],
   "source": [
    "print(len(Brand_name[:100]),len(Pro_descr[:100]),len(Price[:100]),len(Discount[:100]))"
   ]
  },
  {
   "cell_type": "code",
   "execution_count": 462,
   "id": "17c656c8",
   "metadata": {},
   "outputs": [],
   "source": [
    "sneakers=pd.DataFrame({})\n",
    "sneakers['Brand_title']=Brand_name[:100]\n",
    "sneakers['P_price']=Price[:100]\n",
    "sneakers['Pr_desc']=Pro_descr[:100]\n",
    "sneakers['P_discount']=Discount[:100]"
   ]
  },
  {
   "cell_type": "code",
   "execution_count": 463,
   "id": "da22058c",
   "metadata": {},
   "outputs": [
    {
     "data": {
      "text/html": [
       "<div>\n",
       "<style scoped>\n",
       "    .dataframe tbody tr th:only-of-type {\n",
       "        vertical-align: middle;\n",
       "    }\n",
       "\n",
       "    .dataframe tbody tr th {\n",
       "        vertical-align: top;\n",
       "    }\n",
       "\n",
       "    .dataframe thead th {\n",
       "        text-align: right;\n",
       "    }\n",
       "</style>\n",
       "<table border=\"1\" class=\"dataframe\">\n",
       "  <thead>\n",
       "    <tr style=\"text-align: right;\">\n",
       "      <th></th>\n",
       "      <th>Brand_title</th>\n",
       "      <th>P_price</th>\n",
       "      <th>Pr_desc</th>\n",
       "      <th>P_discount</th>\n",
       "    </tr>\n",
       "  </thead>\n",
       "  <tbody>\n",
       "    <tr>\n",
       "      <th>0</th>\n",
       "      <td>BRUTON</td>\n",
       "      <td>₹505₹1,29961% off</td>\n",
       "      <td>Modern Trendy Sneakers Shoes Sneakers For Men</td>\n",
       "      <td>61% off</td>\n",
       "    </tr>\n",
       "    <tr>\n",
       "      <th>1</th>\n",
       "      <td>KNIGHT WALKERS</td>\n",
       "      <td>₹598₹1,49960% off</td>\n",
       "      <td>Sneakers For Men</td>\n",
       "      <td>60% off</td>\n",
       "    </tr>\n",
       "    <tr>\n",
       "      <th>2</th>\n",
       "      <td>URBANBOX</td>\n",
       "      <td>₹142₹99985% off</td>\n",
       "      <td>Kwik FIT casual sneaker shoes and partywear sh...</td>\n",
       "      <td>85% off</td>\n",
       "    </tr>\n",
       "    <tr>\n",
       "      <th>3</th>\n",
       "      <td>KWIK FIT</td>\n",
       "      <td>₹349₹1,99982% off</td>\n",
       "      <td>STYLISH MENS BLACK SNEAKER Sneakers For Men</td>\n",
       "      <td>82% off</td>\n",
       "    </tr>\n",
       "    <tr>\n",
       "      <th>4</th>\n",
       "      <td>corsac</td>\n",
       "      <td>₹449₹1,49970% off</td>\n",
       "      <td>Canvas shoes for Men Sneakers For Men</td>\n",
       "      <td>70% off</td>\n",
       "    </tr>\n",
       "    <tr>\n",
       "      <th>...</th>\n",
       "      <td>...</td>\n",
       "      <td>...</td>\n",
       "      <td>...</td>\n",
       "      <td>...</td>\n",
       "    </tr>\n",
       "    <tr>\n",
       "      <th>95</th>\n",
       "      <td>HIGHLANDER</td>\n",
       "      <td>₹299₹1,29976% off</td>\n",
       "      <td>STYLISH MENS BLACK TRENDY SNEAKER FOR MENS Sne...</td>\n",
       "      <td>52% off</td>\n",
       "    </tr>\n",
       "    <tr>\n",
       "      <th>96</th>\n",
       "      <td>World Wear Footwear</td>\n",
       "      <td>₹269₹99973% off</td>\n",
       "      <td>Kwik FIT casual sneaker shoes and partywear sh...</td>\n",
       "      <td>60% off</td>\n",
       "    </tr>\n",
       "    <tr>\n",
       "      <th>97</th>\n",
       "      <td>Layasa</td>\n",
       "      <td>₹598₹1,49960% off</td>\n",
       "      <td>all white heartbeat casual shoe Sneakers For Men</td>\n",
       "      <td>60% off</td>\n",
       "    </tr>\n",
       "    <tr>\n",
       "      <th>98</th>\n",
       "      <td>corsac</td>\n",
       "      <td>₹250₹62560% off</td>\n",
       "      <td>Series 7 Sneakers For Men</td>\n",
       "      <td>66% off</td>\n",
       "    </tr>\n",
       "    <tr>\n",
       "      <th>99</th>\n",
       "      <td>KWIK FIT</td>\n",
       "      <td>₹351₹99964% off</td>\n",
       "      <td>Sneakers For Men</td>\n",
       "      <td>80% off</td>\n",
       "    </tr>\n",
       "  </tbody>\n",
       "</table>\n",
       "<p>100 rows × 4 columns</p>\n",
       "</div>"
      ],
      "text/plain": [
       "            Brand_title            P_price  \\\n",
       "0                BRUTON  ₹505₹1,29961% off   \n",
       "1        KNIGHT WALKERS  ₹598₹1,49960% off   \n",
       "2              URBANBOX    ₹142₹99985% off   \n",
       "3              KWIK FIT  ₹349₹1,99982% off   \n",
       "4                corsac  ₹449₹1,49970% off   \n",
       "..                  ...                ...   \n",
       "95           HIGHLANDER  ₹299₹1,29976% off   \n",
       "96  World Wear Footwear    ₹269₹99973% off   \n",
       "97               Layasa  ₹598₹1,49960% off   \n",
       "98               corsac    ₹250₹62560% off   \n",
       "99             KWIK FIT    ₹351₹99964% off   \n",
       "\n",
       "                                              Pr_desc P_discount  \n",
       "0       Modern Trendy Sneakers Shoes Sneakers For Men    61% off  \n",
       "1                                    Sneakers For Men    60% off  \n",
       "2   Kwik FIT casual sneaker shoes and partywear sh...    85% off  \n",
       "3         STYLISH MENS BLACK SNEAKER Sneakers For Men    82% off  \n",
       "4               Canvas shoes for Men Sneakers For Men    70% off  \n",
       "..                                                ...        ...  \n",
       "95  STYLISH MENS BLACK TRENDY SNEAKER FOR MENS Sne...    52% off  \n",
       "96  Kwik FIT casual sneaker shoes and partywear sh...    60% off  \n",
       "97   all white heartbeat casual shoe Sneakers For Men    60% off  \n",
       "98                          Series 7 Sneakers For Men    66% off  \n",
       "99                                   Sneakers For Men    80% off  \n",
       "\n",
       "[100 rows x 4 columns]"
      ]
     },
     "execution_count": 463,
     "metadata": {},
     "output_type": "execute_result"
    }
   ],
   "source": [
    "sneakers"
   ]
  },
  {
   "cell_type": "code",
   "execution_count": 464,
   "id": "1c108fdc",
   "metadata": {},
   "outputs": [],
   "source": [
    "sneakers.to_csv(': Scrape data for first 100 sneakers in filpkart',index=False)"
   ]
  },
  {
   "cell_type": "code",
   "execution_count": 465,
   "id": "9b7923f8",
   "metadata": {},
   "outputs": [],
   "source": [
    "driver.close()"
   ]
  },
  {
   "cell_type": "markdown",
   "id": "0cd4dec7",
   "metadata": {},
   "source": [
    "# Q7: Go to the link - https://www.myntra.com/shoes\n",
    "Set Price filter to “Rs. 7149 to Rs. 14099 ” , Color filter to “Black”, as shown inthe below image.\n",
    "And then scrape First 100 shoes data you get. The data should include “Brand” of the shoes , Short Shoe\n",
    "description, price of the shoe as shown in the below image"
   ]
  },
  {
   "cell_type": "code",
   "execution_count": 478,
   "id": "4162eb71",
   "metadata": {},
   "outputs": [],
   "source": [
    "driver=webdriver.Chrome('chromedriver.exe')"
   ]
  },
  {
   "cell_type": "code",
   "execution_count": 479,
   "id": "44e0661c",
   "metadata": {},
   "outputs": [],
   "source": [
    "driver.get(\"https://www.myntra.com/shoes\")"
   ]
  },
  {
   "cell_type": "code",
   "execution_count": 483,
   "id": "55b828f5",
   "metadata": {},
   "outputs": [],
   "source": [
    "filter_button=driver.find_elements_by_xpath(\"//label[@class='common-customCheckbox vertical-filters-label']\")\n",
    "for i in filter_button:\n",
    "    if i.text==\"Rs. 7119 to Rs. 14079\":\n",
    "        i.click()\n",
    "        break\n"
   ]
  },
  {
   "cell_type": "code",
   "execution_count": 481,
   "id": "709b218e",
   "metadata": {},
   "outputs": [],
   "source": [
    "filter_button=driver.find_elements_by_xpath(\"//li[@class='colour-listItem']\")\n",
    "for i in filter_button:\n",
    "    if i.text==\"Black\":\n",
    "        i.click()\n",
    "        break"
   ]
  },
  {
   "cell_type": "code",
   "execution_count": 482,
   "id": "948365e8",
   "metadata": {},
   "outputs": [],
   "source": [
    "Brand_name=[]\n",
    "Price=[]\n",
    "Pro_descr=[]"
   ]
  },
  {
   "cell_type": "code",
   "execution_count": 484,
   "id": "5e7b44c0",
   "metadata": {},
   "outputs": [],
   "source": [
    "for i in range(2):\n",
    "    b_name=driver.find_elements_by_xpath(\"//h3[@class='product-brand']\")\n",
    "    p_desc=driver.find_elements_by_xpath(\"//h4[@class='product-product']\")\n",
    "    price =driver.find_elements_by_xpath(\"//div[@class='product-price']\")\n",
    " \n",
    "    for j  in b_name:\n",
    "        Brand_name.append(j.text)\n",
    "    Brand_name[:100]    \n",
    "    \n",
    "    \n",
    "    \n",
    "    for k in p_desc:\n",
    "        Pro_descr.append(k.text)\n",
    "    Pro_descr[:100] \n",
    "    \n",
    "    \n",
    "    for l in price:\n",
    "        Price.append(l.text)\n",
    "    Price[:100] "
   ]
  },
  {
   "cell_type": "code",
   "execution_count": 485,
   "id": "b4ddee3c",
   "metadata": {},
   "outputs": [
    {
     "data": {
      "text/plain": [
       "['ALDO',\n",
       " 'ALDO',\n",
       " 'Skechers',\n",
       " 'ALDO',\n",
       " 'Skechers',\n",
       " 'UNDER ARMOUR',\n",
       " 'Skechers',\n",
       " 'Nike',\n",
       " 'Puma',\n",
       " 'ALDO',\n",
       " 'one8 x PUMA',\n",
       " 'ALDO',\n",
       " 'Hush Puppies',\n",
       " 'ALDO',\n",
       " 'UNDER ARMOUR',\n",
       " 'UNDER ARMOUR',\n",
       " 'UNDER ARMOUR',\n",
       " 'PUMA Motorsport',\n",
       " 'Puma',\n",
       " 'Skechers',\n",
       " 'DAVINCHI',\n",
       " 'Puma',\n",
       " 'Puma',\n",
       " 'Puma',\n",
       " 'Skechers',\n",
       " 'UNDER ARMOUR',\n",
       " 'Puma',\n",
       " 'Nike',\n",
       " 'UNDER ARMOUR',\n",
       " 'ADIDAS Originals',\n",
       " 'ADIDAS Originals',\n",
       " 'Geox',\n",
       " 'PUMA Motorsport',\n",
       " 'Puma',\n",
       " 'Nike',\n",
       " 'UNDER ARMOUR',\n",
       " 'Hush Puppies',\n",
       " 'PUMA Motorsport',\n",
       " 'ADIDAS',\n",
       " 'Puma',\n",
       " 'PUMA Motorsport',\n",
       " 'New Balance',\n",
       " 'ASICS',\n",
       " 'Geox',\n",
       " 'Reebok',\n",
       " 'Louis Philippe',\n",
       " 'UNDER ARMOUR',\n",
       " 'ADIDAS',\n",
       " 'Puma',\n",
       " 'Tommy Hilfiger',\n",
       " 'ALDO',\n",
       " 'ALDO',\n",
       " 'Skechers',\n",
       " 'ALDO',\n",
       " 'Skechers',\n",
       " 'UNDER ARMOUR',\n",
       " 'Skechers',\n",
       " 'Nike',\n",
       " 'Puma',\n",
       " 'ALDO',\n",
       " 'one8 x PUMA',\n",
       " 'ALDO',\n",
       " 'Hush Puppies',\n",
       " 'ALDO',\n",
       " 'UNDER ARMOUR',\n",
       " 'UNDER ARMOUR',\n",
       " 'UNDER ARMOUR',\n",
       " 'PUMA Motorsport',\n",
       " 'Puma',\n",
       " 'Skechers',\n",
       " 'DAVINCHI',\n",
       " 'Puma',\n",
       " 'Puma',\n",
       " 'Puma',\n",
       " 'Skechers',\n",
       " 'UNDER ARMOUR',\n",
       " 'Puma',\n",
       " 'Nike',\n",
       " 'UNDER ARMOUR',\n",
       " 'ADIDAS Originals',\n",
       " 'ADIDAS Originals',\n",
       " 'Geox',\n",
       " 'PUMA Motorsport',\n",
       " 'Puma',\n",
       " 'Nike',\n",
       " 'UNDER ARMOUR',\n",
       " 'Hush Puppies',\n",
       " 'PUMA Motorsport',\n",
       " 'ADIDAS',\n",
       " 'Puma',\n",
       " 'PUMA Motorsport',\n",
       " 'New Balance',\n",
       " 'ASICS',\n",
       " 'Geox',\n",
       " 'Reebok',\n",
       " 'Louis Philippe',\n",
       " 'UNDER ARMOUR',\n",
       " 'ADIDAS',\n",
       " 'Puma',\n",
       " 'Tommy Hilfiger']"
      ]
     },
     "execution_count": 485,
     "metadata": {},
     "output_type": "execute_result"
    }
   ],
   "source": [
    "Brand_name[:100]"
   ]
  },
  {
   "cell_type": "code",
   "execution_count": 486,
   "id": "8acb2986",
   "metadata": {},
   "outputs": [
    {
     "name": "stdout",
     "output_type": "stream",
     "text": [
      "100 100 100\n"
     ]
    }
   ],
   "source": [
    "print(len(Brand_name[:100]),len(Pro_descr[:100]),len(Price[:100]))"
   ]
  },
  {
   "cell_type": "code",
   "execution_count": 487,
   "id": "06f6e7cd",
   "metadata": {},
   "outputs": [],
   "source": [
    "Shoes=pd.DataFrame({})\n",
    "Shoes['Brand_title']=Brand_name[:100]\n",
    "Shoes['P_price']=Price[:100]\n",
    "Shoes['Pr_desc']=Pro_descr[:100]"
   ]
  },
  {
   "cell_type": "code",
   "execution_count": 489,
   "id": "7563174c",
   "metadata": {},
   "outputs": [
    {
     "data": {
      "text/html": [
       "<div>\n",
       "<style scoped>\n",
       "    .dataframe tbody tr th:only-of-type {\n",
       "        vertical-align: middle;\n",
       "    }\n",
       "\n",
       "    .dataframe tbody tr th {\n",
       "        vertical-align: top;\n",
       "    }\n",
       "\n",
       "    .dataframe thead th {\n",
       "        text-align: right;\n",
       "    }\n",
       "</style>\n",
       "<table border=\"1\" class=\"dataframe\">\n",
       "  <thead>\n",
       "    <tr style=\"text-align: right;\">\n",
       "      <th></th>\n",
       "      <th>Brand_title</th>\n",
       "      <th>P_price</th>\n",
       "      <th>Pr_desc</th>\n",
       "    </tr>\n",
       "  </thead>\n",
       "  <tbody>\n",
       "    <tr>\n",
       "      <th>0</th>\n",
       "      <td>ALDO</td>\n",
       "      <td>Rs. 13999</td>\n",
       "      <td>Men Woven Design Sneakers</td>\n",
       "    </tr>\n",
       "    <tr>\n",
       "      <th>1</th>\n",
       "      <td>ALDO</td>\n",
       "      <td>Rs. 12999</td>\n",
       "      <td>Men Leather Driving Shoes</td>\n",
       "    </tr>\n",
       "    <tr>\n",
       "      <th>2</th>\n",
       "      <td>Skechers</td>\n",
       "      <td>Rs. 7649Rs. 8999(15% OFF)</td>\n",
       "      <td>Men Max Cushioning Running</td>\n",
       "    </tr>\n",
       "    <tr>\n",
       "      <th>3</th>\n",
       "      <td>ALDO</td>\n",
       "      <td>Rs. 12999</td>\n",
       "      <td>Men Leather Loafers</td>\n",
       "    </tr>\n",
       "    <tr>\n",
       "      <th>4</th>\n",
       "      <td>Skechers</td>\n",
       "      <td>Rs. 7224Rs. 8499(15% OFF)</td>\n",
       "      <td>Men Go Walk 5 Walking Shoes</td>\n",
       "    </tr>\n",
       "    <tr>\n",
       "      <th>...</th>\n",
       "      <td>...</td>\n",
       "      <td>...</td>\n",
       "      <td>...</td>\n",
       "    </tr>\n",
       "    <tr>\n",
       "      <th>95</th>\n",
       "      <td>Louis Philippe</td>\n",
       "      <td>Rs. 9999</td>\n",
       "      <td>Men Solid Leather Formal Loafers</td>\n",
       "    </tr>\n",
       "    <tr>\n",
       "      <th>96</th>\n",
       "      <td>UNDER ARMOUR</td>\n",
       "      <td>Rs. 8999</td>\n",
       "      <td>Women Breeze Running Shoes</td>\n",
       "    </tr>\n",
       "    <tr>\n",
       "      <th>97</th>\n",
       "      <td>ADIDAS</td>\n",
       "      <td>Rs. 13999</td>\n",
       "      <td>Men Solar Glide 5 Running Shoe</td>\n",
       "    </tr>\n",
       "    <tr>\n",
       "      <th>98</th>\n",
       "      <td>Puma</td>\n",
       "      <td>Rs. 9999</td>\n",
       "      <td>Electrify Nitro Running Shoes</td>\n",
       "    </tr>\n",
       "    <tr>\n",
       "      <th>99</th>\n",
       "      <td>Tommy Hilfiger</td>\n",
       "      <td>Rs. 7739Rs. 8599(10% OFF)</td>\n",
       "      <td>Men Leather Sneakers</td>\n",
       "    </tr>\n",
       "  </tbody>\n",
       "</table>\n",
       "<p>100 rows × 3 columns</p>\n",
       "</div>"
      ],
      "text/plain": [
       "       Brand_title                    P_price  \\\n",
       "0             ALDO                  Rs. 13999   \n",
       "1             ALDO                  Rs. 12999   \n",
       "2         Skechers  Rs. 7649Rs. 8999(15% OFF)   \n",
       "3             ALDO                  Rs. 12999   \n",
       "4         Skechers  Rs. 7224Rs. 8499(15% OFF)   \n",
       "..             ...                        ...   \n",
       "95  Louis Philippe                   Rs. 9999   \n",
       "96    UNDER ARMOUR                   Rs. 8999   \n",
       "97          ADIDAS                  Rs. 13999   \n",
       "98            Puma                   Rs. 9999   \n",
       "99  Tommy Hilfiger  Rs. 7739Rs. 8599(10% OFF)   \n",
       "\n",
       "                             Pr_desc  \n",
       "0          Men Woven Design Sneakers  \n",
       "1          Men Leather Driving Shoes  \n",
       "2         Men Max Cushioning Running  \n",
       "3                Men Leather Loafers  \n",
       "4        Men Go Walk 5 Walking Shoes  \n",
       "..                               ...  \n",
       "95  Men Solid Leather Formal Loafers  \n",
       "96        Women Breeze Running Shoes  \n",
       "97    Men Solar Glide 5 Running Shoe  \n",
       "98     Electrify Nitro Running Shoes  \n",
       "99              Men Leather Sneakers  \n",
       "\n",
       "[100 rows x 3 columns]"
      ]
     },
     "execution_count": 489,
     "metadata": {},
     "output_type": "execute_result"
    }
   ],
   "source": [
    "Shoes"
   ]
  },
  {
   "cell_type": "code",
   "execution_count": 491,
   "id": "3c917b5e",
   "metadata": {},
   "outputs": [],
   "source": [
    "driver.close()"
   ]
  },
  {
   "cell_type": "markdown",
   "id": "0ea4ebc1",
   "metadata": {},
   "source": [
    "# Q8: Go to webpage https://www.amazon.in/\n",
    "Enter “Laptop” in the search field and then click the search icon.\n",
    "Then set CPU Type filter to “Intel Core i7” and “Intel Core i9” as shown in the below image\n",
    "After setting the filters scrape first 10 laptops data. You have to scrape 3 attributesfor each laptop:\n",
    "1. Title\n",
    "2. Ratings\n",
    "3. Price"
   ]
  },
  {
   "cell_type": "code",
   "execution_count": 1,
   "id": "c0d7b15d",
   "metadata": {},
   "outputs": [],
   "source": [
    "import selenium\n",
    "import pandas as pd\n",
    "from selenium import webdriver\n",
    "import warnings\n",
    "warnings.filterwarnings(\"ignore\")\n",
    "import time"
   ]
  },
  {
   "cell_type": "code",
   "execution_count": 2,
   "id": "fe1528bd",
   "metadata": {},
   "outputs": [],
   "source": [
    "driver=webdriver.Chrome('chromedriver.exe')"
   ]
  },
  {
   "cell_type": "code",
   "execution_count": 3,
   "id": "3225a520",
   "metadata": {},
   "outputs": [],
   "source": [
    "driver.get(\"https://www.amazon.in/\")"
   ]
  },
  {
   "cell_type": "code",
   "execution_count": 4,
   "id": "3243dc59",
   "metadata": {},
   "outputs": [
    {
     "data": {
      "text/plain": [
       "<selenium.webdriver.remote.webelement.WebElement (session=\"f4a60fe98e3dcfc066fc01add4160a02\", element=\"ea978b7f-7440-49f8-8487-e361a8e84985\")>"
      ]
     },
     "execution_count": 4,
     "metadata": {},
     "output_type": "execute_result"
    }
   ],
   "source": [
    "search_g= driver.find_element_by_xpath(\"//input[@type='text']\")\n",
    "search_g"
   ]
  },
  {
   "cell_type": "code",
   "execution_count": 5,
   "id": "5652bc7b",
   "metadata": {},
   "outputs": [],
   "source": [
    "search_g.send_keys('Laptop')"
   ]
  },
  {
   "cell_type": "code",
   "execution_count": 6,
   "id": "09812e69",
   "metadata": {},
   "outputs": [],
   "source": [
    "search_button=driver.find_element_by_xpath(\"//div[@class='nav-search-submit nav-sprite']\")\n",
    "search_button.click()"
   ]
  },
  {
   "cell_type": "code",
   "execution_count": 7,
   "id": "45f4283e",
   "metadata": {},
   "outputs": [],
   "source": [
    "filter_button=driver.find_elements_by_xpath(\"//li[@id='p_n_feature_thirteen_browse-bin/12598163031']\")\n",
    "for i in filter_button:\n",
    "    if i.text==\"Intel Core i7\":\n",
    "        i.click()\n",
    "        break\n"
   ]
  },
  {
   "cell_type": "code",
   "execution_count": 8,
   "id": "9ad9bf52",
   "metadata": {},
   "outputs": [],
   "source": [
    "Title=[]\n",
    "Price=[]\n",
    "Rating=[]"
   ]
  },
  {
   "cell_type": "code",
   "execution_count": 9,
   "id": "8a80ebaa",
   "metadata": {},
   "outputs": [],
   "source": [
    "for i in range(3):\n",
    "    b_name=driver.find_elements_by_xpath(\"//h2[@class='a-size-mini a-spacing-none a-color-base s-line-clamp-2']\")\n",
    "    ratings=driver.find_elements_by_xpath(\"//div[@class='a-section a-spacing-none a-spacing-top-micro']\")\n",
    "    price =driver.find_elements_by_xpath(\"//span[@class='a-price-whole']\")\n",
    "    \n",
    "    \n",
    "    for j  in b_name:\n",
    "        Title.append(j.text)\n",
    "    Title[:10]    \n",
    "    \n",
    "    \n",
    "    \n",
    "    for k in ratings:\n",
    "        Rating.append(k.text)\n",
    "    Rating[:10] \n",
    "    \n",
    "    \n",
    "    for l in price:\n",
    "        Price.append(l.text)\n",
    "    Price[:10] \n",
    "    \n",
    "    "
   ]
  },
  {
   "cell_type": "code",
   "execution_count": 10,
   "id": "5119fede",
   "metadata": {},
   "outputs": [
    {
     "data": {
      "text/plain": [
       "['LG Gram Intel Evo 11th Gen Core i7 17 inches Ultra-Light Laptop (16 GB RAM, 512 GB SSD, New Windows 11 Home Preload, Iris Xe Graphics, USC -C x 2 (with Power), 1.35 kg, 17Z90P-G.AH85A2, Black)',\n",
       " 'Acer Predator Helios 300 11th Gen Intel Core i9-11900H 15.6 inches FHD IPS Gaming Laptop (32GB/1TB SSD/Windows 11 Home/8GB Graphics/NVIDIA GeForce RTX 3070/300 Hz, Black, 2.3Kg) PH315-54',\n",
       " 'ASUS VivoBook 15 (2021), 15.6-inch (39.62 cm) HD, Dual Core Intel Celeron N4020, Thin and Light Laptop (4GB RAM/256GB SSD/Integrated Graphics/Windows 11 Home/Transparent Silver/1.8 Kg), X515MA-BR011W',\n",
       " \"Lenovo IdeaPad 3 Intel Celeron N4020 14'' HD Thin & Light Laptop (4GB/256GB SSD/Windows 11/MS Office 2021/Platinum Grey/1.5Kg), 81WH007KIN\",\n",
       " 'Lenovo IdeaPad 3 11th Gen Intel i3 15.6\" FHD Thin & Light Laptop (8GB/512GB SDD/Windows 11/MS Office 2021/2 Yr Warranty/Arctic Grey/1.65Kg), 82H801L7IN',\n",
       " 'Lenovo ThinkPad E14 Intel Core i3 10th Gen 14 inches Full HD Business Laptop (4GB RAM/ 256GB SSD/ DOS/ Black/ 1.69 kg), 20RAS0SE00',\n",
       " 'ASUS ZenBook 14 (2020) Intel Core i5-1135G7 11th Gen 14-inch (35.56 cms) FHD T&L Laptop (8GB RAM/512GB NVMe SSD/Windows 10/MS Office 2019/Intel Iris Xᵉ Graphics/Pine Grey/1.17 kg), UX425EA-BM501TS',\n",
       " '',\n",
       " 'HP 14s 11th Gen Intel Core i3- 8GB RAM/256GB SSD 14 inch(35.6cm) FHD,Micro-Edge,Anti-Glare,IPS Display/UHD Graphics/ Win 11/ MS Office/ Alexa Built-in/ 1.46kg/ Natural Silver - 14s-dy2506TU',\n",
       " 'Lenovo ThinkBook 14 Intel Core i5 11th Gen 14\" (35.56cm) FHD IPS Thin & Light Laptop (16GB RAM/512GB SSD/Windows 11 Home/MS Office 2021/FPR/Intel Iris Xe Graphics Mineral Grey/1.4 kg), 20VDA0TLIH']"
      ]
     },
     "execution_count": 10,
     "metadata": {},
     "output_type": "execute_result"
    }
   ],
   "source": [
    "    Title[:10]  "
   ]
  },
  {
   "cell_type": "code",
   "execution_count": 11,
   "id": "4eeef1ed",
   "metadata": {},
   "outputs": [
    {
     "name": "stdout",
     "output_type": "stream",
     "text": [
      "10 10 10\n"
     ]
    }
   ],
   "source": [
    "print(len(Title[:10]),len(Rating[0:10]),len(Price[:10]))"
   ]
  },
  {
   "cell_type": "code",
   "execution_count": 12,
   "id": "93891168",
   "metadata": {},
   "outputs": [],
   "source": [
    "intel_i7=pd.DataFrame({})\n",
    "intel_i7['Brand_title']=Title[:10]\n",
    "intel_i7['P_price']=Price[:10]\n",
    "intel_i7['Pr_Rating']=Rating[:10]"
   ]
  },
  {
   "cell_type": "code",
   "execution_count": 13,
   "id": "57cd86ff",
   "metadata": {},
   "outputs": [
    {
     "data": {
      "text/html": [
       "<div>\n",
       "<style scoped>\n",
       "    .dataframe tbody tr th:only-of-type {\n",
       "        vertical-align: middle;\n",
       "    }\n",
       "\n",
       "    .dataframe tbody tr th {\n",
       "        vertical-align: top;\n",
       "    }\n",
       "\n",
       "    .dataframe thead th {\n",
       "        text-align: right;\n",
       "    }\n",
       "</style>\n",
       "<table border=\"1\" class=\"dataframe\">\n",
       "  <thead>\n",
       "    <tr style=\"text-align: right;\">\n",
       "      <th></th>\n",
       "      <th>Brand_title</th>\n",
       "      <th>P_price</th>\n",
       "      <th>Pr_Rating</th>\n",
       "    </tr>\n",
       "  </thead>\n",
       "  <tbody>\n",
       "    <tr>\n",
       "      <th>0</th>\n",
       "      <td>LG Gram Intel Evo 11th Gen Core i7 17 inches U...</td>\n",
       "      <td>93,999</td>\n",
       "      <td>153</td>\n",
       "    </tr>\n",
       "    <tr>\n",
       "      <th>1</th>\n",
       "      <td>Acer Predator Helios 300 11th Gen Intel Core i...</td>\n",
       "      <td>1,69,990</td>\n",
       "      <td>Get it by Today, May 10\\nFREE Delivery by Amazon</td>\n",
       "    </tr>\n",
       "    <tr>\n",
       "      <th>2</th>\n",
       "      <td>ASUS VivoBook 15 (2021), 15.6-inch (39.62 cm) ...</td>\n",
       "      <td>26,990</td>\n",
       "      <td>6</td>\n",
       "    </tr>\n",
       "    <tr>\n",
       "      <th>3</th>\n",
       "      <td>Lenovo IdeaPad 3 Intel Celeron N4020 14'' HD T...</td>\n",
       "      <td>27,553</td>\n",
       "      <td>Get it by Saturday, May 14\\nFREE Delivery by A...</td>\n",
       "    </tr>\n",
       "    <tr>\n",
       "      <th>4</th>\n",
       "      <td>Lenovo IdeaPad 3 11th Gen Intel i3 15.6\" FHD T...</td>\n",
       "      <td>37,990</td>\n",
       "      <td>1,185</td>\n",
       "    </tr>\n",
       "    <tr>\n",
       "      <th>5</th>\n",
       "      <td>Lenovo ThinkPad E14 Intel Core i3 10th Gen 14 ...</td>\n",
       "      <td>1,01,112</td>\n",
       "      <td>Get it by Today, May 10\\nFREE Delivery by Amazon</td>\n",
       "    </tr>\n",
       "    <tr>\n",
       "      <th>6</th>\n",
       "      <td>ASUS ZenBook 14 (2020) Intel Core i5-1135G7 11...</td>\n",
       "      <td>42,750</td>\n",
       "      <td>575</td>\n",
       "    </tr>\n",
       "    <tr>\n",
       "      <th>7</th>\n",
       "      <td></td>\n",
       "      <td>73,499</td>\n",
       "      <td>Get it by Today, May 10\\nFREE Delivery by Amazon</td>\n",
       "    </tr>\n",
       "    <tr>\n",
       "      <th>8</th>\n",
       "      <td>HP 14s 11th Gen Intel Core i3- 8GB RAM/256GB S...</td>\n",
       "      <td></td>\n",
       "      <td>186</td>\n",
       "    </tr>\n",
       "    <tr>\n",
       "      <th>9</th>\n",
       "      <td>Lenovo ThinkBook 14 Intel Core i5 11th Gen 14\"...</td>\n",
       "      <td>36,990</td>\n",
       "      <td>Get it by Tomorrow, May 11\\nFREE Delivery by A...</td>\n",
       "    </tr>\n",
       "  </tbody>\n",
       "</table>\n",
       "</div>"
      ],
      "text/plain": [
       "                                         Brand_title   P_price  \\\n",
       "0  LG Gram Intel Evo 11th Gen Core i7 17 inches U...    93,999   \n",
       "1  Acer Predator Helios 300 11th Gen Intel Core i...  1,69,990   \n",
       "2  ASUS VivoBook 15 (2021), 15.6-inch (39.62 cm) ...    26,990   \n",
       "3  Lenovo IdeaPad 3 Intel Celeron N4020 14'' HD T...    27,553   \n",
       "4  Lenovo IdeaPad 3 11th Gen Intel i3 15.6\" FHD T...    37,990   \n",
       "5  Lenovo ThinkPad E14 Intel Core i3 10th Gen 14 ...  1,01,112   \n",
       "6  ASUS ZenBook 14 (2020) Intel Core i5-1135G7 11...    42,750   \n",
       "7                                                       73,499   \n",
       "8  HP 14s 11th Gen Intel Core i3- 8GB RAM/256GB S...             \n",
       "9  Lenovo ThinkBook 14 Intel Core i5 11th Gen 14\"...    36,990   \n",
       "\n",
       "                                           Pr_Rating  \n",
       "0                                                153  \n",
       "1   Get it by Today, May 10\\nFREE Delivery by Amazon  \n",
       "2                                                  6  \n",
       "3  Get it by Saturday, May 14\\nFREE Delivery by A...  \n",
       "4                                              1,185  \n",
       "5   Get it by Today, May 10\\nFREE Delivery by Amazon  \n",
       "6                                                575  \n",
       "7   Get it by Today, May 10\\nFREE Delivery by Amazon  \n",
       "8                                                186  \n",
       "9  Get it by Tomorrow, May 11\\nFREE Delivery by A...  "
      ]
     },
     "execution_count": 13,
     "metadata": {},
     "output_type": "execute_result"
    }
   ],
   "source": [
    "intel_i7"
   ]
  },
  {
   "cell_type": "code",
   "execution_count": 16,
   "id": "0476a808",
   "metadata": {},
   "outputs": [],
   "source": [
    "filter_button=driver.find_elements_by_xpath(\"/html/body/div[1]/div[2]/div[1]/div[2]/div/div[3]/span/div[1]/div/div/div[6]/ul[4]/li[15]/span/a/div/label/i\")\n",
    "for i in filter_button:\n",
    "    if i.text==\"Intel Core i9\":\n",
    "        i.click()\n",
    "        break\n"
   ]
  },
  {
   "cell_type": "code",
   "execution_count": 17,
   "id": "240d6383",
   "metadata": {},
   "outputs": [],
   "source": [
    "Titles=[]\n",
    "Prices=[]\n",
    "Ratings=[]"
   ]
  },
  {
   "cell_type": "code",
   "execution_count": 18,
   "id": "ea5a1586",
   "metadata": {},
   "outputs": [],
   "source": [
    "for i in range(3):\n",
    "    b_name=driver.find_elements_by_xpath(\"//h2[@class='a-size-mini a-spacing-none a-color-base s-line-clamp-2']\")\n",
    "    ratings=driver.find_elements_by_xpath(\"//div[@class='a-section a-spacing-none a-spacing-top-micro']\")\n",
    "    price =driver.find_elements_by_xpath(\"//span[@class='a-price-whole']\")\n",
    "    \n",
    "    \n",
    "    for j  in b_name:\n",
    "        Titles.append(j.text)\n",
    "    Titles[:10]    \n",
    "    \n",
    "    \n",
    "    \n",
    "    for k in ratings:\n",
    "        Ratings.append(k.text)\n",
    "    Ratings[:10] \n",
    "    \n",
    "    \n",
    "    for l in price:\n",
    "        Prices.append(l.text)\n",
    "    Prices[:10] \n",
    "    \n",
    "    "
   ]
  },
  {
   "cell_type": "code",
   "execution_count": 19,
   "id": "c9be1c9e",
   "metadata": {},
   "outputs": [
    {
     "data": {
      "text/plain": [
       "['Acer Predator Helios 300 11th Gen Intel Core i9-11900H 15.6\" (39.62cms) FHD IPS Gaming Laptop (16 GB/1TB SSD/Win 11 Home/6 GB Graphics/NVIDIA GeForce RTX 3060/360 Hz, Black, 2.3 kg) PH315-54',\n",
       " 'ASUS ROG Zephyrus M16 (2022), 16-inch (40.64 cms) 2K QHD 165Hz/3ms, Core i9-12900H 12th Gen, RTX 3080 Ti 16GB Graphics, Gaming Laptop (32GB/2TB SSD/Win 11/Office 2021/Black/2 Kg), GU603ZX-K8024WS',\n",
       " 'Acer Predator Helios 300 11th Gen Intel Core i9-11900H 15.6\" (39.62cms) FHD IPS Gaming Laptop (16 GB/1TB SSD/Win 11 Home/6 GB Graphics/NVIDIA GeForce RTX 3060/360 Hz, Black, 2.3 kg) PH315-54',\n",
       " 'ASUS ROG Strix Scar 15 (2022), Intel Core i9-12900H 12th Gen 15.6 inches 2K WQHD 240Hz/3ms Gaming Laptop (32GB/1TB SSD/RTX 3080 Ti 16GB Graphics/Windows 11 Home/Office 2021/Black/2.3 Kg)',\n",
       " 'ASUS TUF Gaming F15 (2021), 15.6\" (39.62 cms) FHD 240Hz, Intel Core i9-11900H 11th Gen, GeForce RTX 3060 6GB Graphics, Gaming Laptop(16GB/1TB SSD/Office 2019/Windows 10/Gray/2.3 Kg), FX566HM-AZ096TS',\n",
       " 'ASUS ROG Strix Scar 15 (2022), 15.6\" (39.62 cms) 2K WQHD 240Hz/3ms, Intel Core i9-12900H 12th Gen, RTX 3070 Ti 8GB Graphics, Gaming Laptop (32GB/1TB SSD/Win 11/Office 2021/Black/2.3 kg) G533ZW-LN136WS',\n",
       " 'HP Envy 15- 11th Gen Intel Core i9/32GB/1TB SSD/15.6 inch(39.6 cm) 400 nits,4K AMOLED Touch, TUV + Win 11 Pro 64/NVIDIA GeForce RTX 3060 6GB Graphics/Alexa/FPR /B&O/2.14kg,15-ep1087TX, Natural Silver',\n",
       " 'ASUS ROG Strix Scar 15 (2022), 15.6-inch (39.62 cms) 2K WQHD 240Hz/3ms, Core i9-12900H 12th Gen, RTX 3070 Ti 8GB Graphics, Gaming Laptop (32GB/2TB SSD/Win 11/Office 2021/Black/2.3 Kg), G533ZW-LN106WS',\n",
       " 'Predator Helios 500 Gaming Laptop (11th Gen Intel Core I9/17.3\" 4K UHD Display/64GB DDR4 RAM/2TB SSD/1TB HDD/RTX 3080 Graphics/Per Key RGB Backlit Keyboard) | PH517-52',\n",
       " 'Dell G7 7500 15.6inch FHD 300 Hz Display Gaming Laptop (10th Gen i9-10885H / 16 GB / 1TB SSD / NVIDIA RTX 2070 8GB Graphics / 1Yr Premium Warranty / Win 10 + MS Office H&S 2019) D560233WIN9B, Black']"
      ]
     },
     "execution_count": 19,
     "metadata": {},
     "output_type": "execute_result"
    }
   ],
   "source": [
    "Titles[:10]"
   ]
  },
  {
   "cell_type": "code",
   "execution_count": 20,
   "id": "171d2c99",
   "metadata": {},
   "outputs": [
    {
     "name": "stdout",
     "output_type": "stream",
     "text": [
      "10 10 10\n"
     ]
    }
   ],
   "source": [
    "print(len(Titles[:10]),len(Ratings[0:10]),len(Prices[:10]))"
   ]
  },
  {
   "cell_type": "code",
   "execution_count": 22,
   "id": "0811e45a",
   "metadata": {},
   "outputs": [],
   "source": [
    "intel_i9=pd.DataFrame({})\n",
    "intel_i9['Brand_title']=Titles[:10]\n",
    "intel_i9['Pro_price']=Prices[:10]\n",
    "intel_i9['Pro_Rating']=Ratings[:10]"
   ]
  },
  {
   "cell_type": "code",
   "execution_count": 23,
   "id": "661c2c06",
   "metadata": {},
   "outputs": [
    {
     "data": {
      "text/html": [
       "<div>\n",
       "<style scoped>\n",
       "    .dataframe tbody tr th:only-of-type {\n",
       "        vertical-align: middle;\n",
       "    }\n",
       "\n",
       "    .dataframe tbody tr th {\n",
       "        vertical-align: top;\n",
       "    }\n",
       "\n",
       "    .dataframe thead th {\n",
       "        text-align: right;\n",
       "    }\n",
       "</style>\n",
       "<table border=\"1\" class=\"dataframe\">\n",
       "  <thead>\n",
       "    <tr style=\"text-align: right;\">\n",
       "      <th></th>\n",
       "      <th>Brand_title</th>\n",
       "      <th>Pro_price</th>\n",
       "      <th>Pro_Rating</th>\n",
       "    </tr>\n",
       "  </thead>\n",
       "  <tbody>\n",
       "    <tr>\n",
       "      <th>0</th>\n",
       "      <td>Acer Predator Helios 300 11th Gen Intel Core i...</td>\n",
       "      <td>1,39,990</td>\n",
       "      <td>6</td>\n",
       "    </tr>\n",
       "    <tr>\n",
       "      <th>1</th>\n",
       "      <td>ASUS ROG Zephyrus M16 (2022), 16-inch (40.64 c...</td>\n",
       "      <td>3,31,990</td>\n",
       "      <td>Get it by Tomorrow, May 11\\nFREE Delivery by A...</td>\n",
       "    </tr>\n",
       "    <tr>\n",
       "      <th>2</th>\n",
       "      <td>Acer Predator Helios 300 11th Gen Intel Core i...</td>\n",
       "      <td>1,39,990</td>\n",
       "      <td>1</td>\n",
       "    </tr>\n",
       "    <tr>\n",
       "      <th>3</th>\n",
       "      <td>ASUS ROG Strix Scar 15 (2022), Intel Core i9-1...</td>\n",
       "      <td>3,01,499</td>\n",
       "      <td>Get it by Tomorrow, May 11\\nFREE Delivery by A...</td>\n",
       "    </tr>\n",
       "    <tr>\n",
       "      <th>4</th>\n",
       "      <td>ASUS TUF Gaming F15 (2021), 15.6\" (39.62 cms) ...</td>\n",
       "      <td>1,77,885</td>\n",
       "      <td>6</td>\n",
       "    </tr>\n",
       "    <tr>\n",
       "      <th>5</th>\n",
       "      <td>ASUS ROG Strix Scar 15 (2022), 15.6\" (39.62 cm...</td>\n",
       "      <td>2,32,394</td>\n",
       "      <td>Get it by Tomorrow, May 11\\nFREE Delivery by A...</td>\n",
       "    </tr>\n",
       "    <tr>\n",
       "      <th>6</th>\n",
       "      <td>HP Envy 15- 11th Gen Intel Core i9/32GB/1TB SS...</td>\n",
       "      <td>2,02,990</td>\n",
       "      <td>2</td>\n",
       "    </tr>\n",
       "    <tr>\n",
       "      <th>7</th>\n",
       "      <td>ASUS ROG Strix Scar 15 (2022), 15.6-inch (39.6...</td>\n",
       "      <td>2,85,390</td>\n",
       "      <td>Get it by Monday, May 16\\nFREE Delivery by Ama...</td>\n",
       "    </tr>\n",
       "    <tr>\n",
       "      <th>8</th>\n",
       "      <td>Predator Helios 500 Gaming Laptop (11th Gen In...</td>\n",
       "      <td>3,79,990</td>\n",
       "      <td>11</td>\n",
       "    </tr>\n",
       "    <tr>\n",
       "      <th>9</th>\n",
       "      <td>Dell G7 7500 15.6inch FHD 300 Hz Display Gamin...</td>\n",
       "      <td>2,05,990</td>\n",
       "      <td>Get it by Tomorrow, May 11\\nFREE Delivery by A...</td>\n",
       "    </tr>\n",
       "  </tbody>\n",
       "</table>\n",
       "</div>"
      ],
      "text/plain": [
       "                                         Brand_title Pro_price  \\\n",
       "0  Acer Predator Helios 300 11th Gen Intel Core i...  1,39,990   \n",
       "1  ASUS ROG Zephyrus M16 (2022), 16-inch (40.64 c...  3,31,990   \n",
       "2  Acer Predator Helios 300 11th Gen Intel Core i...  1,39,990   \n",
       "3  ASUS ROG Strix Scar 15 (2022), Intel Core i9-1...  3,01,499   \n",
       "4  ASUS TUF Gaming F15 (2021), 15.6\" (39.62 cms) ...  1,77,885   \n",
       "5  ASUS ROG Strix Scar 15 (2022), 15.6\" (39.62 cm...  2,32,394   \n",
       "6  HP Envy 15- 11th Gen Intel Core i9/32GB/1TB SS...  2,02,990   \n",
       "7  ASUS ROG Strix Scar 15 (2022), 15.6-inch (39.6...  2,85,390   \n",
       "8  Predator Helios 500 Gaming Laptop (11th Gen In...  3,79,990   \n",
       "9  Dell G7 7500 15.6inch FHD 300 Hz Display Gamin...  2,05,990   \n",
       "\n",
       "                                          Pro_Rating  \n",
       "0                                                  6  \n",
       "1  Get it by Tomorrow, May 11\\nFREE Delivery by A...  \n",
       "2                                                  1  \n",
       "3  Get it by Tomorrow, May 11\\nFREE Delivery by A...  \n",
       "4                                                  6  \n",
       "5  Get it by Tomorrow, May 11\\nFREE Delivery by A...  \n",
       "6                                                  2  \n",
       "7  Get it by Monday, May 16\\nFREE Delivery by Ama...  \n",
       "8                                                 11  \n",
       "9  Get it by Tomorrow, May 11\\nFREE Delivery by A...  "
      ]
     },
     "execution_count": 23,
     "metadata": {},
     "output_type": "execute_result"
    }
   ],
   "source": [
    "intel_i9"
   ]
  },
  {
   "cell_type": "code",
   "execution_count": 24,
   "id": "ba8151e5",
   "metadata": {},
   "outputs": [],
   "source": [
    "driver.close()"
   ]
  },
  {
   "cell_type": "markdown",
   "id": "14352652",
   "metadata": {},
   "source": [
    "# Q9: Write a python program to scrape data for first 10 job results for Data Scientist Designation in Noida\n",
    "location. You have to scrape company name, No. of days ago when job was posted, Rating of the company.\n",
    "This task will be done in following steps:\n",
    "1. First get the webpage https://www.ambitionbox.com"
   ]
  },
  {
   "cell_type": "code",
   "execution_count": 61,
   "id": "5c25c6ce",
   "metadata": {},
   "outputs": [],
   "source": [
    "import selenium\n",
    "import pandas as pd\n",
    "from selenium import webdriver\n",
    "import warnings\n",
    "warnings.filterwarnings(\"ignore\")\n",
    "import time"
   ]
  },
  {
   "cell_type": "code",
   "execution_count": 62,
   "id": "2a47bacc",
   "metadata": {},
   "outputs": [],
   "source": [
    "driver=webdriver.Chrome('chromedriver.exe')"
   ]
  },
  {
   "cell_type": "code",
   "execution_count": 63,
   "id": "10ab9c1d",
   "metadata": {},
   "outputs": [],
   "source": [
    "driver.get(\"https://www.ambitionbox.com/\")"
   ]
  },
  {
   "cell_type": "code",
   "execution_count": 64,
   "id": "38bab67b",
   "metadata": {},
   "outputs": [
    {
     "data": {
      "text/plain": [
       "<selenium.webdriver.remote.webelement.WebElement (session=\"f81899a84e648d5086de87e16353c034\", element=\"55994ea0-fb2d-46a2-a866-cd76727a7afa\")>"
      ]
     },
     "execution_count": 64,
     "metadata": {},
     "output_type": "execute_result"
    }
   ],
   "source": [
    "search_g= driver.find_element_by_xpath(\"//a[@class='link jobs']\")\n",
    "search_g"
   ]
  },
  {
   "cell_type": "code",
   "execution_count": 65,
   "id": "9db1cd40",
   "metadata": {},
   "outputs": [],
   "source": [
    "search_g.click()"
   ]
  },
  {
   "cell_type": "code",
   "execution_count": 66,
   "id": "b624b961",
   "metadata": {},
   "outputs": [],
   "source": [
    "search_field_Designations=driver.find_element_by_xpath(\"/html/body/div/div/div/div[2]/div[1]/div[1]/div/div/div/div/span/input\")\n",
    "search_field_Designations.send_keys(\"Data Scientist\")"
   ]
  },
  {
   "cell_type": "code",
   "execution_count": 67,
   "id": "1fd182df",
   "metadata": {},
   "outputs": [],
   "source": [
    "search_button=driver.find_element_by_xpath(\"/html/body/div/div/div/div[2]/div[1]/div[1]/div/div/div/button\")\n",
    "search_button.click()"
   ]
  },
  {
   "cell_type": "code",
   "execution_count": 69,
   "id": "1e9e2e72",
   "metadata": {},
   "outputs": [],
   "source": [
    "search_button_location=driver.find_element_by_xpath(\"/html/body/div/div/div/div[2]/div[1]/div[2]/div[1]/div/div/div/div[2]/div[1]\")\n",
    "search_button_location.click()"
   ]
  },
  {
   "cell_type": "code",
   "execution_count": 70,
   "id": "f138d671",
   "metadata": {},
   "outputs": [],
   "source": [
    "search_field_locations=driver.find_element_by_xpath(\"/html/body/div/div/div/div[2]/div[1]/div[2]/div[1]/div/div/div/div[2]/div[2]/div/div[2]/input\")\n",
    "search_field_locations.send_keys(\"Noida\")"
   ]
  },
  {
   "cell_type": "code",
   "execution_count": 71,
   "id": "7e84a436",
   "metadata": {},
   "outputs": [],
   "source": [
    "search_button=driver.find_element_by_xpath(\"/html/body/div/div/div/div[2]/div[1]/div[2]/div[1]/div/div/div/div[2]/div[2]/div/div[3]/div[1]/div[1]/div/label\")\n",
    "search_button.click()"
   ]
  },
  {
   "cell_type": "code",
   "execution_count": 72,
   "id": "fb6cf825",
   "metadata": {},
   "outputs": [],
   "source": [
    "company_name=[]\n",
    "No_of_day_job_posted=[]\n",
    "Rating=[]"
   ]
  },
  {
   "cell_type": "code",
   "execution_count": 75,
   "id": "7ad3b9d6",
   "metadata": {},
   "outputs": [],
   "source": [
    "for i in range (3):\n",
    "    b_name=driver.find_elements_by_xpath(\"//p[@class='company body-medium']\")\n",
    "    ratings=driver.find_elements_by_xpath(\"//div[@class='rating-wrapper']\")\n",
    "    job_postda=driver.find_elements_by_xpath(\"//span[@class='body-small-l']\")\n",
    "    \n",
    "    \n",
    "    for j  in b_name:\n",
    "        company_name.append(j.text)\n",
    "    company_name[:10]    \n",
    "    \n",
    "    \n",
    "    \n",
    "    for k in ratings:\n",
    "        Rating.append(k.text)\n",
    "    Rating[:10] \n",
    "    \n",
    "    \n",
    "    for l in job_postda:\n",
    "        No_of_day_job_posted.append(l.text)\n",
    "    No_of_day_job_posted[:10] \n",
    "    \n",
    "    "
   ]
  },
  {
   "cell_type": "code",
   "execution_count": 76,
   "id": "235aaa92",
   "metadata": {},
   "outputs": [
    {
     "data": {
      "text/plain": [
       "['GENPACT India Private Limited',\n",
       " 'EXL Services.com ( I ) Pvt. Ltd.',\n",
       " 'GENPACT India Private Limited',\n",
       " 'TECHNIP GLOBAL BUSINESS SERVICES PRIVATE LIMITED',\n",
       " 'Tech Mahindra Ltd',\n",
       " 'GENPACT India Private Limited',\n",
       " 'Bristlecone India Limited',\n",
       " 'Zyoin',\n",
       " 'Ashkom Media India Private Limited',\n",
       " 'Newgen Software Technologies Ltd.']"
      ]
     },
     "execution_count": 76,
     "metadata": {},
     "output_type": "execute_result"
    }
   ],
   "source": [
    "company_name[:10] "
   ]
  },
  {
   "cell_type": "code",
   "execution_count": 77,
   "id": "6e8fa8ce",
   "metadata": {},
   "outputs": [
    {
     "data": {
      "text/plain": [
       "['153',\n",
       " 'Get it by Today, May 10\\nFREE Delivery by Amazon',\n",
       " '6',\n",
       " 'Get it by Saturday, May 14\\nFREE Delivery by Amazon',\n",
       " '1,185',\n",
       " 'Get it by Today, May 10\\nFREE Delivery by Amazon',\n",
       " '575',\n",
       " 'Get it by Today, May 10\\nFREE Delivery by Amazon',\n",
       " '186',\n",
       " 'Get it by Tomorrow, May 11\\nFREE Delivery by Amazon']"
      ]
     },
     "execution_count": 77,
     "metadata": {},
     "output_type": "execute_result"
    }
   ],
   "source": [
    "Rating[:10] "
   ]
  },
  {
   "cell_type": "code",
   "execution_count": 78,
   "id": "e9af7fd4",
   "metadata": {},
   "outputs": [
    {
     "data": {
      "text/plain": [
       "['13d ago',\n",
       " 'via naukri.com',\n",
       " '6d ago',\n",
       " 'via naukri.com',\n",
       " '18d ago',\n",
       " 'via naukri.com',\n",
       " '4d ago',\n",
       " 'via naukri.com',\n",
       " '1mon ago',\n",
       " 'via naukri.com']"
      ]
     },
     "execution_count": 78,
     "metadata": {},
     "output_type": "execute_result"
    }
   ],
   "source": [
    "No_of_day_job_posted[:10] "
   ]
  },
  {
   "cell_type": "code",
   "execution_count": 79,
   "id": "7c8f758a",
   "metadata": {},
   "outputs": [
    {
     "name": "stdout",
     "output_type": "stream",
     "text": [
      "10 10 10\n"
     ]
    }
   ],
   "source": [
    "print(len(company_name[:10] ),len(Rating[0:10]),len(No_of_day_job_posted[:10] ))"
   ]
  },
  {
   "cell_type": "code",
   "execution_count": 80,
   "id": "34f8029c",
   "metadata": {},
   "outputs": [],
   "source": [
    "jobs=pd.DataFrame({})\n",
    "jobs['Company_Name']=company_name[:10]\n",
    "jobs['Ratings']=Rating[0:10]\n",
    "jobs['Job_posted_dates_ago']=No_of_day_job_posted[:10]"
   ]
  },
  {
   "cell_type": "code",
   "execution_count": 81,
   "id": "f7222d76",
   "metadata": {},
   "outputs": [
    {
     "data": {
      "text/html": [
       "<div>\n",
       "<style scoped>\n",
       "    .dataframe tbody tr th:only-of-type {\n",
       "        vertical-align: middle;\n",
       "    }\n",
       "\n",
       "    .dataframe tbody tr th {\n",
       "        vertical-align: top;\n",
       "    }\n",
       "\n",
       "    .dataframe thead th {\n",
       "        text-align: right;\n",
       "    }\n",
       "</style>\n",
       "<table border=\"1\" class=\"dataframe\">\n",
       "  <thead>\n",
       "    <tr style=\"text-align: right;\">\n",
       "      <th></th>\n",
       "      <th>Company_Name</th>\n",
       "      <th>Ratings</th>\n",
       "      <th>Job_posted_dates_ago</th>\n",
       "    </tr>\n",
       "  </thead>\n",
       "  <tbody>\n",
       "    <tr>\n",
       "      <th>0</th>\n",
       "      <td>GENPACT India Private Limited</td>\n",
       "      <td>153</td>\n",
       "      <td>13d ago</td>\n",
       "    </tr>\n",
       "    <tr>\n",
       "      <th>1</th>\n",
       "      <td>EXL Services.com ( I ) Pvt. Ltd.</td>\n",
       "      <td>Get it by Today, May 10\\nFREE Delivery by Amazon</td>\n",
       "      <td>via naukri.com</td>\n",
       "    </tr>\n",
       "    <tr>\n",
       "      <th>2</th>\n",
       "      <td>GENPACT India Private Limited</td>\n",
       "      <td>6</td>\n",
       "      <td>6d ago</td>\n",
       "    </tr>\n",
       "    <tr>\n",
       "      <th>3</th>\n",
       "      <td>TECHNIP GLOBAL BUSINESS SERVICES PRIVATE LIMITED</td>\n",
       "      <td>Get it by Saturday, May 14\\nFREE Delivery by A...</td>\n",
       "      <td>via naukri.com</td>\n",
       "    </tr>\n",
       "    <tr>\n",
       "      <th>4</th>\n",
       "      <td>Tech Mahindra Ltd</td>\n",
       "      <td>1,185</td>\n",
       "      <td>18d ago</td>\n",
       "    </tr>\n",
       "    <tr>\n",
       "      <th>5</th>\n",
       "      <td>GENPACT India Private Limited</td>\n",
       "      <td>Get it by Today, May 10\\nFREE Delivery by Amazon</td>\n",
       "      <td>via naukri.com</td>\n",
       "    </tr>\n",
       "    <tr>\n",
       "      <th>6</th>\n",
       "      <td>Bristlecone India Limited</td>\n",
       "      <td>575</td>\n",
       "      <td>4d ago</td>\n",
       "    </tr>\n",
       "    <tr>\n",
       "      <th>7</th>\n",
       "      <td>Zyoin</td>\n",
       "      <td>Get it by Today, May 10\\nFREE Delivery by Amazon</td>\n",
       "      <td>via naukri.com</td>\n",
       "    </tr>\n",
       "    <tr>\n",
       "      <th>8</th>\n",
       "      <td>Ashkom Media India Private Limited</td>\n",
       "      <td>186</td>\n",
       "      <td>1mon ago</td>\n",
       "    </tr>\n",
       "    <tr>\n",
       "      <th>9</th>\n",
       "      <td>Newgen Software Technologies Ltd.</td>\n",
       "      <td>Get it by Tomorrow, May 11\\nFREE Delivery by A...</td>\n",
       "      <td>via naukri.com</td>\n",
       "    </tr>\n",
       "  </tbody>\n",
       "</table>\n",
       "</div>"
      ],
      "text/plain": [
       "                                       Company_Name  \\\n",
       "0                     GENPACT India Private Limited   \n",
       "1                  EXL Services.com ( I ) Pvt. Ltd.   \n",
       "2                     GENPACT India Private Limited   \n",
       "3  TECHNIP GLOBAL BUSINESS SERVICES PRIVATE LIMITED   \n",
       "4                                 Tech Mahindra Ltd   \n",
       "5                     GENPACT India Private Limited   \n",
       "6                         Bristlecone India Limited   \n",
       "7                                             Zyoin   \n",
       "8                Ashkom Media India Private Limited   \n",
       "9                 Newgen Software Technologies Ltd.   \n",
       "\n",
       "                                             Ratings Job_posted_dates_ago  \n",
       "0                                                153              13d ago  \n",
       "1   Get it by Today, May 10\\nFREE Delivery by Amazon       via naukri.com  \n",
       "2                                                  6               6d ago  \n",
       "3  Get it by Saturday, May 14\\nFREE Delivery by A...       via naukri.com  \n",
       "4                                              1,185              18d ago  \n",
       "5   Get it by Today, May 10\\nFREE Delivery by Amazon       via naukri.com  \n",
       "6                                                575               4d ago  \n",
       "7   Get it by Today, May 10\\nFREE Delivery by Amazon       via naukri.com  \n",
       "8                                                186             1mon ago  \n",
       "9  Get it by Tomorrow, May 11\\nFREE Delivery by A...       via naukri.com  "
      ]
     },
     "execution_count": 81,
     "metadata": {},
     "output_type": "execute_result"
    }
   ],
   "source": [
    "jobs"
   ]
  },
  {
   "cell_type": "code",
   "execution_count": 82,
   "id": "8b6690cd",
   "metadata": {},
   "outputs": [],
   "source": [
    "driver.close()"
   ]
  },
  {
   "cell_type": "code",
   "execution_count": null,
   "id": "63a05605",
   "metadata": {},
   "outputs": [],
   "source": []
  },
  {
   "cell_type": "markdown",
   "id": "1d375410",
   "metadata": {},
   "source": [
    "# Q10: Write a python program to scrape the salary data for Data Scientist designation.\n",
    "You have to scrape Company name, Number of salaries, Average salary, Minsalary, Max Salary.\n",
    "The above task will be, done as shown in the below steps:\n",
    "1. First get the webpage https://www.ambitionbox.com/\n",
    "4. Scrape the data for the first 10 companies. Scrape the company name, total salary record, average\n",
    "salary, minimum salary, maximum salary, experience required.\n",
    "5. Store the data in a dataframe."
   ]
  },
  {
   "cell_type": "code",
   "execution_count": 111,
   "id": "12097ac8",
   "metadata": {},
   "outputs": [],
   "source": [
    "import selenium\n",
    "import pandas as pd\n",
    "from selenium import webdriver\n",
    "import warnings\n",
    "warnings.filterwarnings(\"ignore\")\n",
    "import time"
   ]
  },
  {
   "cell_type": "code",
   "execution_count": 112,
   "id": "dcf32eb8",
   "metadata": {},
   "outputs": [],
   "source": [
    "driver=webdriver.Chrome('chromedriver.exe')"
   ]
  },
  {
   "cell_type": "code",
   "execution_count": 113,
   "id": "9443a214",
   "metadata": {},
   "outputs": [],
   "source": [
    "driver.get(\"https://www.ambitionbox.com/\")"
   ]
  },
  {
   "cell_type": "code",
   "execution_count": 114,
   "id": "7d5217c9",
   "metadata": {},
   "outputs": [
    {
     "data": {
      "text/plain": [
       "<selenium.webdriver.remote.webelement.WebElement (session=\"547d0302c395269f06f9fe6873e7bcec\", element=\"782e41bb-9238-4144-867c-f3b658b9c186\")>"
      ]
     },
     "execution_count": 114,
     "metadata": {},
     "output_type": "execute_result"
    }
   ],
   "source": [
    "search_g= driver.find_element_by_xpath(\"//a[@class='link salaries']\")\n",
    "search_g"
   ]
  },
  {
   "cell_type": "code",
   "execution_count": 115,
   "id": "50735b10",
   "metadata": {},
   "outputs": [],
   "source": [
    "search_g.click()"
   ]
  },
  {
   "cell_type": "code",
   "execution_count": 116,
   "id": "fd998dec",
   "metadata": {},
   "outputs": [],
   "source": [
    "search_field_Job=driver.find_element_by_xpath(\"/html/body/div/div/div/main/section[1]/div[2]/div[1]/span/input\")\n",
    "search_field_Job.send_keys(\"Data Scientist\")"
   ]
  },
  {
   "cell_type": "code",
   "execution_count": 124,
   "id": "86238bd9",
   "metadata": {},
   "outputs": [
    {
     "ename": "ElementNotInteractableException",
     "evalue": "Message: element not interactable\n  (Session info: chrome=101.0.4951.54)\nStacktrace:\nBacktrace:\n\tOrdinal0 [0x00F4B8F3+2406643]\n\tOrdinal0 [0x00EDAF31+1945393]\n\tOrdinal0 [0x00DCC610+837136]\n\tOrdinal0 [0x00DFA2D3+1024723]\n\tOrdinal0 [0x00DF0083+983171]\n\tOrdinal0 [0x00E1427C+1131132]\n\tOrdinal0 [0x00DEFA64+981604]\n\tOrdinal0 [0x00E14494+1131668]\n\tOrdinal0 [0x00E24682+1197698]\n\tOrdinal0 [0x00E14096+1130646]\n\tOrdinal0 [0x00DEE636+976438]\n\tOrdinal0 [0x00DEF546+980294]\n\tGetHandleVerifier [0x011B9612+2498066]\n\tGetHandleVerifier [0x011AC920+2445600]\n\tGetHandleVerifier [0x00FE4F2A+579370]\n\tGetHandleVerifier [0x00FE3D36+574774]\n\tOrdinal0 [0x00EE1C0B+1973259]\n\tOrdinal0 [0x00EE6688+1992328]\n\tOrdinal0 [0x00EE6775+1992565]\n\tOrdinal0 [0x00EEF8D1+2029777]\n\tBaseThreadInitThunk [0x769A6739+25]\n\tRtlGetFullPathName_UEx [0x77818FEF+1215]\n\tRtlGetFullPathName_UEx [0x77818FBD+1165]\n",
     "output_type": "error",
     "traceback": [
      "\u001b[1;31m---------------------------------------------------------------------------\u001b[0m",
      "\u001b[1;31mElementNotInteractableException\u001b[0m           Traceback (most recent call last)",
      "\u001b[1;32m~\\AppData\\Local\\Temp/ipykernel_16560/3137297654.py\u001b[0m in \u001b[0;36m<module>\u001b[1;34m\u001b[0m\n\u001b[0;32m      1\u001b[0m \u001b[0msearch_button\u001b[0m\u001b[1;33m=\u001b[0m\u001b[0mdriver\u001b[0m\u001b[1;33m.\u001b[0m\u001b[0mfind_element_by_xpath\u001b[0m\u001b[1;33m(\u001b[0m\u001b[1;34m\"/html/body/div/div/div/main/section[1]/div[2]/div[1]/span/div/div/div[1]/div/div/p\"\u001b[0m\u001b[1;33m)\u001b[0m\u001b[1;33m\u001b[0m\u001b[1;33m\u001b[0m\u001b[0m\n\u001b[1;32m----> 2\u001b[1;33m \u001b[0msearch_button\u001b[0m\u001b[1;33m.\u001b[0m\u001b[0mclick\u001b[0m\u001b[1;33m(\u001b[0m\u001b[1;33m)\u001b[0m\u001b[1;33m\u001b[0m\u001b[1;33m\u001b[0m\u001b[0m\n\u001b[0m",
      "\u001b[1;32mC:\\ProgramData\\Anaconda3\\lib\\site-packages\\selenium\\webdriver\\remote\\webelement.py\u001b[0m in \u001b[0;36mclick\u001b[1;34m(self)\u001b[0m\n\u001b[0;32m     79\u001b[0m     \u001b[1;32mdef\u001b[0m \u001b[0mclick\u001b[0m\u001b[1;33m(\u001b[0m\u001b[0mself\u001b[0m\u001b[1;33m)\u001b[0m \u001b[1;33m->\u001b[0m \u001b[1;32mNone\u001b[0m\u001b[1;33m:\u001b[0m\u001b[1;33m\u001b[0m\u001b[1;33m\u001b[0m\u001b[0m\n\u001b[0;32m     80\u001b[0m         \u001b[1;34m\"\"\"Clicks the element.\"\"\"\u001b[0m\u001b[1;33m\u001b[0m\u001b[1;33m\u001b[0m\u001b[0m\n\u001b[1;32m---> 81\u001b[1;33m         \u001b[0mself\u001b[0m\u001b[1;33m.\u001b[0m\u001b[0m_execute\u001b[0m\u001b[1;33m(\u001b[0m\u001b[0mCommand\u001b[0m\u001b[1;33m.\u001b[0m\u001b[0mCLICK_ELEMENT\u001b[0m\u001b[1;33m)\u001b[0m\u001b[1;33m\u001b[0m\u001b[1;33m\u001b[0m\u001b[0m\n\u001b[0m\u001b[0;32m     82\u001b[0m \u001b[1;33m\u001b[0m\u001b[0m\n\u001b[0;32m     83\u001b[0m     \u001b[1;32mdef\u001b[0m \u001b[0msubmit\u001b[0m\u001b[1;33m(\u001b[0m\u001b[0mself\u001b[0m\u001b[1;33m)\u001b[0m\u001b[1;33m:\u001b[0m\u001b[1;33m\u001b[0m\u001b[1;33m\u001b[0m\u001b[0m\n",
      "\u001b[1;32mC:\\ProgramData\\Anaconda3\\lib\\site-packages\\selenium\\webdriver\\remote\\webelement.py\u001b[0m in \u001b[0;36m_execute\u001b[1;34m(self, command, params)\u001b[0m\n\u001b[0;32m    708\u001b[0m             \u001b[0mparams\u001b[0m \u001b[1;33m=\u001b[0m \u001b[1;33m{\u001b[0m\u001b[1;33m}\u001b[0m\u001b[1;33m\u001b[0m\u001b[1;33m\u001b[0m\u001b[0m\n\u001b[0;32m    709\u001b[0m         \u001b[0mparams\u001b[0m\u001b[1;33m[\u001b[0m\u001b[1;34m'id'\u001b[0m\u001b[1;33m]\u001b[0m \u001b[1;33m=\u001b[0m \u001b[0mself\u001b[0m\u001b[1;33m.\u001b[0m\u001b[0m_id\u001b[0m\u001b[1;33m\u001b[0m\u001b[1;33m\u001b[0m\u001b[0m\n\u001b[1;32m--> 710\u001b[1;33m         \u001b[1;32mreturn\u001b[0m \u001b[0mself\u001b[0m\u001b[1;33m.\u001b[0m\u001b[0m_parent\u001b[0m\u001b[1;33m.\u001b[0m\u001b[0mexecute\u001b[0m\u001b[1;33m(\u001b[0m\u001b[0mcommand\u001b[0m\u001b[1;33m,\u001b[0m \u001b[0mparams\u001b[0m\u001b[1;33m)\u001b[0m\u001b[1;33m\u001b[0m\u001b[1;33m\u001b[0m\u001b[0m\n\u001b[0m\u001b[0;32m    711\u001b[0m \u001b[1;33m\u001b[0m\u001b[0m\n\u001b[0;32m    712\u001b[0m     \u001b[1;32mdef\u001b[0m \u001b[0mfind_element\u001b[0m\u001b[1;33m(\u001b[0m\u001b[0mself\u001b[0m\u001b[1;33m,\u001b[0m \u001b[0mby\u001b[0m\u001b[1;33m=\u001b[0m\u001b[0mBy\u001b[0m\u001b[1;33m.\u001b[0m\u001b[0mID\u001b[0m\u001b[1;33m,\u001b[0m \u001b[0mvalue\u001b[0m\u001b[1;33m=\u001b[0m\u001b[1;32mNone\u001b[0m\u001b[1;33m)\u001b[0m\u001b[1;33m:\u001b[0m\u001b[1;33m\u001b[0m\u001b[1;33m\u001b[0m\u001b[0m\n",
      "\u001b[1;32mC:\\ProgramData\\Anaconda3\\lib\\site-packages\\selenium\\webdriver\\remote\\webdriver.py\u001b[0m in \u001b[0;36mexecute\u001b[1;34m(self, driver_command, params)\u001b[0m\n\u001b[0;32m    423\u001b[0m         \u001b[0mresponse\u001b[0m \u001b[1;33m=\u001b[0m \u001b[0mself\u001b[0m\u001b[1;33m.\u001b[0m\u001b[0mcommand_executor\u001b[0m\u001b[1;33m.\u001b[0m\u001b[0mexecute\u001b[0m\u001b[1;33m(\u001b[0m\u001b[0mdriver_command\u001b[0m\u001b[1;33m,\u001b[0m \u001b[0mparams\u001b[0m\u001b[1;33m)\u001b[0m\u001b[1;33m\u001b[0m\u001b[1;33m\u001b[0m\u001b[0m\n\u001b[0;32m    424\u001b[0m         \u001b[1;32mif\u001b[0m \u001b[0mresponse\u001b[0m\u001b[1;33m:\u001b[0m\u001b[1;33m\u001b[0m\u001b[1;33m\u001b[0m\u001b[0m\n\u001b[1;32m--> 425\u001b[1;33m             \u001b[0mself\u001b[0m\u001b[1;33m.\u001b[0m\u001b[0merror_handler\u001b[0m\u001b[1;33m.\u001b[0m\u001b[0mcheck_response\u001b[0m\u001b[1;33m(\u001b[0m\u001b[0mresponse\u001b[0m\u001b[1;33m)\u001b[0m\u001b[1;33m\u001b[0m\u001b[1;33m\u001b[0m\u001b[0m\n\u001b[0m\u001b[0;32m    426\u001b[0m             response['value'] = self._unwrap_value(\n\u001b[0;32m    427\u001b[0m                 response.get('value', None))\n",
      "\u001b[1;32mC:\\ProgramData\\Anaconda3\\lib\\site-packages\\selenium\\webdriver\\remote\\errorhandler.py\u001b[0m in \u001b[0;36mcheck_response\u001b[1;34m(self, response)\u001b[0m\n\u001b[0;32m    245\u001b[0m                 \u001b[0malert_text\u001b[0m \u001b[1;33m=\u001b[0m \u001b[0mvalue\u001b[0m\u001b[1;33m[\u001b[0m\u001b[1;34m'alert'\u001b[0m\u001b[1;33m]\u001b[0m\u001b[1;33m.\u001b[0m\u001b[0mget\u001b[0m\u001b[1;33m(\u001b[0m\u001b[1;34m'text'\u001b[0m\u001b[1;33m)\u001b[0m\u001b[1;33m\u001b[0m\u001b[1;33m\u001b[0m\u001b[0m\n\u001b[0;32m    246\u001b[0m             \u001b[1;32mraise\u001b[0m \u001b[0mexception_class\u001b[0m\u001b[1;33m(\u001b[0m\u001b[0mmessage\u001b[0m\u001b[1;33m,\u001b[0m \u001b[0mscreen\u001b[0m\u001b[1;33m,\u001b[0m \u001b[0mstacktrace\u001b[0m\u001b[1;33m,\u001b[0m \u001b[0malert_text\u001b[0m\u001b[1;33m)\u001b[0m  \u001b[1;31m# type: ignore[call-arg]  # mypy is not smart enough here\u001b[0m\u001b[1;33m\u001b[0m\u001b[1;33m\u001b[0m\u001b[0m\n\u001b[1;32m--> 247\u001b[1;33m         \u001b[1;32mraise\u001b[0m \u001b[0mexception_class\u001b[0m\u001b[1;33m(\u001b[0m\u001b[0mmessage\u001b[0m\u001b[1;33m,\u001b[0m \u001b[0mscreen\u001b[0m\u001b[1;33m,\u001b[0m \u001b[0mstacktrace\u001b[0m\u001b[1;33m)\u001b[0m\u001b[1;33m\u001b[0m\u001b[1;33m\u001b[0m\u001b[0m\n\u001b[0m\u001b[0;32m    248\u001b[0m \u001b[1;33m\u001b[0m\u001b[0m\n\u001b[0;32m    249\u001b[0m     \u001b[1;32mdef\u001b[0m \u001b[0m_value_or_default\u001b[0m\u001b[1;33m(\u001b[0m\u001b[0mself\u001b[0m\u001b[1;33m,\u001b[0m \u001b[0mobj\u001b[0m\u001b[1;33m:\u001b[0m \u001b[0mMapping\u001b[0m\u001b[1;33m[\u001b[0m\u001b[0m_KT\u001b[0m\u001b[1;33m,\u001b[0m \u001b[0m_VT\u001b[0m\u001b[1;33m]\u001b[0m\u001b[1;33m,\u001b[0m \u001b[0mkey\u001b[0m\u001b[1;33m:\u001b[0m \u001b[0m_KT\u001b[0m\u001b[1;33m,\u001b[0m \u001b[0mdefault\u001b[0m\u001b[1;33m:\u001b[0m \u001b[0m_VT\u001b[0m\u001b[1;33m)\u001b[0m \u001b[1;33m->\u001b[0m \u001b[0m_VT\u001b[0m\u001b[1;33m:\u001b[0m\u001b[1;33m\u001b[0m\u001b[1;33m\u001b[0m\u001b[0m\n",
      "\u001b[1;31mElementNotInteractableException\u001b[0m: Message: element not interactable\n  (Session info: chrome=101.0.4951.54)\nStacktrace:\nBacktrace:\n\tOrdinal0 [0x00F4B8F3+2406643]\n\tOrdinal0 [0x00EDAF31+1945393]\n\tOrdinal0 [0x00DCC610+837136]\n\tOrdinal0 [0x00DFA2D3+1024723]\n\tOrdinal0 [0x00DF0083+983171]\n\tOrdinal0 [0x00E1427C+1131132]\n\tOrdinal0 [0x00DEFA64+981604]\n\tOrdinal0 [0x00E14494+1131668]\n\tOrdinal0 [0x00E24682+1197698]\n\tOrdinal0 [0x00E14096+1130646]\n\tOrdinal0 [0x00DEE636+976438]\n\tOrdinal0 [0x00DEF546+980294]\n\tGetHandleVerifier [0x011B9612+2498066]\n\tGetHandleVerifier [0x011AC920+2445600]\n\tGetHandleVerifier [0x00FE4F2A+579370]\n\tGetHandleVerifier [0x00FE3D36+574774]\n\tOrdinal0 [0x00EE1C0B+1973259]\n\tOrdinal0 [0x00EE6688+1992328]\n\tOrdinal0 [0x00EE6775+1992565]\n\tOrdinal0 [0x00EEF8D1+2029777]\n\tBaseThreadInitThunk [0x769A6739+25]\n\tRtlGetFullPathName_UEx [0x77818FEF+1215]\n\tRtlGetFullPathName_UEx [0x77818FBD+1165]\n"
     ]
    }
   ],
   "source": [
    "search_button=driver.find_element_by_xpath(\"/html/body/div/div/div/main/section[1]/div[2]/div[1]/span/div/div/div[1]/div/div/p\")\n",
    "search_button.click()"
   ]
  },
  {
   "cell_type": "code",
   "execution_count": 125,
   "id": "992f70d7",
   "metadata": {},
   "outputs": [],
   "source": [
    "company_name=[]\n",
    "total_salary_record=[] \n",
    "average_salary=[] \n",
    "minimum_salary=[]\n",
    "maximum_salary=[]\n",
    "experience_required=[]"
   ]
  },
  {
   "cell_type": "code",
   "execution_count": 134,
   "id": "e46930b9",
   "metadata": {},
   "outputs": [],
   "source": [
    "for i in range (6):\n",
    "    companies_name=driver.find_elements_by_xpath(\"//div[@class='name']\")\n",
    "    total_salra=driver.find_elements_by_xpath(\"//div[@class='name']\")\n",
    "    average_sal=driver.find_elements_by_xpath(\"//p[@class='averageCtc']\")\n",
    "    mini_sal=driver.find_elements_by_xpath(\"//div[@class='value body-medium']\")\n",
    "    max_sal=driver.find_elements_by_xpath(\"//div[@class='value body-medium']\")\n",
    "    EXP_requir=driver.find_elements_by_xpath(\"//div[@class='salaries sbold-list-header']\")\n",
    "    \n",
    "    for j  in companies_name:\n",
    "        company_name.append(j.text)\n",
    "    company_name[:20]    \n",
    "    \n",
    "    \n",
    "    \n",
    "    for k in total_salra:\n",
    "        total_salary_record.append(k.text)\n",
    "    total_salary_record[:20] \n",
    "    \n",
    "    \n",
    "    for l in average_sal:\n",
    "        average_salary.append(l.text)\n",
    "    average_salary[:20]\n",
    "    \n",
    "    \n",
    "    for j  in mini_sal:\n",
    "        minimum_salary.append(j.text)\n",
    "    minimum_salary[:20]    \n",
    "    \n",
    "    \n",
    "    for k in max_sal:\n",
    "        maximum_salary.append(k.text)\n",
    "    maximum_salary[:20] \n",
    "    \n",
    "    \n",
    "    for l in EXP_requir:\n",
    "        experience_required.append(l.text)\n",
    "    experience_required[:20] \n",
    "    \n",
    "    \n",
    "    \n",
    "    "
   ]
  },
  {
   "cell_type": "code",
   "execution_count": 133,
   "id": "d7a4a522",
   "metadata": {},
   "outputs": [
    {
     "data": {
      "text/plain": [
       "['Walmart',\n",
       " 'Walmart',\n",
       " 'Walmart',\n",
       " 'Walmart',\n",
       " 'Walmart',\n",
       " 'Walmart',\n",
       " 'Walmart\\nbased on 11 salaries',\n",
       " 'Ab Inbev\\nbased on 32 salaries',\n",
       " 'Reliance Jio\\nbased on 10 salaries',\n",
       " 'ZS\\nbased on 15 salaries',\n",
       " 'Optum\\nbased on 27 salaries',\n",
       " 'Fractal Analytics\\nbased on 81 salaries',\n",
       " 'Tiger Analytics\\nbased on 46 salaries',\n",
       " 'UnitedHealth\\nbased on 53 salaries',\n",
       " 'Verizon\\nbased on 14 salaries',\n",
       " 'Ganit Business Solutions\\nbased on 13 salaries',\n",
       " 'Walmart\\nbased on 11 salaries',\n",
       " 'Ab Inbev\\nbased on 32 salaries',\n",
       " 'Reliance Jio\\nbased on 10 salaries',\n",
       " 'ZS\\nbased on 15 salaries']"
      ]
     },
     "execution_count": 133,
     "metadata": {},
     "output_type": "execute_result"
    }
   ],
   "source": [
    "  company_name[:20]  "
   ]
  },
  {
   "cell_type": "code",
   "execution_count": 138,
   "id": "fd893e45",
   "metadata": {},
   "outputs": [
    {
     "name": "stdout",
     "output_type": "stream",
     "text": [
      "20 20 20 20 20 20\n"
     ]
    }
   ],
   "source": [
    "print(len(company_name[:20]),len(total_salary_record[:20]),len(average_salary[:20]),len(minimum_salary[:20]),len(maximum_salary[:20]),len(experience_required[:20]))"
   ]
  },
  {
   "cell_type": "code",
   "execution_count": 139,
   "id": "9fd19dfe",
   "metadata": {},
   "outputs": [],
   "source": [
    "jobs=pd.DataFrame({})\n",
    "jobs['Company_Name']=company_name[:20]\n",
    "jobs['Total_SAL_REC']=total_salary_record[:20]\n",
    "jobs['Avarge_salaries']=average_salary[:20]\n",
    "jobs['Mini_Salary']=minimum_salary[:20]\n",
    "jobs['Max_salary']=maximum_salary[:20]\n",
    "jobs['Exp_required']=experience_required[:20]"
   ]
  },
  {
   "cell_type": "code",
   "execution_count": 140,
   "id": "c7d640f4",
   "metadata": {},
   "outputs": [
    {
     "data": {
      "text/html": [
       "<div>\n",
       "<style scoped>\n",
       "    .dataframe tbody tr th:only-of-type {\n",
       "        vertical-align: middle;\n",
       "    }\n",
       "\n",
       "    .dataframe tbody tr th {\n",
       "        vertical-align: top;\n",
       "    }\n",
       "\n",
       "    .dataframe thead th {\n",
       "        text-align: right;\n",
       "    }\n",
       "</style>\n",
       "<table border=\"1\" class=\"dataframe\">\n",
       "  <thead>\n",
       "    <tr style=\"text-align: right;\">\n",
       "      <th></th>\n",
       "      <th>Company_Name</th>\n",
       "      <th>Total_SAL_REC</th>\n",
       "      <th>Avarge_salaries</th>\n",
       "      <th>Mini_Salary</th>\n",
       "      <th>Max_salary</th>\n",
       "      <th>Exp_required</th>\n",
       "    </tr>\n",
       "  </thead>\n",
       "  <tbody>\n",
       "    <tr>\n",
       "      <th>0</th>\n",
       "      <td>Walmart</td>\n",
       "      <td>based on 11 salaries</td>\n",
       "      <td>₹ 29.7L\\n₹ 25.0L\\n₹ 35.0L</td>\n",
       "      <td>₹ 25.0L</td>\n",
       "      <td>₹ 25.0L</td>\n",
       "      <td>Data Scientist\\n . \\n3 yrs exp</td>\n",
       "    </tr>\n",
       "    <tr>\n",
       "      <th>1</th>\n",
       "      <td>Walmart</td>\n",
       "      <td>based on 11 salaries</td>\n",
       "      <td>₹ 29.7L\\n₹ 25.0L\\n₹ 35.0L</td>\n",
       "      <td>₹ 25.0L</td>\n",
       "      <td>₹ 25.0L</td>\n",
       "      <td>Data Scientist\\n . \\n3 yrs exp</td>\n",
       "    </tr>\n",
       "    <tr>\n",
       "      <th>2</th>\n",
       "      <td>Walmart</td>\n",
       "      <td>based on 11 salaries</td>\n",
       "      <td>₹ 29.7L\\n₹ 25.0L\\n₹ 35.0L</td>\n",
       "      <td>₹ 25.0L</td>\n",
       "      <td>₹ 25.0L</td>\n",
       "      <td>Data Scientist\\n . \\n3 yrs exp</td>\n",
       "    </tr>\n",
       "    <tr>\n",
       "      <th>3</th>\n",
       "      <td>Walmart</td>\n",
       "      <td>based on 11 salaries</td>\n",
       "      <td>₹ 29.7L\\n₹ 25.0L\\n₹ 35.0L</td>\n",
       "      <td>₹ 25.0L</td>\n",
       "      <td>₹ 25.0L</td>\n",
       "      <td>Data Scientist\\n . \\n3 yrs exp</td>\n",
       "    </tr>\n",
       "    <tr>\n",
       "      <th>4</th>\n",
       "      <td>Walmart</td>\n",
       "      <td>based on 11 salaries</td>\n",
       "      <td>₹ 29.7L\\n₹ 25.0L\\n₹ 35.0L</td>\n",
       "      <td>₹ 25.0L</td>\n",
       "      <td>₹ 25.0L</td>\n",
       "      <td>Data Scientist\\n . \\n3 yrs exp</td>\n",
       "    </tr>\n",
       "    <tr>\n",
       "      <th>5</th>\n",
       "      <td>Walmart</td>\n",
       "      <td>based on 11 salaries</td>\n",
       "      <td>₹ 29.7L\\n₹ 25.0L\\n₹ 35.0L</td>\n",
       "      <td>₹ 25.0L</td>\n",
       "      <td>₹ 25.0L</td>\n",
       "      <td>Data Scientist\\n . \\n3 yrs exp</td>\n",
       "    </tr>\n",
       "    <tr>\n",
       "      <th>6</th>\n",
       "      <td>Walmart\\nbased on 11 salaries</td>\n",
       "      <td>Walmart\\nbased on 11 salaries</td>\n",
       "      <td>₹ 29.7L</td>\n",
       "      <td>₹ 25.0L</td>\n",
       "      <td>₹ 25.0L</td>\n",
       "      <td>Data Scientist\\n . \\n3 yrs exp</td>\n",
       "    </tr>\n",
       "    <tr>\n",
       "      <th>7</th>\n",
       "      <td>Ab Inbev\\nbased on 32 salaries</td>\n",
       "      <td>Ab Inbev\\nbased on 32 salaries</td>\n",
       "      <td>₹ 20.5L</td>\n",
       "      <td>₹ 35.0L</td>\n",
       "      <td>₹ 35.0L</td>\n",
       "      <td>Data Scientist\\n . \\n3-4 yrs exp</td>\n",
       "    </tr>\n",
       "    <tr>\n",
       "      <th>8</th>\n",
       "      <td>Reliance Jio\\nbased on 10 salaries</td>\n",
       "      <td>Reliance Jio\\nbased on 10 salaries</td>\n",
       "      <td>₹ 18.9L</td>\n",
       "      <td>₹ 15.0L</td>\n",
       "      <td>₹ 15.0L</td>\n",
       "      <td>Data Scientist\\n . \\n4 yrs exp</td>\n",
       "    </tr>\n",
       "    <tr>\n",
       "      <th>9</th>\n",
       "      <td>ZS\\nbased on 15 salaries</td>\n",
       "      <td>ZS\\nbased on 15 salaries</td>\n",
       "      <td>₹ 15.9L</td>\n",
       "      <td>₹ 25.5L</td>\n",
       "      <td>₹ 25.5L</td>\n",
       "      <td>Data Scientist\\n . \\n2 yrs exp</td>\n",
       "    </tr>\n",
       "    <tr>\n",
       "      <th>10</th>\n",
       "      <td>Optum\\nbased on 27 salaries</td>\n",
       "      <td>Optum\\nbased on 27 salaries</td>\n",
       "      <td>₹ 15.2L</td>\n",
       "      <td>₹ 5.6L</td>\n",
       "      <td>₹ 5.6L</td>\n",
       "      <td>Data Scientist\\n . \\n3-4 yrs exp</td>\n",
       "    </tr>\n",
       "    <tr>\n",
       "      <th>11</th>\n",
       "      <td>Fractal Analytics\\nbased on 81 salaries</td>\n",
       "      <td>Fractal Analytics\\nbased on 81 salaries</td>\n",
       "      <td>₹ 15.2L</td>\n",
       "      <td>₹ 26.2L</td>\n",
       "      <td>₹ 26.2L</td>\n",
       "      <td>Data Scientist\\n . \\n2-4 yrs exp</td>\n",
       "    </tr>\n",
       "    <tr>\n",
       "      <th>12</th>\n",
       "      <td>Tiger Analytics\\nbased on 46 salaries</td>\n",
       "      <td>Tiger Analytics\\nbased on 46 salaries</td>\n",
       "      <td>₹ 14.8L</td>\n",
       "      <td>₹ 9.8L</td>\n",
       "      <td>₹ 9.8L</td>\n",
       "      <td>Data Scientist\\n . \\n2-4 yrs exp</td>\n",
       "    </tr>\n",
       "    <tr>\n",
       "      <th>13</th>\n",
       "      <td>UnitedHealth\\nbased on 53 salaries</td>\n",
       "      <td>UnitedHealth\\nbased on 53 salaries</td>\n",
       "      <td>₹ 14.0L</td>\n",
       "      <td>₹ 20.0L</td>\n",
       "      <td>₹ 20.0L</td>\n",
       "      <td>Data Scientist\\n . \\n2-4 yrs exp</td>\n",
       "    </tr>\n",
       "    <tr>\n",
       "      <th>14</th>\n",
       "      <td>Verizon\\nbased on 14 salaries</td>\n",
       "      <td>Verizon\\nbased on 14 salaries</td>\n",
       "      <td>₹ 12.7L</td>\n",
       "      <td>₹ 11.0L</td>\n",
       "      <td>₹ 11.0L</td>\n",
       "      <td>Data Scientist\\n . \\n4 yrs exp</td>\n",
       "    </tr>\n",
       "    <tr>\n",
       "      <th>15</th>\n",
       "      <td>Ganit Business Solutions\\nbased on 13 salaries</td>\n",
       "      <td>Ganit Business Solutions\\nbased on 13 salaries</td>\n",
       "      <td>₹ 12.4L</td>\n",
       "      <td>₹ 22.0L</td>\n",
       "      <td>₹ 22.0L</td>\n",
       "      <td>Data Scientist\\n . \\n4 yrs exp</td>\n",
       "    </tr>\n",
       "    <tr>\n",
       "      <th>16</th>\n",
       "      <td>Walmart\\nbased on 11 salaries</td>\n",
       "      <td>Walmart\\nbased on 11 salaries</td>\n",
       "      <td>₹ 29.7L</td>\n",
       "      <td>₹ 9.5L</td>\n",
       "      <td>₹ 9.5L</td>\n",
       "      <td>Data Scientist\\n . \\n3 yrs exp</td>\n",
       "    </tr>\n",
       "    <tr>\n",
       "      <th>17</th>\n",
       "      <td>Ab Inbev\\nbased on 32 salaries</td>\n",
       "      <td>Ab Inbev\\nbased on 32 salaries</td>\n",
       "      <td>₹ 20.5L</td>\n",
       "      <td>₹ 22.0L</td>\n",
       "      <td>₹ 22.0L</td>\n",
       "      <td>Data Scientist\\n . \\n3-4 yrs exp</td>\n",
       "    </tr>\n",
       "    <tr>\n",
       "      <th>18</th>\n",
       "      <td>Reliance Jio\\nbased on 10 salaries</td>\n",
       "      <td>Reliance Jio\\nbased on 10 salaries</td>\n",
       "      <td>₹ 18.9L</td>\n",
       "      <td>₹ 9.0L</td>\n",
       "      <td>₹ 9.0L</td>\n",
       "      <td>Data Scientist\\n . \\n4 yrs exp</td>\n",
       "    </tr>\n",
       "    <tr>\n",
       "      <th>19</th>\n",
       "      <td>ZS\\nbased on 15 salaries</td>\n",
       "      <td>ZS\\nbased on 15 salaries</td>\n",
       "      <td>₹ 15.9L</td>\n",
       "      <td>₹ 20.0L</td>\n",
       "      <td>₹ 20.0L</td>\n",
       "      <td>Data Scientist\\n . \\n2 yrs exp</td>\n",
       "    </tr>\n",
       "  </tbody>\n",
       "</table>\n",
       "</div>"
      ],
      "text/plain": [
       "                                      Company_Name  \\\n",
       "0                                          Walmart   \n",
       "1                                          Walmart   \n",
       "2                                          Walmart   \n",
       "3                                          Walmart   \n",
       "4                                          Walmart   \n",
       "5                                          Walmart   \n",
       "6                    Walmart\\nbased on 11 salaries   \n",
       "7                   Ab Inbev\\nbased on 32 salaries   \n",
       "8               Reliance Jio\\nbased on 10 salaries   \n",
       "9                         ZS\\nbased on 15 salaries   \n",
       "10                     Optum\\nbased on 27 salaries   \n",
       "11         Fractal Analytics\\nbased on 81 salaries   \n",
       "12           Tiger Analytics\\nbased on 46 salaries   \n",
       "13              UnitedHealth\\nbased on 53 salaries   \n",
       "14                   Verizon\\nbased on 14 salaries   \n",
       "15  Ganit Business Solutions\\nbased on 13 salaries   \n",
       "16                   Walmart\\nbased on 11 salaries   \n",
       "17                  Ab Inbev\\nbased on 32 salaries   \n",
       "18              Reliance Jio\\nbased on 10 salaries   \n",
       "19                        ZS\\nbased on 15 salaries   \n",
       "\n",
       "                                     Total_SAL_REC            Avarge_salaries  \\\n",
       "0                             based on 11 salaries  ₹ 29.7L\\n₹ 25.0L\\n₹ 35.0L   \n",
       "1                             based on 11 salaries  ₹ 29.7L\\n₹ 25.0L\\n₹ 35.0L   \n",
       "2                             based on 11 salaries  ₹ 29.7L\\n₹ 25.0L\\n₹ 35.0L   \n",
       "3                             based on 11 salaries  ₹ 29.7L\\n₹ 25.0L\\n₹ 35.0L   \n",
       "4                             based on 11 salaries  ₹ 29.7L\\n₹ 25.0L\\n₹ 35.0L   \n",
       "5                             based on 11 salaries  ₹ 29.7L\\n₹ 25.0L\\n₹ 35.0L   \n",
       "6                    Walmart\\nbased on 11 salaries                    ₹ 29.7L   \n",
       "7                   Ab Inbev\\nbased on 32 salaries                    ₹ 20.5L   \n",
       "8               Reliance Jio\\nbased on 10 salaries                    ₹ 18.9L   \n",
       "9                         ZS\\nbased on 15 salaries                    ₹ 15.9L   \n",
       "10                     Optum\\nbased on 27 salaries                    ₹ 15.2L   \n",
       "11         Fractal Analytics\\nbased on 81 salaries                    ₹ 15.2L   \n",
       "12           Tiger Analytics\\nbased on 46 salaries                    ₹ 14.8L   \n",
       "13              UnitedHealth\\nbased on 53 salaries                    ₹ 14.0L   \n",
       "14                   Verizon\\nbased on 14 salaries                    ₹ 12.7L   \n",
       "15  Ganit Business Solutions\\nbased on 13 salaries                    ₹ 12.4L   \n",
       "16                   Walmart\\nbased on 11 salaries                    ₹ 29.7L   \n",
       "17                  Ab Inbev\\nbased on 32 salaries                    ₹ 20.5L   \n",
       "18              Reliance Jio\\nbased on 10 salaries                    ₹ 18.9L   \n",
       "19                        ZS\\nbased on 15 salaries                    ₹ 15.9L   \n",
       "\n",
       "   Mini_Salary Max_salary                      Exp_required  \n",
       "0      ₹ 25.0L    ₹ 25.0L    Data Scientist\\n . \\n3 yrs exp  \n",
       "1      ₹ 25.0L    ₹ 25.0L    Data Scientist\\n . \\n3 yrs exp  \n",
       "2      ₹ 25.0L    ₹ 25.0L    Data Scientist\\n . \\n3 yrs exp  \n",
       "3      ₹ 25.0L    ₹ 25.0L    Data Scientist\\n . \\n3 yrs exp  \n",
       "4      ₹ 25.0L    ₹ 25.0L    Data Scientist\\n . \\n3 yrs exp  \n",
       "5      ₹ 25.0L    ₹ 25.0L    Data Scientist\\n . \\n3 yrs exp  \n",
       "6      ₹ 25.0L    ₹ 25.0L    Data Scientist\\n . \\n3 yrs exp  \n",
       "7      ₹ 35.0L    ₹ 35.0L  Data Scientist\\n . \\n3-4 yrs exp  \n",
       "8      ₹ 15.0L    ₹ 15.0L    Data Scientist\\n . \\n4 yrs exp  \n",
       "9      ₹ 25.5L    ₹ 25.5L    Data Scientist\\n . \\n2 yrs exp  \n",
       "10      ₹ 5.6L     ₹ 5.6L  Data Scientist\\n . \\n3-4 yrs exp  \n",
       "11     ₹ 26.2L    ₹ 26.2L  Data Scientist\\n . \\n2-4 yrs exp  \n",
       "12      ₹ 9.8L     ₹ 9.8L  Data Scientist\\n . \\n2-4 yrs exp  \n",
       "13     ₹ 20.0L    ₹ 20.0L  Data Scientist\\n . \\n2-4 yrs exp  \n",
       "14     ₹ 11.0L    ₹ 11.0L    Data Scientist\\n . \\n4 yrs exp  \n",
       "15     ₹ 22.0L    ₹ 22.0L    Data Scientist\\n . \\n4 yrs exp  \n",
       "16      ₹ 9.5L     ₹ 9.5L    Data Scientist\\n . \\n3 yrs exp  \n",
       "17     ₹ 22.0L    ₹ 22.0L  Data Scientist\\n . \\n3-4 yrs exp  \n",
       "18      ₹ 9.0L     ₹ 9.0L    Data Scientist\\n . \\n4 yrs exp  \n",
       "19     ₹ 20.0L    ₹ 20.0L    Data Scientist\\n . \\n2 yrs exp  "
      ]
     },
     "execution_count": 140,
     "metadata": {},
     "output_type": "execute_result"
    }
   ],
   "source": [
    "jobs"
   ]
  },
  {
   "cell_type": "raw",
   "id": "4b9ceb86",
   "metadata": {},
   "source": [
    "MAX_SALARY tag not found"
   ]
  }
 ],
 "metadata": {
  "kernelspec": {
   "display_name": "Python 3 (ipykernel)",
   "language": "python",
   "name": "python3"
  },
  "language_info": {
   "codemirror_mode": {
    "name": "ipython",
    "version": 3
   },
   "file_extension": ".py",
   "mimetype": "text/x-python",
   "name": "python",
   "nbconvert_exporter": "python",
   "pygments_lexer": "ipython3",
   "version": "3.9.7"
  }
 },
 "nbformat": 4,
 "nbformat_minor": 5
}
